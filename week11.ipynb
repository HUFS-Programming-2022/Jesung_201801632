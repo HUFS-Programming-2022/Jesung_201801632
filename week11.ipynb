{
 "cells": [
  {
   "cell_type": "markdown",
   "id": "200f8a84",
   "metadata": {},
   "source": [
    "# 🔔Week11"
   ]
  },
  {
   "cell_type": "markdown",
   "id": "30caf46c",
   "metadata": {},
   "source": [
    "## 객체 II\n",
    "- 상속 (inheritance)\n",
    "- 재사용할 때, A vs. B\n",
    "    - \"A의 대부분을 쓰고, 나머지를 추가, 변경하고 싶다.\"\n",
    "    - 부모의 모든 속성을 그대로 가져와서 쓰겠다.\n",
    "- 반복되는 부분을 가져오겠다. 물려받겠다.\n",
    "- A <- B\n",
    "    - A \"부모, 슈퍼, 베이스\"\n",
    "    - B \"자식, 서브, derived\"\n",
    "- 자식클래스는 부모클래스를 구체화한다.\n",
    "- is-a 관계: Car is-a Vehicle (포함된다)"
   ]
  },
  {
   "cell_type": "code",
   "execution_count": 1,
   "id": "df4b9ed6",
   "metadata": {},
   "outputs": [],
   "source": [
    "class Vehicle: # parent, super\n",
    "    def __init__(self, speed):\n",
    "        self.speed = speed\n",
    "        \n",
    "    def go(self):\n",
    "        print(f\"{self.speed}의 속도로 달린다.\")\n",
    "    \n",
    "# child\n",
    "class Car(Vehicle): # child, sub\n",
    "    pass"
   ]
  },
  {
   "cell_type": "code",
   "execution_count": 2,
   "id": "3026324b",
   "metadata": {},
   "outputs": [],
   "source": [
    "car = Car('20km/h')"
   ]
  },
  {
   "cell_type": "code",
   "execution_count": 3,
   "id": "efac2797",
   "metadata": {},
   "outputs": [
    {
     "name": "stdout",
     "output_type": "stream",
     "text": [
      "20km/h의 속도로 달린다.\n"
     ]
    }
   ],
   "source": [
    "car.go()"
   ]
  },
  {
   "cell_type": "markdown",
   "id": "ccce0df1",
   "metadata": {},
   "source": [
    "### 변수 추가, 변경"
   ]
  },
  {
   "cell_type": "code",
   "execution_count": 6,
   "id": "04c1f347",
   "metadata": {},
   "outputs": [],
   "source": [
    "class Car(Vehicle): # child, sub\n",
    "    def __init__(self, speed, brand):\n",
    "        # speed == 부모\n",
    "        super().__init__(speed) # Vehicle().speed\n",
    "        # brand == 자식\n",
    "        self.brand = brand # 부모에는 없는 고유한 특성"
   ]
  },
  {
   "cell_type": "code",
   "execution_count": 7,
   "id": "954b99b4",
   "metadata": {},
   "outputs": [
    {
     "data": {
      "text/plain": [
       "'kia'"
      ]
     },
     "execution_count": 7,
     "metadata": {},
     "output_type": "execute_result"
    }
   ],
   "source": [
    "car2 = Car('25km/h', 'kia')\n",
    "car2.brand"
   ]
  },
  {
   "cell_type": "code",
   "execution_count": 8,
   "id": "508356dd",
   "metadata": {},
   "outputs": [
    {
     "ename": "AttributeError",
     "evalue": "'Vehicle' object has no attribute 'brand'",
     "output_type": "error",
     "traceback": [
      "\u001b[1;31m---------------------------------------------------------------------------\u001b[0m",
      "\u001b[1;31mAttributeError\u001b[0m                            Traceback (most recent call last)",
      "\u001b[1;32m~\\AppData\\Local\\Temp/ipykernel_15836/2523586206.py\u001b[0m in \u001b[0;36m<module>\u001b[1;34m\u001b[0m\n\u001b[0;32m      1\u001b[0m \u001b[0mv\u001b[0m \u001b[1;33m=\u001b[0m \u001b[0mVehicle\u001b[0m\u001b[1;33m(\u001b[0m\u001b[1;34m'33km/h'\u001b[0m\u001b[1;33m)\u001b[0m\u001b[1;33m\u001b[0m\u001b[1;33m\u001b[0m\u001b[0m\n\u001b[1;32m----> 2\u001b[1;33m \u001b[0mv\u001b[0m\u001b[1;33m.\u001b[0m\u001b[0mbrand\u001b[0m \u001b[1;31m# 존재하지 않음\u001b[0m\u001b[1;33m\u001b[0m\u001b[1;33m\u001b[0m\u001b[0m\n\u001b[0m",
      "\u001b[1;31mAttributeError\u001b[0m: 'Vehicle' object has no attribute 'brand'"
     ]
    }
   ],
   "source": [
    "v = Vehicle('33km/h')\n",
    "v.brand # 존재하지 않음"
   ]
  },
  {
   "cell_type": "markdown",
   "id": "0c6aec0f",
   "metadata": {},
   "source": [
    "### 메소드 추가, 변경"
   ]
  },
  {
   "cell_type": "code",
   "execution_count": 9,
   "id": "0840f026",
   "metadata": {},
   "outputs": [],
   "source": [
    "class Car(Vehicle): # child, sub\n",
    "    def __init__(self, speed, brand):\n",
    "        super().__init__(speed)\n",
    "        self.brand = brand # 고유한 특성\n",
    "        \n",
    "        # 오버라이드(override): 재정의\n",
    "    def go(self):\n",
    "        # 부모의 go도 함께 가져갈 수 있음\n",
    "        super().go()\n",
    "        print(f\"차종 {self.brand}의 속도 {self.speed}\")\n",
    "        \n",
    "        # 메소드 추가\n",
    "    def stop(self):\n",
    "        pass"
   ]
  },
  {
   "cell_type": "code",
   "execution_count": 12,
   "id": "c0d04ffd",
   "metadata": {},
   "outputs": [
    {
     "name": "stdout",
     "output_type": "stream",
     "text": [
      "50km/h의 속도로 달린다.\n",
      "차종 bmw의 속도 50km/h\n"
     ]
    }
   ],
   "source": [
    "car3 = Car('50km/h', 'bmw')\n",
    "car3.go()"
   ]
  },
  {
   "cell_type": "markdown",
   "id": "ba1f3d75",
   "metadata": {},
   "source": [
    "### 실습"
   ]
  },
  {
   "cell_type": "code",
   "execution_count": 15,
   "id": "c2f83237",
   "metadata": {},
   "outputs": [],
   "source": [
    "class Person:\n",
    "    def __init__(self, name):\n",
    "        self.name = name # pablo\n",
    "\n",
    "#--------------------------------\n",
    "class Doctor(Person): # Dr.pablo\n",
    "    def __init__(self, name):\n",
    "        super().__init__(name)\n",
    "        self.name = \"Dr.\" + name\n",
    "        \n",
    "class Male(Person): # Mr.pablo\n",
    "    def __init__(self, name):\n",
    "        super().__init__('Mr.' + name)\n",
    "\n",
    "class Female(Person): # Mrs.pablo\n",
    "    def __init__(self, name):\n",
    "        super().__init__('Mrs.' + name)"
   ]
  },
  {
   "cell_type": "code",
   "execution_count": 16,
   "id": "68334796",
   "metadata": {},
   "outputs": [
    {
     "data": {
      "text/plain": [
       "'Dr.pablo'"
      ]
     },
     "execution_count": 16,
     "metadata": {},
     "output_type": "execute_result"
    }
   ],
   "source": [
    "p = Doctor('pablo')\n",
    "p.name"
   ]
  },
  {
   "cell_type": "code",
   "execution_count": 18,
   "id": "7f01d8d5",
   "metadata": {},
   "outputs": [
    {
     "data": {
      "text/plain": [
       "'Mrs.pablo'"
      ]
     },
     "execution_count": 18,
     "metadata": {},
     "output_type": "execute_result"
    }
   ],
   "source": [
    "p1 = Female('pablo')\n",
    "p1.name"
   ]
  },
  {
   "cell_type": "markdown",
   "id": "59c07527",
   "metadata": {},
   "source": [
    "### 다중상속\n",
    "- method resolution order (MRO)\n",
    "- Animal <- Horse <- Donkey\n",
    "        <- Mule (Donkey > Horse)\n",
    "        <- Hinny (Horse > Donkey)"
   ]
  },
  {
   "cell_type": "code",
   "execution_count": 1,
   "id": "8b71d3df",
   "metadata": {},
   "outputs": [],
   "source": [
    "class Animal:\n",
    "    def says(self):\n",
    "        return '동물이 운다.'\n",
    "    \n",
    "# 자식\n",
    "class Horse(Animal):\n",
    "    def says(self):\n",
    "        # super().says() 불러오지 않으면 잊혀짐\n",
    "        return '히히힝'\n",
    "    \n",
    "class Donkey(Animal):\n",
    "    def says(self):\n",
    "        return '히이호'\n",
    "    \n",
    "# 손주\n",
    "class Mule(Donkey, Horse):\n",
    "    pass\n",
    "\n",
    "class Hinny(Horse, Donkey):\n",
    "    pass"
   ]
  },
  {
   "cell_type": "code",
   "execution_count": 2,
   "id": "37fd1a56",
   "metadata": {},
   "outputs": [
    {
     "data": {
      "text/plain": [
       "'히이호'"
      ]
     },
     "execution_count": 2,
     "metadata": {},
     "output_type": "execute_result"
    }
   ],
   "source": [
    "m = Mule()\n",
    "m.says()"
   ]
  },
  {
   "cell_type": "code",
   "execution_count": 4,
   "id": "611ace2a",
   "metadata": {},
   "outputs": [
    {
     "data": {
      "text/plain": [
       "'히히힝'"
      ]
     },
     "execution_count": 4,
     "metadata": {},
     "output_type": "execute_result"
    }
   ],
   "source": [
    "Hinny().says()"
   ]
  },
  {
   "cell_type": "code",
   "execution_count": 5,
   "id": "0bd98b91",
   "metadata": {},
   "outputs": [
    {
     "data": {
      "text/plain": [
       "[__main__.Mule, __main__.Donkey, __main__.Horse, __main__.Animal, object]"
      ]
     },
     "execution_count": 5,
     "metadata": {},
     "output_type": "execute_result"
    }
   ],
   "source": [
    "Mule.mro() # 뭐가 가장 가까운지 뜸"
   ]
  },
  {
   "cell_type": "markdown",
   "id": "fb59b029",
   "metadata": {},
   "source": [
    "### 다형성\n",
    "- 형태는 다르지만 기능은 같다.\n",
    "- 객체가 다른데도 같은 메소드를 가지고 있으면 같은 기능 수행할 수 있다."
   ]
  },
  {
   "cell_type": "code",
   "execution_count": 6,
   "id": "cadaf6c8",
   "metadata": {},
   "outputs": [
    {
     "name": "stdout",
     "output_type": "stream",
     "text": [
      "히이호\n",
      "히이호\n",
      "동물이 운다.\n"
     ]
    }
   ],
   "source": [
    "for animal in [Mule(), Donkey(), Animal()]:\n",
    "    print(animal.says())"
   ]
  },
  {
   "cell_type": "markdown",
   "id": "d0d9cff8",
   "metadata": {},
   "source": [
    "### 메소드 타입\n",
    "- 인스턴스 메서드\n",
    "    - self가 1번 인자\n",
    "    - 객체 생성 -> 사용 가능\n",
    "- 클래스 메서드\n",
    "    - 객체 생성하지 않아도 사용 가능\n",
    "    - 클래스에 접근하는 메서드\n",
    "    - @classmethod\n",
    "    - 예약어: cls\n",
    "    - 함수(cls)가 첫 인자\n",
    "    - class Person, cls == Person\n",
    "- 정적 메서드\n",
    "    - 객체 생성하지 않고 접근 가능\n",
    "    - 클래스랑 전혀 상관이 없기 때문에 접근 가능한 것\n",
    "    - 내용, 기능이 비슷해서 클래스 내에 묶어 둠\n",
    "- 추상 메서드\n",
    "    - 추상 클래스: abstract 이름만 존재하는 클래스\n",
    "    - 설계도 역할\n",
    "    - 상속하는 자식클래스 => 반드시 구현해야 하는 메소드를 정의한다."
   ]
  },
  {
   "cell_type": "code",
   "execution_count": 7,
   "id": "96aebb88",
   "metadata": {},
   "outputs": [
    {
     "data": {
      "text/plain": [
       "'히이호'"
      ]
     },
     "execution_count": 7,
     "metadata": {},
     "output_type": "execute_result"
    }
   ],
   "source": [
    "m = Mule() # 객체 생성\n",
    "m.says()"
   ]
  },
  {
   "cell_type": "code",
   "execution_count": 8,
   "id": "45a11dc6",
   "metadata": {},
   "outputs": [
    {
     "ename": "TypeError",
     "evalue": "says() missing 1 required positional argument: 'self'",
     "output_type": "error",
     "traceback": [
      "\u001b[1;31m---------------------------------------------------------------------------\u001b[0m",
      "\u001b[1;31mTypeError\u001b[0m                                 Traceback (most recent call last)",
      "\u001b[1;32m~\\AppData\\Local\\Temp/ipykernel_15444/596776595.py\u001b[0m in \u001b[0;36m<module>\u001b[1;34m\u001b[0m\n\u001b[1;32m----> 1\u001b[1;33m \u001b[0mMule\u001b[0m\u001b[1;33m.\u001b[0m\u001b[0msays\u001b[0m\u001b[1;33m(\u001b[0m\u001b[1;33m)\u001b[0m \u001b[1;31m# 객체 생성 안했기 때문에 오류 발생\u001b[0m\u001b[1;33m\u001b[0m\u001b[1;33m\u001b[0m\u001b[0m\n\u001b[0m",
      "\u001b[1;31mTypeError\u001b[0m: says() missing 1 required positional argument: 'self'"
     ]
    }
   ],
   "source": [
    "Mule.says() # 객체 생성 안했기 때문에 오류 발생"
   ]
  },
  {
   "cell_type": "code",
   "execution_count": 2,
   "id": "577ffeb0",
   "metadata": {},
   "outputs": [],
   "source": [
    "class A:\n",
    "    cnt = 0\n",
    "    \n",
    "    @classmethod\n",
    "    def move(cls): # class에 접근하므로 self가 아닌 cls\n",
    "        return cls.cnt"
   ]
  },
  {
   "cell_type": "code",
   "execution_count": 3,
   "id": "94f9c174",
   "metadata": {},
   "outputs": [
    {
     "data": {
      "text/plain": [
       "0"
      ]
     },
     "execution_count": 3,
     "metadata": {},
     "output_type": "execute_result"
    }
   ],
   "source": [
    "A().move()"
   ]
  },
  {
   "cell_type": "code",
   "execution_count": 4,
   "id": "dcca6a6c",
   "metadata": {},
   "outputs": [
    {
     "data": {
      "text/plain": [
       "0"
      ]
     },
     "execution_count": 4,
     "metadata": {},
     "output_type": "execute_result"
    }
   ],
   "source": [
    "A.move() # 바로 접근 가능"
   ]
  },
  {
   "cell_type": "code",
   "execution_count": 5,
   "id": "a7fa7580",
   "metadata": {},
   "outputs": [],
   "source": [
    "class Person:\n",
    "    def __init__(self, name, age): # self -> p\n",
    "        self.name = name\n",
    "        self.age = age\n",
    "        \n",
    "    @classmethod\n",
    "    def tuple_object(cls, args): # cls -> Person\n",
    "        return cls(args[0], args[1]) # Person()\n",
    "    \n",
    "name = 'kim'\n",
    "age = 24\n",
    "# p = Person(name, age)\n",
    "\n",
    "info = name, age\n",
    "p = Person.tuple_object(info) # p객체 생성하게"
   ]
  },
  {
   "cell_type": "code",
   "execution_count": 6,
   "id": "0a2977a2",
   "metadata": {},
   "outputs": [
    {
     "data": {
      "text/plain": [
       "'kim'"
      ]
     },
     "execution_count": 6,
     "metadata": {},
     "output_type": "execute_result"
    }
   ],
   "source": [
    "p.name"
   ]
  },
  {
   "cell_type": "code",
   "execution_count": 7,
   "id": "c145f80e",
   "metadata": {},
   "outputs": [
    {
     "data": {
      "text/plain": [
       "'객체 수: 4'"
      ]
     },
     "execution_count": 7,
     "metadata": {},
     "output_type": "execute_result"
    }
   ],
   "source": [
    "class A:\n",
    "    # 붕어빵 몇 개?\n",
    "    cnt = 0\n",
    "    \n",
    "    def __init__(self):\n",
    "        A.cnt += 1\n",
    "        \n",
    "    # cnt ++ 1\n",
    "    @classmethod\n",
    "    def count(cls):\n",
    "        return f'객체 수: {cls.cnt}'\n",
    "    \n",
    "A()\n",
    "A()\n",
    "A()\n",
    "A()\n",
    "A.count() # 4"
   ]
  },
  {
   "cell_type": "code",
   "execution_count": 8,
   "id": "98ed77ac",
   "metadata": {},
   "outputs": [],
   "source": [
    "class Coyote:\n",
    "    @staticmethod\n",
    "    def says(): # self 없음. 딕셔너리에 변수 저장하는 것과 비슷\n",
    "        print('hi')"
   ]
  },
  {
   "cell_type": "code",
   "execution_count": 9,
   "id": "a72940e3",
   "metadata": {},
   "outputs": [
    {
     "name": "stdout",
     "output_type": "stream",
     "text": [
      "hi\n"
     ]
    }
   ],
   "source": [
    "Coyote.says()"
   ]
  },
  {
   "cell_type": "code",
   "execution_count": 10,
   "id": "fba54d0f",
   "metadata": {},
   "outputs": [],
   "source": [
    "from abc import *\n",
    "\n",
    "class Vehicle(metaclass=ABCMeta):\n",
    "    # 추상 클래스 설정하는 방법\n",
    "    speed = ' 속도'\n",
    "    \n",
    "    @abstractmethod\n",
    "    def go(self):\n",
    "        print(\"탈 것이 간다.\")\n",
    "    '''\n",
    "    def stop(self):\n",
    "        pass\n",
    "    '''\n",
    "    \n",
    "class Car(Vehicle):\n",
    "    def go(self):\n",
    "        print(\"\")"
   ]
  },
  {
   "cell_type": "code",
   "execution_count": 11,
   "id": "982fc1a5",
   "metadata": {},
   "outputs": [
    {
     "data": {
      "text/plain": [
       "<__main__.Car at 0x274667e4280>"
      ]
     },
     "execution_count": 11,
     "metadata": {},
     "output_type": "execute_result"
    }
   ],
   "source": [
    "Car()"
   ]
  },
  {
   "cell_type": "code",
   "execution_count": null,
   "id": "2c5b2ad2",
   "metadata": {},
   "outputs": [],
   "source": []
  }
 ],
 "metadata": {
  "kernelspec": {
   "display_name": "Python 3 (ipykernel)",
   "language": "python",
   "name": "python3"
  },
  "language_info": {
   "codemirror_mode": {
    "name": "ipython",
    "version": 3
   },
   "file_extension": ".py",
   "mimetype": "text/x-python",
   "name": "python",
   "nbconvert_exporter": "python",
   "pygments_lexer": "ipython3",
   "version": "3.9.7"
  }
 },
 "nbformat": 4,
 "nbformat_minor": 5
}
