{
 "cells": [
  {
   "cell_type": "markdown",
   "id": "677e6d40",
   "metadata": {},
   "source": [
    "# 🔔 Week 3"
   ]
  },
  {
   "cell_type": "markdown",
   "id": "7b6b342a",
   "metadata": {},
   "source": [
    "## 중첩조건문 | nested conditional\n",
    "- if 블록 안에 또 if 블록이 만들어지는 경우\n",
    "    - ex) if ... :\n",
    "            \n",
    "                if ... :\n",
    "                    if ... :\n",
    "                    \n",
    "    - 들여쓰기로 구분\n",
    "    - 조건이 여러 개일 경우 사용\n",
    "    - 더 깔끔한 코딩을 위해 사용 지양. 다른 방법 강구"
   ]
  },
  {
   "cell_type": "code",
   "execution_count": 1,
   "id": "7a6c6ad4",
   "metadata": {},
   "outputs": [
    {
     "name": "stdout",
     "output_type": "stream",
     "text": [
      "Block C\n"
     ]
    }
   ],
   "source": [
    "x = 10\n",
    "y = 7\n",
    "\n",
    "if x == y:\n",
    "    print(\"Block A\")\n",
    "else:\n",
    "    if x < y:\n",
    "        print(\"Block B\")\n",
    "    else:\n",
    "        print(\"Block C\")"
   ]
  },
  {
   "cell_type": "code",
   "execution_count": 2,
   "id": "fae0915d",
   "metadata": {},
   "outputs": [
    {
     "name": "stdout",
     "output_type": "stream",
     "text": [
      "A\n",
      "C\n"
     ]
    }
   ],
   "source": [
    "if x > 0:\n",
    "    print('A')\n",
    "    if x < 10:\n",
    "        print('B')\n",
    "    else:\n",
    "        print('C')\n",
    "else:\n",
    "    print('D')"
   ]
  },
  {
   "cell_type": "code",
   "execution_count": null,
   "id": "7ee0044a",
   "metadata": {},
   "outputs": [],
   "source": [
    "# 방법 1. 논리연산자를 사용\n",
    "if x > and x < 10:\n",
    "    # A\n",
    "else:\n",
    "    # B\n",
    "\n",
    "# 방법 2. 하나의 식. 파이썬에서만 가능.\n",
    "if 0 < x < 10:\n",
    "    # A\n",
    "else:\n",
    "    # B"
   ]
  },
  {
   "cell_type": "markdown",
   "id": "69d9474e",
   "metadata": {},
   "source": [
    "### 논리연산자\n",
    "- 비교연산 조건을 여러 번 사용하는 경우\n",
    "    - x > 0, x < 10\n",
    "- and, or, not\n",
    "    - A and B: A 그리고 B, A B 둘다 참일 때 True (&)\n",
    "    - A or B: A 혹은 B, 둘 중 하나만 참이면 True (|)\n",
    "    - not A: A가 참이면 False, A가 거짓이면 True (~)"
   ]
  },
  {
   "cell_type": "markdown",
   "id": "25fd10a3",
   "metadata": {},
   "source": [
    "### True/False\n",
    "- A = True\n",
    "- \"만약 A가 참이면, ...\""
   ]
  },
  {
   "cell_type": "code",
   "execution_count": null,
   "id": "62629a97",
   "metadata": {},
   "outputs": [],
   "source": [
    "if a == True: # (X)\n",
    "    print()\n",
    "if a: # (O)\n",
    "    print()"
   ]
  },
  {
   "cell_type": "markdown",
   "id": "0bcce98b",
   "metadata": {},
   "source": [
    "### in\n",
    "- membership operator\n",
    "- 요소가 안에 포함되어 있는가 or 비슷한 조건문이 여러 개일 경우\n",
    "- A in B : A가 B에 포함되어 있는가"
   ]
  },
  {
   "cell_type": "code",
   "execution_count": 6,
   "id": "21216036",
   "metadata": {},
   "outputs": [
    {
     "name": "stdout",
     "output_type": "stream",
     "text": [
      "자음\n"
     ]
    }
   ],
   "source": [
    "# ex1. 모음인지 아닌지 판별하라 (a, e, i, o, u)\n",
    "letter = 'c'\n",
    "#if letter == 'a' or letter == 'e', ...\n",
    "if letter in ['a', 'e', 'i', 'o', 'u']:\n",
    "    print(\"모음\")\n",
    "else: \n",
    "    print(\"자음\")"
   ]
  },
  {
   "cell_type": "code",
   "execution_count": 9,
   "id": "1632f55d",
   "metadata": {},
   "outputs": [
    {
     "name": "stdout",
     "output_type": "stream",
     "text": [
      "yes\n"
     ]
    }
   ],
   "source": [
    "# 단어에 모음이 있는지 확인\n",
    "word = 'concrete'\n",
    "if 'a' or 'e' or 'i' or 'o' or 'u' in word:\n",
    "    print(\"yes\")"
   ]
  },
  {
   "cell_type": "markdown",
   "id": "1231a6c9",
   "metadata": {},
   "source": [
    "### 코끼리연산자\n",
    "- walrus operator\n",
    "- :=\n",
    "- 할당 + 테스트 동시에 하는 기능"
   ]
  },
  {
   "cell_type": "code",
   "execution_count": 10,
   "id": "ce96e9e1",
   "metadata": {},
   "outputs": [
    {
     "data": {
      "text/plain": [
       "120"
      ]
     },
     "execution_count": 10,
     "metadata": {},
     "output_type": "execute_result"
    }
   ],
   "source": [
    "tweet_limit = 120\n",
    "tweet_string = 'say' * 40\n",
    "len(tweet_string)"
   ]
  },
  {
   "cell_type": "code",
   "execution_count": 11,
   "id": "3f000757",
   "metadata": {},
   "outputs": [
    {
     "name": "stdout",
     "output_type": "stream",
     "text": [
      "불가능\n"
     ]
    }
   ],
   "source": [
    "diff = tweet_limit - len(tweet_string)\n",
    "if diff > 0:\n",
    "    print(\"가능\")\n",
    "else:\n",
    "    print(\"불가능\")"
   ]
  },
  {
   "cell_type": "code",
   "execution_count": 12,
   "id": "c586946b",
   "metadata": {},
   "outputs": [
    {
     "name": "stdout",
     "output_type": "stream",
     "text": [
      "불가능\n"
     ]
    }
   ],
   "source": [
    "if diff:= tweet_limit - len(tweet_string) > 0:\n",
    "        print(\"가능\")\n",
    "else: print(\"불가능\")"
   ]
  },
  {
   "cell_type": "markdown",
   "id": "1d54221a",
   "metadata": {},
   "source": [
    "### Quiz 1.\n",
    "- 윤년을 구해봅시다.\n",
    "    - 연도 입력받는다.\n",
    "    - 4로 나눠지면 윤년\n",
    "    - 100으로 나눠지면 안된다.\n",
    "    - 400으로 나눠지면 윤년.\n",
    "- 출력: '{}년은 윤년입니다.' / '~아닙니다.'"
   ]
  },
  {
   "cell_type": "code",
   "execution_count": 17,
   "id": "ea12251c",
   "metadata": {},
   "outputs": [
    {
     "name": "stdout",
     "output_type": "stream",
     "text": [
      "연도를 입력하시오: 2200\n",
      "2200년은 윤년이 아닙니다.\n"
     ]
    }
   ],
   "source": [
    "year = int(input('연도를 입력하시오: '))\n",
    "if year % 4 == 0 and year % 100 != 0 or year % 400 == 0:\n",
    "    print(f\"{year}년은 윤년입니다.\")\n",
    "else:\n",
    "    print(f\"{year}년은 윤년이 아닙니다.\")"
   ]
  },
  {
   "cell_type": "markdown",
   "id": "d5913daa",
   "metadata": {},
   "source": [
    "## String | 문자열\n",
    "- 시스템에서 가장 작은 단위\n",
    "- 불변적인 성격을 가짐. immutable\n",
    "    - 예: leg -> lag (x)\n",
    "- '나 \"로 선언함.\n",
    "    - 예: \"안녕\" '3.14'\n",
    "    - ''', \"\"\" 는 주석\n",
    "    - str()로 형변환 가능"
   ]
  },
  {
   "cell_type": "markdown",
   "id": "d5f738a7",
   "metadata": {},
   "source": [
    "### escape character | 이스케이프 문자\n",
    "- 특수한 형태의 문자열, 눈에 보이는 대로 인식되지 않는 문자\n",
    "- \\ + ch\n",
    "- 예: \\n, \\t, \\b, \\', \\\", ...\n",
    "    - \\n 출력하고 싶은 경우 r\" 사용\n",
    "- 다른 스트링을 만드는 것이 아님."
   ]
  },
  {
   "cell_type": "code",
   "execution_count": 19,
   "id": "179c630b",
   "metadata": {},
   "outputs": [
    {
     "name": "stdout",
     "output_type": "stream",
     "text": [
      "Hello\\nWorld\n"
     ]
    }
   ],
   "source": [
    "sentence = r'Hello\\nWorld'\n",
    "print(sentence)"
   ]
  },
  {
   "cell_type": "code",
   "execution_count": 21,
   "id": "f86aa14c",
   "metadata": {},
   "outputs": [
    {
     "data": {
      "text/plain": [
       "\"What's your name\""
      ]
     },
     "execution_count": 21,
     "metadata": {},
     "output_type": "execute_result"
    }
   ],
   "source": [
    "'What\\'s your name'"
   ]
  },
  {
   "cell_type": "code",
   "execution_count": 22,
   "id": "01ba8d4c",
   "metadata": {},
   "outputs": [
    {
     "name": "stdout",
     "output_type": "stream",
     "text": [
      "Hello\n",
      "World\n"
     ]
    }
   ],
   "source": [
    "sentence = 'Hello\\nWorld'\n",
    "print(sentence)"
   ]
  },
  {
   "cell_type": "markdown",
   "id": "7b691e68",
   "metadata": {},
   "source": [
    "### 연산\n",
    "- concatenatation\n",
    "    - \"+\" => 공백 없이 결합\n",
    "- 곱하기\n",
    "    - \"*10 => 복제"
   ]
  },
  {
   "cell_type": "code",
   "execution_count": 24,
   "id": "6efa4022",
   "metadata": {},
   "outputs": [
    {
     "data": {
      "text/plain": [
       "'day6day6'"
      ]
     },
     "execution_count": 24,
     "metadata": {},
     "output_type": "execute_result"
    }
   ],
   "source": [
    "band = 'day6'\n",
    "band + band"
   ]
  },
  {
   "cell_type": "code",
   "execution_count": 26,
   "id": "9d710acc",
   "metadata": {},
   "outputs": [
    {
     "data": {
      "text/plain": [
       "'day6day6day6day6day6day6'"
      ]
     },
     "execution_count": 26,
     "metadata": {},
     "output_type": "execute_result"
    }
   ],
   "source": [
    "band * 6"
   ]
  },
  {
   "cell_type": "code",
   "execution_count": 27,
   "id": "ba263b82",
   "metadata": {},
   "outputs": [
    {
     "ename": "TypeError",
     "evalue": "'str' object does not support item assignment",
     "output_type": "error",
     "traceback": [
      "\u001b[1;31m---------------------------------------------------------------------------\u001b[0m",
      "\u001b[1;31mTypeError\u001b[0m                                 Traceback (most recent call last)",
      "\u001b[1;32m~\\AppData\\Local\\Temp/ipykernel_12536/1963651741.py\u001b[0m in \u001b[0;36m<module>\u001b[1;34m\u001b[0m\n\u001b[0;32m      1\u001b[0m \u001b[1;31m# immutable\u001b[0m\u001b[1;33m\u001b[0m\u001b[1;33m\u001b[0m\u001b[0m\n\u001b[1;32m----> 2\u001b[1;33m \u001b[0mname\u001b[0m\u001b[1;33m[\u001b[0m\u001b[1;36m0\u001b[0m\u001b[1;33m]\u001b[0m \u001b[1;33m=\u001b[0m \u001b[1;34m'b'\u001b[0m\u001b[1;33m\u001b[0m\u001b[1;33m\u001b[0m\u001b[0m\n\u001b[0m",
      "\u001b[1;31mTypeError\u001b[0m: 'str' object does not support item assignment"
     ]
    }
   ],
   "source": [
    "# immutable\n",
    "name[0] = 'b'"
   ]
  },
  {
   "cell_type": "markdown",
   "id": "98d43176",
   "metadata": {},
   "source": [
    "### 슬라이싱, 추출\n",
    "- 문자열의 일부분을 떼어내는 작업\n",
    "- 대괄호 사용, 그 안에 오프셋 지정\n",
    "- 오프셋은 0부터 시작\n",
    "- 음수도 가능. -1은 맨 끝자리\n",
    "- [시작:끝:스텝] # step default는 1\n",
    "- 시작은 포함, 끝은 포함 X (이상 - 미만)"
   ]
  },
  {
   "cell_type": "code",
   "execution_count": 30,
   "id": "5219869d",
   "metadata": {},
   "outputs": [
    {
     "data": {
      "text/plain": [
       "'6'"
      ]
     },
     "execution_count": 30,
     "metadata": {},
     "output_type": "execute_result"
    }
   ],
   "source": [
    "band = 'day6'\n",
    "band[-1]"
   ]
  },
  {
   "cell_type": "code",
   "execution_count": 31,
   "id": "1a9b21e4",
   "metadata": {},
   "outputs": [
    {
     "data": {
      "text/plain": [
       "'Hello\\nWorld'"
      ]
     },
     "execution_count": 31,
     "metadata": {},
     "output_type": "execute_result"
    }
   ],
   "source": [
    "sentence"
   ]
  },
  {
   "cell_type": "code",
   "execution_count": 32,
   "id": "8dc2c175",
   "metadata": {},
   "outputs": [
    {
     "data": {
      "text/plain": [
       "'\\nW'"
      ]
     },
     "execution_count": 32,
     "metadata": {},
     "output_type": "execute_result"
    }
   ],
   "source": [
    "sentence[5:7]"
   ]
  },
  {
   "cell_type": "code",
   "execution_count": 33,
   "id": "c7072aa8",
   "metadata": {},
   "outputs": [
    {
     "data": {
      "text/plain": [
       "'Hello'"
      ]
     },
     "execution_count": 33,
     "metadata": {},
     "output_type": "execute_result"
    }
   ],
   "source": [
    "# 처음부터 4까지 출력\n",
    "sentence[:5]"
   ]
  },
  {
   "cell_type": "code",
   "execution_count": 34,
   "id": "8327bb2e",
   "metadata": {},
   "outputs": [
    {
     "data": {
      "text/plain": [
       "'HlWl'"
      ]
     },
     "execution_count": 34,
     "metadata": {},
     "output_type": "execute_result"
    }
   ],
   "source": [
    "# 처음부터 끝까지 3스텝씩 출력\n",
    "sentence[::3]"
   ]
  },
  {
   "cell_type": "code",
   "execution_count": 35,
   "id": "4a91506a",
   "metadata": {
    "scrolled": true
   },
   "outputs": [
    {
     "data": {
      "text/plain": [
       "'dlroW\\nolleH'"
      ]
     },
     "execution_count": 35,
     "metadata": {},
     "output_type": "execute_result"
    }
   ],
   "source": [
    "# 모든 글자 거꾸로 출력\n",
    "sentence[::-1]"
   ]
  },
  {
   "cell_type": "code",
   "execution_count": 38,
   "id": "8ba99a22",
   "metadata": {},
   "outputs": [
    {
     "data": {
      "text/plain": [
       "['izone', 'bts', 'shinee']"
      ]
     },
     "execution_count": 38,
     "metadata": {},
     "output_type": "execute_result"
    }
   ],
   "source": [
    "idols = ['izone', 'bts', 'shinee', 'itzy']\n",
    "idols[:3]"
   ]
  },
  {
   "cell_type": "markdown",
   "id": "458ca8d2",
   "metadata": {},
   "source": [
    "## NLTK\n",
    "- natural language toolkit\n",
    "- 자연어 분석을 위해 교육용으로 배포된 패키지\n",
    "- 내장함수, 기능들이 추가됨\n",
    "    - 토크나이즈, 파싱, 태깅, ..."
   ]
  },
  {
   "cell_type": "code",
   "execution_count": 39,
   "id": "e26bf427",
   "metadata": {},
   "outputs": [
    {
     "name": "stdout",
     "output_type": "stream",
     "text": [
      "Requirement already satisfied: nltk in c:\\programdata\\anaconda3\\lib\\site-packages (3.6.5)\n",
      "Requirement already satisfied: click in c:\\programdata\\anaconda3\\lib\\site-packages (from nltk) (8.0.3)\n",
      "Requirement already satisfied: joblib in c:\\programdata\\anaconda3\\lib\\site-packages (from nltk) (1.1.0)\n",
      "Requirement already satisfied: regex>=2021.8.3 in c:\\programdata\\anaconda3\\lib\\site-packages (from nltk) (2021.8.3)\n",
      "Requirement already satisfied: tqdm in c:\\programdata\\anaconda3\\lib\\site-packages (from nltk) (4.62.3)\n",
      "Requirement already satisfied: colorama in c:\\programdata\\anaconda3\\lib\\site-packages (from click->nltk) (0.4.4)\n"
     ]
    }
   ],
   "source": [
    "!pip install nltk"
   ]
  },
  {
   "cell_type": "code",
   "execution_count": 5,
   "id": "0efdb45e",
   "metadata": {},
   "outputs": [],
   "source": [
    "import nltk"
   ]
  },
  {
   "cell_type": "code",
   "execution_count": 6,
   "id": "c06103e9",
   "metadata": {},
   "outputs": [
    {
     "data": {
      "text/plain": [
       "True"
      ]
     },
     "execution_count": 6,
     "metadata": {},
     "output_type": "execute_result"
    }
   ],
   "source": [
    "nltk.download('book', quiet=True)"
   ]
  },
  {
   "cell_type": "code",
   "execution_count": 7,
   "id": "d5a1272e",
   "metadata": {},
   "outputs": [
    {
     "name": "stdout",
     "output_type": "stream",
     "text": [
      "*** Introductory Examples for the NLTK Book ***\n",
      "Loading text1, ..., text9 and sent1, ..., sent9\n",
      "Type the name of the text or sentence to view it.\n",
      "Type: 'texts()' or 'sents()' to list the materials.\n",
      "text1: Moby Dick by Herman Melville 1851\n",
      "text2: Sense and Sensibility by Jane Austen 1811\n",
      "text3: The Book of Genesis\n",
      "text4: Inaugural Address Corpus\n",
      "text5: Chat Corpus\n",
      "text6: Monty Python and the Holy Grail\n",
      "text7: Wall Street Journal\n",
      "text8: Personals Corpus\n",
      "text9: The Man Who Was Thursday by G . K . Chesterton 1908\n"
     ]
    }
   ],
   "source": [
    "from nltk import book"
   ]
  },
  {
   "cell_type": "code",
   "execution_count": 8,
   "id": "cb2c3cfc",
   "metadata": {},
   "outputs": [
    {
     "data": {
      "text/plain": [
       "['[',\n",
       " 'Moby',\n",
       " 'Dick',\n",
       " 'by',\n",
       " 'Herman',\n",
       " 'Melville',\n",
       " '1851',\n",
       " ']',\n",
       " 'ETYMOLOGY',\n",
       " '.',\n",
       " '(',\n",
       " 'Supplied',\n",
       " 'by',\n",
       " 'a',\n",
       " 'Late']"
      ]
     },
     "execution_count": 8,
     "metadata": {},
     "output_type": "execute_result"
    }
   ],
   "source": [
    "moby = book.text1\n",
    "moby.tokens[:15] # 토큰에 접근하는 방법\n",
    "# 토큰: 프로그래밍의 단어 단위 hello world, I'm not a coward.\n",
    "    # I'm / I, 'm / I, am"
   ]
  },
  {
   "cell_type": "code",
   "execution_count": 44,
   "id": "d42084d6",
   "metadata": {},
   "outputs": [
    {
     "data": {
      "text/plain": [
       "260819"
      ]
     },
     "execution_count": 44,
     "metadata": {},
     "output_type": "execute_result"
    }
   ],
   "source": [
    "#1. 길이 세기\n",
    "len(moby) # 약 26만 자"
   ]
  },
  {
   "cell_type": "code",
   "execution_count": 45,
   "id": "dfb8041c",
   "metadata": {},
   "outputs": [
    {
     "data": {
      "text/plain": [
       "19317"
      ]
     },
     "execution_count": 45,
     "metadata": {},
     "output_type": "execute_result"
    }
   ],
   "source": [
    "#2. 중복 X 단어 개수\n",
    "len(set(moby)) # 약 만구천 자 list -> set"
   ]
  },
  {
   "cell_type": "markdown",
   "id": "586394cd",
   "metadata": {},
   "source": [
    "- list\n",
    "    - ['a', a, True]\n",
    "    - 순서 있음\n",
    "    - 중복 허용\n",
    "    - list()\n",
    "- set\n",
    "    - {'a', 2, True}\n",
    "    - 순서 없음\n",
    "    - 중복 허용 X\n",
    "    - 수학의 집합 개념\n",
    "    - set()"
   ]
  },
  {
   "cell_type": "code",
   "execution_count": 11,
   "id": "6a45d752",
   "metadata": {},
   "outputs": [
    {
     "data": {
      "text/plain": [
       "['izone', 'bts', 'shinee', 'itzy', 'izone', 'itzy']"
      ]
     },
     "execution_count": 11,
     "metadata": {},
     "output_type": "execute_result"
    }
   ],
   "source": [
    "idols = ['izone', 'bts', 'shinee', 'itzy', 'izone', 'itzy']\n",
    "idols"
   ]
  },
  {
   "cell_type": "code",
   "execution_count": 12,
   "id": "d545189b",
   "metadata": {},
   "outputs": [
    {
     "data": {
      "text/plain": [
       "{'bts', 'itzy', 'izone', 'shinee'}"
      ]
     },
     "execution_count": 12,
     "metadata": {},
     "output_type": "execute_result"
    }
   ],
   "source": [
    "set(idols)"
   ]
  },
  {
   "cell_type": "code",
   "execution_count": 9,
   "id": "1ddfc977",
   "metadata": {},
   "outputs": [
    {
     "data": {
      "text/plain": [
       "0.07406285585022564"
      ]
     },
     "execution_count": 9,
     "metadata": {},
     "output_type": "execute_result"
    }
   ],
   "source": [
    "# lexical diversity\n",
    "len(set(moby)) / len(moby)"
   ]
  },
  {
   "cell_type": "code",
   "execution_count": 13,
   "id": "12a12cc0",
   "metadata": {},
   "outputs": [
    {
     "data": {
      "text/plain": [
       "['shinee', 'izone', 'izone', 'itzy', 'itzy', 'bts']"
      ]
     },
     "execution_count": 13,
     "metadata": {},
     "output_type": "execute_result"
    }
   ],
   "source": [
    "# 정렬\n",
    "sorted(idols, reverse=True)"
   ]
  },
  {
   "cell_type": "code",
   "execution_count": 46,
   "id": "9d03a87c",
   "metadata": {},
   "outputs": [
    {
     "data": {
      "text/plain": [
       "['(',\n",
       " '.',\n",
       " '1851',\n",
       " 'Dick',\n",
       " 'ETYMOLOGY',\n",
       " 'Herman',\n",
       " 'Late',\n",
       " 'Melville',\n",
       " 'Moby',\n",
       " 'Supplied',\n",
       " '[',\n",
       " ']',\n",
       " 'a',\n",
       " 'by',\n",
       " 'by']"
      ]
     },
     "execution_count": 46,
     "metadata": {},
     "output_type": "execute_result"
    }
   ],
   "source": [
    "# 오름차순 정렬이 디폴트! (문장부호 -> 숫자 -> 대문자 -> 소문자 순)\n",
    "sorted(moby[:15])"
   ]
  },
  {
   "cell_type": "code",
   "execution_count": 15,
   "id": "92dd59f9",
   "metadata": {},
   "outputs": [
    {
     "data": {
      "text/plain": [
       "['!', '!', '!', '!', '!', '!', '!', '!', '!', '!', '!', '!', '!', '!', '!']"
      ]
     },
     "execution_count": 15,
     "metadata": {},
     "output_type": "execute_result"
    }
   ],
   "source": [
    "sorted(moby)[:15]"
   ]
  },
  {
   "cell_type": "markdown",
   "id": "c94a366c",
   "metadata": {},
   "source": [
    "## Quiz 2.\n",
    "- text6 가져와서 토큰을 변수에 담고\n",
    "- 중복 없는 셋으로 저장하고 내림차순\n",
    "    - 앞에서 10개 단어 출력\n",
    "    - 단어에 z가 있으면 대문자로 바꾸시오\n",
    "    - z가 없는 4자 이상이면 끝 글자를 대문자로 바꾸라."
   ]
  },
  {
   "cell_type": "code",
   "execution_count": 52,
   "id": "ad80bf68",
   "metadata": {},
   "outputs": [
    {
     "name": "stdout",
     "output_type": "stream",
     "text": [
      "['zoosh', 'zoop', 'zoo', 'zone', 'zhiv', 'yourself', 'yours', 'your', 'young', 'you']\n"
     ]
    },
    {
     "data": {
      "text/plain": [
       "['ZOOSH',\n",
       " 'ZOOP',\n",
       " 'ZOO',\n",
       " 'ZONE',\n",
       " 'ZHIV',\n",
       " 'yourselF',\n",
       " 'yourS',\n",
       " 'youR',\n",
       " 'younG',\n",
       " 'yoU']"
      ]
     },
     "execution_count": 52,
     "metadata": {},
     "output_type": "execute_result"
    }
   ],
   "source": [
    "monty = book.text6\n",
    "monty_set = sorted(set(monty.tokens), reverse = True)[:10]\n",
    "print(monty_set)\n",
    "\n",
    "for i in range(len(monty_set)):\n",
    "    if 'z' in monty_set[i]:\n",
    "        monty_set[i] = monty_set[i].upper()\n",
    "    elif len(monty_set) >= 4:\n",
    "        monty_set[i] = monty_set[i][:-1] + monty_set[i][-1].upper()\n",
    "\n",
    "monty_set"
   ]
  },
  {
   "cell_type": "markdown",
   "id": "8fb14e39",
   "metadata": {},
   "source": [
    "## Quiz 3.\n",
    "- 주민번호, 휴대폰 번호, 이메일 주소 입력 받는다.\n",
    "- 주민번호, 휴대폰 번호는 숫자만 입력받는다. (- 없이)\n",
    "- 이메일 주소는 아이디만 입력받는다. (@xx 없이)\n",
    "    - 1.\"당신은 {}년 {}월 {}일 출생의 {남성/여성}입니다.\"\n",
    "    - 2. 휴대폰 번호: 000-0000-0000\n",
    "    - 3. 이메일 주소: xxxx@gmail.com"
   ]
  },
  {
   "cell_type": "code",
   "execution_count": 44,
   "id": "55e50ead",
   "metadata": {},
   "outputs": [
    {
     "name": "stdout",
     "output_type": "stream",
     "text": [
      "주민등록번호: 981212123456\n",
      "휴대폰 번호: 01066711234\n",
      "이메일 주소: hello1234\n",
      "당신은 98년 12월 12일 출생의 남성입니다.\n",
      "휴대폰 번호: 010-6671-1234\n",
      "이메일 주소: hello1234@gmail.com\n"
     ]
    }
   ],
   "source": [
    "resident = input('주민등록번호: ')\n",
    "phone = input('휴대폰 번호: ')\n",
    "email = input('이메일 주소: ')\n",
    "\n",
    "if resident[6] == '1' or resident[6] == '3':\n",
    "    gender = '남성'\n",
    "else:\n",
    "    gender = '여성'\n",
    "    \n",
    "print(f\"당신은 {resident[:2]}년 {resident[2:4]}월 {resident[4:6]}일 출생의 {gender}입니다.\")\n",
    "print(f\"휴대폰 번호: {phone[:3]}-{phone[3:7]}-{phone[7:]}\")\n",
    "print(f\"이메일 주소: {email}@gmail.com\")"
   ]
  },
  {
   "cell_type": "code",
   "execution_count": null,
   "id": "1daa9e01",
   "metadata": {},
   "outputs": [],
   "source": []
  }
 ],
 "metadata": {
  "kernelspec": {
   "display_name": "Python 3 (ipykernel)",
   "language": "python",
   "name": "python3"
  },
  "language_info": {
   "codemirror_mode": {
    "name": "ipython",
    "version": 3
   },
   "file_extension": ".py",
   "mimetype": "text/x-python",
   "name": "python",
   "nbconvert_exporter": "python",
   "pygments_lexer": "ipython3",
   "version": "3.9.7"
  }
 },
 "nbformat": 4,
 "nbformat_minor": 5
}
