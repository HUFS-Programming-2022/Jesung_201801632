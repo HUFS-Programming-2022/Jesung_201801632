{
 "cells": [
  {
   "cell_type": "markdown",
   "id": "dfea092d",
   "metadata": {},
   "source": [
    "# 🔔Week09"
   ]
  },
  {
   "cell_type": "markdown",
   "id": "94d638df",
   "metadata": {},
   "source": [
    "## Dictionary\n",
    "- 영어 사전 같은 구조\n",
    "    - 단어: 뜻\n",
    "    - 키: 값\n",
    "    - 순서가 없기 때문에 인덱싱 불가\n",
    "    - \"키를 통해 값을 찾는다.\"\n",
    "        - 키는 중복되지 않는 고유한 값\n",
    "    - 가변: 수정, 삭제, 추가 O\n",
    "    - 타입: dict\n",
    "    - 형변환: dict()\n",
    "    - 중괄호{} 사용, 콤마로 구분함\n",
    "    - 값에 다양한 자료구조가 올 수 있음\n",
    "        - a: 1, b: [1, 2, 3, 4, 5]"
   ]
  },
  {
   "cell_type": "code",
   "execution_count": 68,
   "id": "bf21d927",
   "metadata": {},
   "outputs": [
    {
     "data": {
      "text/plain": [
       "set"
      ]
     },
     "execution_count": 68,
     "metadata": {},
     "output_type": "execute_result"
    }
   ],
   "source": [
    "# dict 선언 방법\n",
    "empty = dict()\n",
    "empty = {}\n",
    "# set {}\n",
    "empty = {} # dict type\n",
    "empty = set()\n",
    "type(empty)"
   ]
  },
  {
   "cell_type": "code",
   "execution_count": 5,
   "id": "83465b8e",
   "metadata": {},
   "outputs": [
    {
     "data": {
      "text/plain": [
       "({1, 2, 3}, {1: 'tokyo', 2: 'london', 3: 'seoul'})"
      ]
     },
     "execution_count": 5,
     "metadata": {},
     "output_type": "execute_result"
    }
   ],
   "source": [
    "a = {1, 2, 3} # a는 set\n",
    "b = {1: 'tokyo', 2: 'london', 3: 'seoul'} # b는 dict\n",
    "a, b"
   ]
  },
  {
   "cell_type": "code",
   "execution_count": 6,
   "id": "02ab5088",
   "metadata": {},
   "outputs": [
    {
     "data": {
      "text/plain": [
       "{'apple': 'a', 'banana': 'b', 'kiwi': 'c'}"
      ]
     },
     "execution_count": 6,
     "metadata": {},
     "output_type": "execute_result"
    }
   ],
   "source": [
    "c = {'':'', '':'', '':''}\n",
    "c = dict(apple='a', banana='b', kiwi='c')\n",
    "c"
   ]
  },
  {
   "cell_type": "code",
   "execution_count": 7,
   "id": "53503201",
   "metadata": {},
   "outputs": [
    {
     "data": {
      "text/plain": [
       "{202201: ['james', '경제학과'],\n",
       " 202202: ['louis', '컴퓨터공학과'],\n",
       " 202203: ['laura', '스페인어과']}"
      ]
     },
     "execution_count": 7,
     "metadata": {},
     "output_type": "execute_result"
    }
   ],
   "source": [
    "# 출석부로 딕셔너리 만들기\n",
    "attend = {202201:['james', '경제학과'], 202202:['louis', '컴퓨터공학과'], 202203:['laura', '스페인어과']}\n",
    "attend"
   ]
  },
  {
   "cell_type": "markdown",
   "id": "a3f852dd",
   "metadata": {},
   "source": [
    "### 형 변환"
   ]
  },
  {
   "cell_type": "code",
   "execution_count": 70,
   "id": "924d13e5",
   "metadata": {},
   "outputs": [
    {
     "data": {
      "text/plain": [
       "{1: 2, 2: 3, 3: 4}"
      ]
     },
     "execution_count": 70,
     "metadata": {},
     "output_type": "execute_result"
    }
   ],
   "source": [
    "# 튜플도 형 변환 가능\n",
    "ex1 = [[1, 2], [2, 3], [3, 4]]\n",
    "dict(ex1)"
   ]
  },
  {
   "cell_type": "code",
   "execution_count": 69,
   "id": "0f6f2269",
   "metadata": {},
   "outputs": [
    {
     "data": {
      "text/plain": [
       "{1: 5, 2: 3, 3: 1}"
      ]
     },
     "execution_count": 69,
     "metadata": {},
     "output_type": "execute_result"
    }
   ],
   "source": [
    "# key가 중복일 시 마지막에 등장한 키 기준으로 값 설정\n",
    "ex2 = [(1, 2), (2, 3), (1, 5), (3, 1)]\n",
    "dict(ex2)"
   ]
  },
  {
   "cell_type": "code",
   "execution_count": 13,
   "id": "2d86561e",
   "metadata": {},
   "outputs": [
    {
     "data": {
      "text/plain": [
       "{'a': 'b', 'b': 'c', 'c': 'd'}"
      ]
     },
     "execution_count": 13,
     "metadata": {},
     "output_type": "execute_result"
    }
   ],
   "source": [
    "ex3 = ['ab', 'bc', 'cd']\n",
    "dict(ex3)"
   ]
  },
  {
   "cell_type": "markdown",
   "id": "e0a3108e",
   "metadata": {},
   "source": [
    "### 항목 조회 & 변경"
   ]
  },
  {
   "cell_type": "code",
   "execution_count": 2,
   "id": "b2708357",
   "metadata": {},
   "outputs": [],
   "source": [
    "dict1 = { # 이름: 나라\n",
    "    'Graham': 'France',\n",
    "    'Jin': 'Korea',\n",
    "    'Maeda': 'Japan',\n",
    "    'Terry': 'China',\n",
    "    'Michael': 'America'\n",
    "}"
   ]
  },
  {
   "cell_type": "code",
   "execution_count": 3,
   "id": "5f517524",
   "metadata": {},
   "outputs": [
    {
     "data": {
      "text/plain": [
       "'Korea'"
      ]
     },
     "execution_count": 3,
     "metadata": {},
     "output_type": "execute_result"
    }
   ],
   "source": [
    "dict1['Jin']"
   ]
  },
  {
   "cell_type": "code",
   "execution_count": 4,
   "id": "07473646",
   "metadata": {},
   "outputs": [],
   "source": [
    "dict1['Chloe'] = 'Canada' # 추가"
   ]
  },
  {
   "cell_type": "code",
   "execution_count": 5,
   "id": "7731b5b5",
   "metadata": {},
   "outputs": [
    {
     "data": {
      "text/plain": [
       "{'Graham': 'France',\n",
       " 'Jin': 'Korea',\n",
       " 'Maeda': 'Japan',\n",
       " 'Terry': 'Italy',\n",
       " 'Michael': 'America',\n",
       " 'Chloe': 'Canada'}"
      ]
     },
     "execution_count": 5,
     "metadata": {},
     "output_type": "execute_result"
    }
   ],
   "source": [
    "dict1['Terry'] = 'Italy' # 변경\n",
    "dict1"
   ]
  },
  {
   "cell_type": "code",
   "execution_count": 6,
   "id": "93acca9e",
   "metadata": {},
   "outputs": [
    {
     "data": {
      "text/plain": [
       "True"
      ]
     },
     "execution_count": 6,
     "metadata": {},
     "output_type": "execute_result"
    }
   ],
   "source": [
    "# 예외 없이\n",
    "'Chloe' in dict1"
   ]
  },
  {
   "cell_type": "code",
   "execution_count": 72,
   "id": "4462dab9",
   "metadata": {},
   "outputs": [
    {
     "data": {
      "text/plain": [
       "0"
      ]
     },
     "execution_count": 72,
     "metadata": {},
     "output_type": "execute_result"
    }
   ],
   "source": [
    "# get()\n",
    "dict1.get('Lee', 0) # 있으면 값 반환, 없을 시 None 반환하고 원하는 반환값 설정 가능"
   ]
  },
  {
   "cell_type": "markdown",
   "id": "4fe882f5",
   "metadata": {},
   "source": [
    "### 전체 조회\n",
    "- keys()\n",
    "- values()\n",
    "- items()"
   ]
  },
  {
   "cell_type": "code",
   "execution_count": 8,
   "id": "c8ca0e5d",
   "metadata": {},
   "outputs": [
    {
     "data": {
      "text/plain": [
       "['Graham', 'Jin', 'Maeda', 'Terry', 'Michael', 'Chloe']"
      ]
     },
     "execution_count": 8,
     "metadata": {},
     "output_type": "execute_result"
    }
   ],
   "source": [
    "list(dict1.keys())"
   ]
  },
  {
   "cell_type": "code",
   "execution_count": 9,
   "id": "a0291967",
   "metadata": {},
   "outputs": [
    {
     "data": {
      "text/plain": [
       "dict_values(['France', 'Korea', 'Japan', 'Italy', 'America', 'Canada'])"
      ]
     },
     "execution_count": 9,
     "metadata": {},
     "output_type": "execute_result"
    }
   ],
   "source": [
    "dict1.values()"
   ]
  },
  {
   "cell_type": "code",
   "execution_count": 10,
   "id": "05a90db5",
   "metadata": {},
   "outputs": [
    {
     "data": {
      "text/plain": [
       "dict_items([('Graham', 'France'), ('Jin', 'Korea'), ('Maeda', 'Japan'), ('Terry', 'Italy'), ('Michael', 'America'), ('Chloe', 'Canada')])"
      ]
     },
     "execution_count": 10,
     "metadata": {},
     "output_type": "execute_result"
    }
   ],
   "source": [
    "dict1.items() # (키 ,값) 튜플 형태로 => 순회 많이 씀"
   ]
  },
  {
   "cell_type": "code",
   "execution_count": 11,
   "id": "60ad82e8",
   "metadata": {},
   "outputs": [
    {
     "name": "stdout",
     "output_type": "stream",
     "text": [
      "Graham = France\n",
      "Jin = Korea\n",
      "Maeda = Japan\n",
      "Terry = Italy\n",
      "Michael = America\n",
      "Chloe = Canada\n"
     ]
    }
   ],
   "source": [
    "for k, v in dict1.items():\n",
    "    print(f\"{k} = {v}\")"
   ]
  },
  {
   "cell_type": "code",
   "execution_count": 12,
   "id": "04940405",
   "metadata": {},
   "outputs": [
    {
     "data": {
      "text/plain": [
       "[('Graham', 'France'),\n",
       " ('Jin', 'Korea'),\n",
       " ('Maeda', 'Japan'),\n",
       " ('Terry', 'Italy'),\n",
       " ('Michael', 'America'),\n",
       " ('Chloe', 'Canada')]"
      ]
     },
     "execution_count": 12,
     "metadata": {},
     "output_type": "execute_result"
    }
   ],
   "source": [
    "[(k, v) for k, v in dict1.items()]"
   ]
  },
  {
   "cell_type": "code",
   "execution_count": 13,
   "id": "eac20730",
   "metadata": {},
   "outputs": [
    {
     "data": {
      "text/plain": [
       "['France', 'Korea', 'Japan', 'Italy', 'America', 'Canada']"
      ]
     },
     "execution_count": 13,
     "metadata": {},
     "output_type": "execute_result"
    }
   ],
   "source": [
    "[k[1] for k in dict1.items()] # 0 = key, 1 = value"
   ]
  },
  {
   "cell_type": "markdown",
   "id": "9fad7fce",
   "metadata": {},
   "source": [
    "ex1. animal:num_leg 딕셔너리 만드시오."
   ]
  },
  {
   "cell_type": "code",
   "execution_count": 14,
   "id": "b1ca51bd",
   "metadata": {},
   "outputs": [],
   "source": [
    "animal = 'cat snake monkey ant spider'.split()\n",
    "legs = 4, 0, 2, 4, 8"
   ]
  },
  {
   "cell_type": "code",
   "execution_count": 15,
   "id": "b5fbe7d2",
   "metadata": {},
   "outputs": [
    {
     "data": {
      "text/plain": [
       "{'cat': 4, 'snake': 0, 'monkey': 2, 'ant': 4, 'spider': 8}"
      ]
     },
     "execution_count": 15,
     "metadata": {},
     "output_type": "execute_result"
    }
   ],
   "source": [
    "num_leg = {}\n",
    "for k, v in zip(animal, legs):\n",
    "    num_leg[k] = v\n",
    "    \n",
    "num_leg"
   ]
  },
  {
   "cell_type": "markdown",
   "id": "38e2b27f",
   "metadata": {},
   "source": [
    "ex2. dict1에서 이름:나라, 이름 첫 글자만, 나라는 글자 개수로 이뤄진 튜플 (이름, 나라) 리스트로 변환하기\n",
    "- dict comprehension 쓰지 말기"
   ]
  },
  {
   "cell_type": "code",
   "execution_count": 16,
   "id": "fb9e7313",
   "metadata": {},
   "outputs": [
    {
     "data": {
      "text/plain": [
       "{'Graham': 'France',\n",
       " 'Jin': 'Korea',\n",
       " 'Maeda': 'Japan',\n",
       " 'Terry': 'Italy',\n",
       " 'Michael': 'America',\n",
       " 'Chloe': 'Canada'}"
      ]
     },
     "execution_count": 16,
     "metadata": {},
     "output_type": "execute_result"
    }
   ],
   "source": [
    "dict1\n",
    "# 순회\n",
    "# 각 요소 변화"
   ]
  },
  {
   "cell_type": "code",
   "execution_count": 17,
   "id": "66783d54",
   "metadata": {},
   "outputs": [
    {
     "data": {
      "text/plain": [
       "[('G', 6), ('J', 5), ('M', 5), ('T', 5), ('M', 7), ('C', 6)]"
      ]
     },
     "execution_count": 17,
     "metadata": {},
     "output_type": "execute_result"
    }
   ],
   "source": [
    "[(key[0], len(value)) for key, value in dict1.items()]"
   ]
  },
  {
   "cell_type": "markdown",
   "id": "02213052",
   "metadata": {},
   "source": [
    "### 값 수정 및 삭제"
   ]
  },
  {
   "cell_type": "code",
   "execution_count": 18,
   "id": "b9b8f8fe",
   "metadata": {},
   "outputs": [
    {
     "data": {
      "text/plain": [
       "{'Graham': 'France',\n",
       " 'Jin': 'Korea',\n",
       " 'Maeda': 'Japan',\n",
       " 'Terry': 'Italy',\n",
       " 'Michael': 'America',\n",
       " 'Chloe': 'Canada'}"
      ]
     },
     "execution_count": 18,
     "metadata": {},
     "output_type": "execute_result"
    }
   ],
   "source": [
    "dict1"
   ]
  },
  {
   "cell_type": "code",
   "execution_count": 19,
   "id": "741caf49",
   "metadata": {},
   "outputs": [
    {
     "data": {
      "text/plain": [
       "{'Groucho': 'Spain', 'Moe': 'Russia'}"
      ]
     },
     "execution_count": 19,
     "metadata": {},
     "output_type": "execute_result"
    }
   ],
   "source": [
    "dict2 = {\n",
    "    'Groucho': 'Spain',\n",
    "    'Moe': 'Russia'\n",
    "}\n",
    "dict2"
   ]
  },
  {
   "cell_type": "code",
   "execution_count": 20,
   "id": "ce97057f",
   "metadata": {},
   "outputs": [],
   "source": [
    "dict1.update(dict2)"
   ]
  },
  {
   "cell_type": "code",
   "execution_count": 21,
   "id": "7f950eea",
   "metadata": {},
   "outputs": [
    {
     "data": {
      "text/plain": [
       "{'Graham': 'France',\n",
       " 'Jin': 'Korea',\n",
       " 'Maeda': 'Japan',\n",
       " 'Terry': 'Italy',\n",
       " 'Michael': 'America',\n",
       " 'Chloe': 'Canada',\n",
       " 'Groucho': 'Spain',\n",
       " 'Moe': 'Russia'}"
      ]
     },
     "execution_count": 21,
     "metadata": {},
     "output_type": "execute_result"
    }
   ],
   "source": [
    "dict1"
   ]
  },
  {
   "cell_type": "code",
   "execution_count": 22,
   "id": "405a5bdb",
   "metadata": {},
   "outputs": [
    {
     "data": {
      "text/plain": [
       "{'Groucho': 'Spain',\n",
       " 'Moe': 'Russia',\n",
       " 'Graham': 'France',\n",
       " 'Jin': 'Korea',\n",
       " 'Maeda': 'Japan',\n",
       " 'Terry': 'Italy',\n",
       " 'Michael': 'America',\n",
       " 'Chloe': 'Canada'}"
      ]
     },
     "execution_count": 22,
     "metadata": {},
     "output_type": "execute_result"
    }
   ],
   "source": [
    "# python 3에서만 가능한 기능\n",
    "{**dict2, **dict1}"
   ]
  },
  {
   "cell_type": "code",
   "execution_count": 23,
   "id": "253b1ddb",
   "metadata": {},
   "outputs": [],
   "source": [
    "#삭제\n",
    "del dict1['Chloe']"
   ]
  },
  {
   "cell_type": "code",
   "execution_count": 24,
   "id": "84923212",
   "metadata": {},
   "outputs": [
    {
     "data": {
      "text/plain": [
       "{'Graham': 'France',\n",
       " 'Jin': 'Korea',\n",
       " 'Maeda': 'Japan',\n",
       " 'Terry': 'Italy',\n",
       " 'Michael': 'America',\n",
       " 'Groucho': 'Spain',\n",
       " 'Moe': 'Russia'}"
      ]
     },
     "execution_count": 24,
     "metadata": {},
     "output_type": "execute_result"
    }
   ],
   "source": [
    "dict1"
   ]
  },
  {
   "cell_type": "code",
   "execution_count": 25,
   "id": "a3945c33",
   "metadata": {},
   "outputs": [
    {
     "ename": "KeyError",
     "evalue": "'Lee'",
     "output_type": "error",
     "traceback": [
      "\u001b[1;31m---------------------------------------------------------------------------\u001b[0m",
      "\u001b[1;31mKeyError\u001b[0m                                  Traceback (most recent call last)",
      "\u001b[1;32m~\\AppData\\Local\\Temp/ipykernel_37628/818469067.py\u001b[0m in \u001b[0;36m<module>\u001b[1;34m\u001b[0m\n\u001b[1;32m----> 1\u001b[1;33m \u001b[1;32mdel\u001b[0m \u001b[0mdict1\u001b[0m\u001b[1;33m[\u001b[0m\u001b[1;34m'Lee'\u001b[0m\u001b[1;33m]\u001b[0m\u001b[1;33m\u001b[0m\u001b[1;33m\u001b[0m\u001b[0m\n\u001b[0m",
      "\u001b[1;31mKeyError\u001b[0m: 'Lee'"
     ]
    }
   ],
   "source": [
    "del dict1['Lee']"
   ]
  },
  {
   "cell_type": "code",
   "execution_count": 26,
   "id": "e42100e1",
   "metadata": {},
   "outputs": [
    {
     "data": {
      "text/plain": [
       "'Spain'"
      ]
     },
     "execution_count": 26,
     "metadata": {},
     "output_type": "execute_result"
    }
   ],
   "source": [
    "dict1.pop('Groucho')"
   ]
  },
  {
   "cell_type": "code",
   "execution_count": 27,
   "id": "b050d887",
   "metadata": {},
   "outputs": [
    {
     "data": {
      "text/plain": [
       "0"
      ]
     },
     "execution_count": 27,
     "metadata": {},
     "output_type": "execute_result"
    }
   ],
   "source": [
    "dict1.pop('Lee', 0) # 없으면 예외는 발생하지만, 예외 시 출력값 지정 가능"
   ]
  },
  {
   "cell_type": "code",
   "execution_count": 28,
   "id": "12b641c5",
   "metadata": {},
   "outputs": [],
   "source": [
    "# 전체 삭제\n",
    "dict1.clear()\n",
    "dict1 = {}"
   ]
  },
  {
   "cell_type": "code",
   "execution_count": 29,
   "id": "d6c64626",
   "metadata": {},
   "outputs": [
    {
     "data": {
      "text/plain": [
       "{}"
      ]
     },
     "execution_count": 29,
     "metadata": {},
     "output_type": "execute_result"
    }
   ],
   "source": [
    "dict1"
   ]
  },
  {
   "cell_type": "markdown",
   "id": "66b6060d",
   "metadata": {},
   "source": [
    "### 복제\n",
    "- 할당: b = a\n",
    "- 얕은 복사: c = a.copy()\n",
    "- 깊은 복사: deepcopy"
   ]
  },
  {
   "cell_type": "code",
   "execution_count": 30,
   "id": "7f6d993f",
   "metadata": {},
   "outputs": [
    {
     "data": {
      "text/plain": [
       "({1: 45, 2: 2, 3: 3}, {1: 45, 2: 2, 3: 3})"
      ]
     },
     "execution_count": 30,
     "metadata": {},
     "output_type": "execute_result"
    }
   ],
   "source": [
    "a = {1:1, 2:2, 3:3}\n",
    "b = a\n",
    "a[1] = 45\n",
    "a, b"
   ]
  },
  {
   "cell_type": "code",
   "execution_count": 31,
   "id": "b4e44a97",
   "metadata": {},
   "outputs": [
    {
     "data": {
      "text/plain": [
       "({1: 45, 2: 22, 3: 3}, {1: 45, 2: 2, 3: 3})"
      ]
     },
     "execution_count": 31,
     "metadata": {},
     "output_type": "execute_result"
    }
   ],
   "source": [
    "c = a.copy()\n",
    "a[2] = 22\n",
    "a, c"
   ]
  },
  {
   "cell_type": "code",
   "execution_count": 32,
   "id": "aedd71ef",
   "metadata": {},
   "outputs": [
    {
     "data": {
      "text/plain": [
       "({1: [100, 2, 3], 2: [2, 3, 4]}, {1: [100, 2, 3], 2: [2, 3, 4]})"
      ]
     },
     "execution_count": 32,
     "metadata": {},
     "output_type": "execute_result"
    }
   ],
   "source": [
    "a = {1: [1, 2, 3], 2: [2, 3, 4]}\n",
    "d = a.copy()\n",
    "a[1][0] = 100\n",
    "a, d"
   ]
  },
  {
   "cell_type": "code",
   "execution_count": 33,
   "id": "4bab24b7",
   "metadata": {},
   "outputs": [
    {
     "data": {
      "text/plain": [
       "({1: [100, 999, 3], 2: [2, 3, 4]}, {1: [100, 2, 3], 2: [2, 3, 4]})"
      ]
     },
     "execution_count": 33,
     "metadata": {},
     "output_type": "execute_result"
    }
   ],
   "source": [
    "import copy\n",
    "e = copy.deepcopy(a)\n",
    "a[1][1] = 999\n",
    "a, e"
   ]
  },
  {
   "cell_type": "markdown",
   "id": "67855a65",
   "metadata": {},
   "source": [
    "### 비교\n",
    "- 같다, 다르다만 가능"
   ]
  },
  {
   "cell_type": "code",
   "execution_count": 37,
   "id": "8c9e3cf5",
   "metadata": {},
   "outputs": [
    {
     "data": {
      "text/plain": [
       "True"
      ]
     },
     "execution_count": 37,
     "metadata": {},
     "output_type": "execute_result"
    }
   ],
   "source": [
    "a != b"
   ]
  },
  {
   "cell_type": "markdown",
   "id": "82b6252a",
   "metadata": {},
   "source": [
    "## Quiz\n",
    "1. 두 리스트로 하나의 딕셔너리 생성\n",
    "2. 명왕성 = pluto 추가\n",
    "3. '성'으로 끝나지 않는 키 삭제하기 del dict1['태양'] (x)\n",
    "4. sorted 이용해서 값 정렬하기 i) key, ii) value"
   ]
  },
  {
   "cell_type": "code",
   "execution_count": 38,
   "id": "5bc99e9b",
   "metadata": {},
   "outputs": [],
   "source": [
    "solar_kor = '태양 수성 금성 지구 화성 목성 토성 천왕성 해왕성'.split()\n",
    "solar_eng = 'sun mercury venus earth mars jupiter saturn uranus neptune'.split()"
   ]
  },
  {
   "cell_type": "code",
   "execution_count": 40,
   "id": "ccedb2c7",
   "metadata": {
    "scrolled": true
   },
   "outputs": [
    {
     "data": {
      "text/plain": [
       "{'태양': 'sun',\n",
       " '수성': 'mercury',\n",
       " '금성': 'venus',\n",
       " '지구': 'earth',\n",
       " '화성': 'mars',\n",
       " '목성': 'jupiter',\n",
       " '토성': 'saturn',\n",
       " '천왕성': 'uranus',\n",
       " '해왕성': 'neptune'}"
      ]
     },
     "execution_count": 40,
     "metadata": {},
     "output_type": "execute_result"
    }
   ],
   "source": [
    "planet = {}\n",
    "for k, v in zip(solar_kor, solar_eng):\n",
    "    planet[k] = v\n",
    "    \n",
    "planet"
   ]
  },
  {
   "cell_type": "code",
   "execution_count": 41,
   "id": "7aaa6b59",
   "metadata": {},
   "outputs": [
    {
     "data": {
      "text/plain": [
       "{'태양': 'sun',\n",
       " '수성': 'mercury',\n",
       " '금성': 'venus',\n",
       " '지구': 'earth',\n",
       " '화성': 'mars',\n",
       " '목성': 'jupiter',\n",
       " '토성': 'saturn',\n",
       " '천왕성': 'uranus',\n",
       " '해왕성': 'neptune',\n",
       " '명왕성': 'pluto'}"
      ]
     },
     "execution_count": 41,
     "metadata": {},
     "output_type": "execute_result"
    }
   ],
   "source": [
    "planet['명왕성'] = 'pluto'\n",
    "planet"
   ]
  },
  {
   "cell_type": "code",
   "execution_count": 75,
   "id": "99dbf9d7",
   "metadata": {
    "scrolled": true
   },
   "outputs": [
    {
     "data": {
      "text/plain": [
       "{'수성': 'mercury',\n",
       " '금성': 'venus',\n",
       " '화성': 'mars',\n",
       " '목성': 'jupiter',\n",
       " '토성': 'saturn',\n",
       " '천왕성': 'uranus',\n",
       " '해왕성': 'neptune',\n",
       " '명왕성': 'pluto'}"
      ]
     },
     "execution_count": 75,
     "metadata": {},
     "output_type": "execute_result"
    }
   ],
   "source": [
    "dict([(k, planet[k]) for k in planet if k.endswith('성')])"
   ]
  },
  {
   "cell_type": "code",
   "execution_count": 76,
   "id": "ed219b16",
   "metadata": {},
   "outputs": [
    {
     "name": "stdout",
     "output_type": "stream",
     "text": [
      "['금성', '명왕성', '목성', '수성', '천왕성', '토성', '해왕성', '화성']\n",
      "['jupiter', 'mars', 'mercury', 'neptune', 'pluto', 'saturn', 'uranus', 'venus']\n"
     ]
    }
   ],
   "source": [
    "universe = dict([(k, planet[k]) for k in planet if k.endswith('성')])\n",
    "print(sorted(universe.keys())) # key 기준\n",
    "print(sorted(universe.values())) # value 기준"
   ]
  },
  {
   "cell_type": "markdown",
   "id": "29336810",
   "metadata": {},
   "source": [
    "### Dicdtionary Comprehension"
   ]
  },
  {
   "cell_type": "code",
   "execution_count": 44,
   "id": "01c0c7fd",
   "metadata": {},
   "outputs": [
    {
     "data": {
      "text/plain": [
       "{'a': 1, 'p': 2, 'l': 1, 'e': 1}"
      ]
     },
     "execution_count": 44,
     "metadata": {},
     "output_type": "execute_result"
    }
   ],
   "source": [
    "letter = 'apple'\n",
    "# a: 1, p: 2, ..\n",
    "{ch: letter.count(ch) for ch in letter}"
   ]
  },
  {
   "cell_type": "code",
   "execution_count": 77,
   "id": "4d07ccf9",
   "metadata": {},
   "outputs": [],
   "source": [
    "# 단어의 모음세기\n",
    "vowels = 'aeiou'\n",
    "word = 'onomatopoeia'"
   ]
  },
  {
   "cell_type": "code",
   "execution_count": 78,
   "id": "32abcce5",
   "metadata": {},
   "outputs": [
    {
     "data": {
      "text/plain": [
       "{'a': 2, 'o': 4, 'i': 1, 'e': 1}"
      ]
     },
     "execution_count": 78,
     "metadata": {},
     "output_type": "execute_result"
    }
   ],
   "source": [
    "{v: word.count(v) for v in set(vowels) if v in word}"
   ]
  },
  {
   "cell_type": "code",
   "execution_count": 79,
   "id": "ffc8a0bb",
   "metadata": {},
   "outputs": [
    {
     "data": {
      "text/plain": [
       "{'o': 4, 'a': 2, 'i': 1, 'e': 1}"
      ]
     },
     "execution_count": 79,
     "metadata": {},
     "output_type": "execute_result"
    }
   ],
   "source": [
    "{w: word.count(w) for w in set(word) if w in vowels}"
   ]
  },
  {
   "cell_type": "markdown",
   "id": "51281412",
   "metadata": {},
   "source": [
    "### sorting"
   ]
  },
  {
   "cell_type": "code",
   "execution_count": 52,
   "id": "223b09c6",
   "metadata": {},
   "outputs": [],
   "source": [
    "def fx(x):\n",
    "    return x[1]"
   ]
  },
  {
   "cell_type": "code",
   "execution_count": 53,
   "id": "fec065bc",
   "metadata": {
    "scrolled": true
   },
   "outputs": [
    {
     "data": {
      "text/plain": [
       "[('지구', 'earth'),\n",
       " ('목성', 'jupiter'),\n",
       " ('화성', 'mars'),\n",
       " ('수성', 'mercury'),\n",
       " ('해왕성', 'neptune'),\n",
       " ('명왕성', 'pluto'),\n",
       " ('토성', 'saturn'),\n",
       " ('태양', 'sun'),\n",
       " ('천왕성', 'uranus'),\n",
       " ('금성', 'venus')]"
      ]
     },
     "execution_count": 53,
     "metadata": {},
     "output_type": "execute_result"
    }
   ],
   "source": [
    "sorted(planet.items(), key=fx)"
   ]
  },
  {
   "cell_type": "code",
   "execution_count": 54,
   "id": "29bf286a",
   "metadata": {},
   "outputs": [
    {
     "data": {
      "text/plain": [
       "[('지구', 'earth'),\n",
       " ('목성', 'jupiter'),\n",
       " ('화성', 'mars'),\n",
       " ('수성', 'mercury'),\n",
       " ('해왕성', 'neptune'),\n",
       " ('명왕성', 'pluto'),\n",
       " ('토성', 'saturn'),\n",
       " ('태양', 'sun'),\n",
       " ('천왕성', 'uranus'),\n",
       " ('금성', 'venus')]"
      ]
     },
     "execution_count": 54,
     "metadata": {},
     "output_type": "execute_result"
    }
   ],
   "source": [
    "sorted(planet.items(), key=lambda x: x[1])"
   ]
  },
  {
   "cell_type": "markdown",
   "id": "90418b36",
   "metadata": {},
   "source": [
    "## Set\n",
    "- \"중복이 없다.\"\n",
    "- 집합의 개념 => 교집합, 합집합, 차집합, ...\n",
    "- 순서가 없기에 인덱싱 X"
   ]
  },
  {
   "cell_type": "code",
   "execution_count": 55,
   "id": "ca7f2889",
   "metadata": {},
   "outputs": [
    {
     "data": {
      "text/plain": [
       "set()"
      ]
     },
     "execution_count": 55,
     "metadata": {},
     "output_type": "execute_result"
    }
   ],
   "source": [
    "empty = set()\n",
    "empty"
   ]
  },
  {
   "cell_type": "code",
   "execution_count": 56,
   "id": "fdbe3a02",
   "metadata": {},
   "outputs": [
    {
     "data": {
      "text/plain": [
       "{1, 2, 3}"
      ]
     },
     "execution_count": 56,
     "metadata": {},
     "output_type": "execute_result"
    }
   ],
   "source": [
    "a = {1, 2, 3}\n",
    "a"
   ]
  },
  {
   "cell_type": "code",
   "execution_count": 57,
   "id": "2c357963",
   "metadata": {},
   "outputs": [
    {
     "data": {
      "text/plain": [
       "{1, 2, 3}"
      ]
     },
     "execution_count": 57,
     "metadata": {},
     "output_type": "execute_result"
    }
   ],
   "source": [
    "a = set((1, 2, 3)) # 선언, 형변환\n",
    "a"
   ]
  },
  {
   "cell_type": "code",
   "execution_count": 58,
   "id": "853df000",
   "metadata": {},
   "outputs": [
    {
     "data": {
      "text/plain": [
       "{1, 2, 3, 4}"
      ]
     },
     "execution_count": 58,
     "metadata": {},
     "output_type": "execute_result"
    }
   ],
   "source": [
    "# 추가\n",
    "a.add(4)\n",
    "a"
   ]
  },
  {
   "cell_type": "code",
   "execution_count": 60,
   "id": "5ac2dfab",
   "metadata": {},
   "outputs": [
    {
     "data": {
      "text/plain": [
       "{1, 2, 3}"
      ]
     },
     "execution_count": 60,
     "metadata": {},
     "output_type": "execute_result"
    }
   ],
   "source": [
    "#삭제\n",
    "a.remove(4)\n",
    "a"
   ]
  },
  {
   "cell_type": "code",
   "execution_count": 61,
   "id": "a14f2ed8",
   "metadata": {},
   "outputs": [],
   "source": [
    "drinks = {\n",
    "    'martini': {'vodka', 'vermouth'},\n",
    "    'black russian': {'vodka', 'kahlua'},\n",
    "    'white russian': {'cream', 'kahlua', 'vodka'},\n",
    "    'manhattan': {'rye', 'vermouth', 'bitters'},\n",
    "    'screwdriver': {'orange juice', 'vodka'}\n",
    "}\n",
    "\n",
    "# vodka가 포함된 술 출력하기\n",
    "# vodka는 있지만 cream, vermouth 없는 술 출력하기"
   ]
  },
  {
   "cell_type": "code",
   "execution_count": 63,
   "id": "15c83199",
   "metadata": {},
   "outputs": [
    {
     "name": "stdout",
     "output_type": "stream",
     "text": [
      "martini\n",
      "black russian\n",
      "white russian\n",
      "screwdriver\n"
     ]
    }
   ],
   "source": [
    "for k, v in drinks.items():\n",
    "    if 'vodka' in v:\n",
    "        print(k)"
   ]
  },
  {
   "cell_type": "code",
   "execution_count": 64,
   "id": "89b088f0",
   "metadata": {},
   "outputs": [
    {
     "name": "stdout",
     "output_type": "stream",
     "text": [
      "black russian\n",
      "screwdriver\n"
     ]
    }
   ],
   "source": [
    "for k, v in drinks.items():\n",
    "    if 'vodka' in v and not ('cream' in v or 'vermouth' in v):\n",
    "        print(k)"
   ]
  },
  {
   "cell_type": "code",
   "execution_count": 65,
   "id": "85800fb3",
   "metadata": {},
   "outputs": [
    {
     "data": {
      "text/plain": [
       "({1}, {4})"
      ]
     },
     "execution_count": 65,
     "metadata": {},
     "output_type": "execute_result"
    }
   ],
   "source": [
    "a = {1, 2, 3}\n",
    "b = {2, 3, 4}\n",
    "\n",
    "# 교집합 | intersection\n",
    "a.intersection(b)\n",
    "a & b\n",
    "\n",
    "# 합집합 | union\n",
    "a.union(b)\n",
    "a | b\n",
    "\n",
    "# 차집합 | difference\n",
    "a.difference(b)\n",
    "a - b, b - a"
   ]
  },
  {
   "cell_type": "code",
   "execution_count": 66,
   "id": "4a6bf7e0",
   "metadata": {},
   "outputs": [
    {
     "name": "stdout",
     "output_type": "stream",
     "text": [
      "black russian\n",
      "screwdriver\n"
     ]
    }
   ],
   "source": [
    "for k, v in drinks.items():\n",
    "    if 'vodka' in v and not v & {'cream', 'vermouth'}:\n",
    "        print(k)"
   ]
  },
  {
   "cell_type": "code",
   "execution_count": 80,
   "id": "0ae9b6fc",
   "metadata": {},
   "outputs": [
    {
     "data": {
      "text/plain": [
       "frozenset({1, 2})"
      ]
     },
     "execution_count": 80,
     "metadata": {},
     "output_type": "execute_result"
    }
   ],
   "source": [
    "# frozenset\n",
    "# 가변 객체를 불변 객체로 변경\n",
    "set([1, 2])\n",
    "frozenset([1, 2])"
   ]
  }
 ],
 "metadata": {
  "kernelspec": {
   "display_name": "Python 3 (ipykernel)",
   "language": "python",
   "name": "python3"
  },
  "language_info": {
   "codemirror_mode": {
    "name": "ipython",
    "version": 3
   },
   "file_extension": ".py",
   "mimetype": "text/x-python",
   "name": "python",
   "nbconvert_exporter": "python",
   "pygments_lexer": "ipython3",
   "version": "3.9.7"
  }
 },
 "nbformat": 4,
 "nbformat_minor": 5
}
