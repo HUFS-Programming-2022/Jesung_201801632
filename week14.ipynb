{
 "cells": [
  {
   "cell_type": "markdown",
   "id": "8fb3121e",
   "metadata": {},
   "source": [
    "# 🔔Week14"
   ]
  },
  {
   "cell_type": "markdown",
   "id": "5c26fba9",
   "metadata": {},
   "source": [
    "## 함수 II\n",
    "- 일급 객체\n",
    "- 중첩 함수\n",
    "- 익명 함수\n",
    "- 제너레이터\n",
    "- 재귀 함수"
   ]
  },
  {
   "cell_type": "markdown",
   "id": "624d69f7",
   "metadata": {},
   "source": [
    "### 일급 객체\n",
    "- first class object, first class citizen\n",
    "- 파이썬에서는 함수도 일급 객체이다.\n",
    "- 일급 객체의 조건\n",
    "    - 함수의 인자로 전달된다. \n",
    "        - def fx(func):\n",
    "    - 함수의 반환값이 된다. \n",
    "        - def fx(func):\n",
    "            return func\n",
    "    - 수정, 할당이 된다.\n",
    "        - var = fx()"
   ]
  },
  {
   "cell_type": "code",
   "execution_count": 3,
   "id": "7f4acc46",
   "metadata": {},
   "outputs": [
    {
     "name": "stdout",
     "output_type": "stream",
     "text": [
      "35\n"
     ]
    }
   ],
   "source": [
    "def answer():\n",
    "    print(35)\n",
    "    \n",
    "def run_sth(func):\n",
    "    func() # func vs. func() 괄호가 붙은 것은 실행을 하라는 것!\n",
    "    \n",
    "run_sth(answer)"
   ]
  },
  {
   "cell_type": "code",
   "execution_count": 4,
   "id": "963d117b",
   "metadata": {},
   "outputs": [
    {
     "name": "stdout",
     "output_type": "stream",
     "text": [
      "8\n"
     ]
    }
   ],
   "source": [
    "def add_args(arg1, arg2):\n",
    "    print(arg1 + arg2)\n",
    "    \n",
    "def run_sth2(func, *args):\n",
    "    func(*args)\n",
    "    \n",
    "run_sth2(add_args, 3, 5)"
   ]
  },
  {
   "cell_type": "markdown",
   "id": "2d685016",
   "metadata": {},
   "source": [
    "### 중첩함수\n",
    "- 함수 내에서 또 다른 함수를 정의하는 것\n",
    "- 내부함수 캡슐화\n",
    "    - 메모리 절약\n",
    "    - 변수가 섞여서 불필요하게 충돌하는 것을 방지함\n",
    "    - 목적에 맞게 변수를 그룹화할 수 있음. 관리, 책임 명확히"
   ]
  },
  {
   "cell_type": "code",
   "execution_count": 5,
   "id": "d4e46b48",
   "metadata": {},
   "outputs": [
    {
     "data": {
      "text/plain": [
       "7"
      ]
     },
     "execution_count": 5,
     "metadata": {},
     "output_type": "execute_result"
    }
   ],
   "source": [
    "def outer(a, b): # 외부함수\n",
    "    def inner(c, d): # 내부함수\n",
    "        return c + d\n",
    "    return inner(a, b)\n",
    "\n",
    "outer(2, 5)"
   ]
  },
  {
   "cell_type": "code",
   "execution_count": null,
   "id": "af8a077c",
   "metadata": {},
   "outputs": [],
   "source": [
    "inner(2, 5) # 에러 발생"
   ]
  },
  {
   "cell_type": "code",
   "execution_count": 6,
   "id": "86fa4238",
   "metadata": {},
   "outputs": [],
   "source": [
    "def knight(saying):\n",
    "    def inner():\n",
    "        return f'We are the knights who say: {saying}'\n",
    "        # listA.append(saying) -> X\n",
    "    return inner\n",
    "\n",
    "a = knight('안녕')\n",
    "b = knight('기사도 정신!')"
   ]
  },
  {
   "cell_type": "markdown",
   "id": "d593c9c6",
   "metadata": {},
   "source": [
    "- 외부함수의 인자를 \"참조\"할 수 있음.\n",
    "- but, 수정/활용은 불가능!"
   ]
  },
  {
   "cell_type": "code",
   "execution_count": 7,
   "id": "0c4f234d",
   "metadata": {},
   "outputs": [
    {
     "data": {
      "text/plain": [
       "'We are the knights who say: 안녕'"
      ]
     },
     "execution_count": 7,
     "metadata": {},
     "output_type": "execute_result"
    }
   ],
   "source": [
    "a() # a만 쓰면 funcion이 뜸"
   ]
  },
  {
   "cell_type": "code",
   "execution_count": 8,
   "id": "bb8a0e22",
   "metadata": {},
   "outputs": [
    {
     "data": {
      "text/plain": [
       "'We are the knights who say: 기사도 정신!'"
      ]
     },
     "execution_count": 8,
     "metadata": {},
     "output_type": "execute_result"
    }
   ],
   "source": [
    "b()"
   ]
  },
  {
   "cell_type": "markdown",
   "id": "f26fe500",
   "metadata": {},
   "source": [
    "#### 클로저 | closure\n",
    "- 조건\n",
    "    1. 중첩함수일 것\n",
    "    2. 내부함수가 외부함수의 상태값을 참조할 것\n",
    "    3. 외부함수의 리턴값이 내부함수일 것\n",
    "- 외부함수의 상태값을 기억하는 함수(호출 시 사용 가능)"
   ]
  },
  {
   "cell_type": "code",
   "execution_count": 9,
   "id": "d2d624e6",
   "metadata": {},
   "outputs": [],
   "source": [
    "def multiply(x):\n",
    "    def inner(y): #1.\n",
    "        return x * y #2.\n",
    "    return inner #3."
   ]
  },
  {
   "cell_type": "code",
   "execution_count": 10,
   "id": "1235e24e",
   "metadata": {},
   "outputs": [],
   "source": [
    "m = multiply(5)\n",
    "n = multiply(6)"
   ]
  },
  {
   "cell_type": "code",
   "execution_count": 11,
   "id": "e61176b3",
   "metadata": {},
   "outputs": [
    {
     "data": {
      "text/plain": [
       "50"
      ]
     },
     "execution_count": 11,
     "metadata": {},
     "output_type": "execute_result"
    }
   ],
   "source": [
    "m(10)"
   ]
  },
  {
   "cell_type": "code",
   "execution_count": 12,
   "id": "d8b6c7e5",
   "metadata": {},
   "outputs": [
    {
     "data": {
      "text/plain": [
       "60"
      ]
     },
     "execution_count": 12,
     "metadata": {},
     "output_type": "execute_result"
    }
   ],
   "source": [
    "n(10)"
   ]
  },
  {
   "cell_type": "code",
   "execution_count": 13,
   "id": "670e70de",
   "metadata": {},
   "outputs": [],
   "source": [
    "del(multiply)"
   ]
  },
  {
   "cell_type": "code",
   "execution_count": 14,
   "id": "1fc6152b",
   "metadata": {},
   "outputs": [
    {
     "ename": "NameError",
     "evalue": "name 'multiply' is not defined",
     "output_type": "error",
     "traceback": [
      "\u001b[1;31m---------------------------------------------------------------------------\u001b[0m",
      "\u001b[1;31mNameError\u001b[0m                                 Traceback (most recent call last)",
      "\u001b[1;32m~\\AppData\\Local\\Temp/ipykernel_21928/1880498713.py\u001b[0m in \u001b[0;36m<module>\u001b[1;34m\u001b[0m\n\u001b[1;32m----> 1\u001b[1;33m \u001b[0mmultiply\u001b[0m \u001b[1;31m# 제거됨, 사라짐\u001b[0m\u001b[1;33m\u001b[0m\u001b[1;33m\u001b[0m\u001b[0m\n\u001b[0m",
      "\u001b[1;31mNameError\u001b[0m: name 'multiply' is not defined"
     ]
    }
   ],
   "source": [
    "multiply # 제거됨, 사라짐"
   ]
  },
  {
   "cell_type": "code",
   "execution_count": 15,
   "id": "9f64a8aa",
   "metadata": {},
   "outputs": [
    {
     "data": {
      "text/plain": [
       "40"
      ]
     },
     "execution_count": 15,
     "metadata": {},
     "output_type": "execute_result"
    }
   ],
   "source": [
    "m(8) # 여전히 동작함"
   ]
  },
  {
   "cell_type": "code",
   "execution_count": 19,
   "id": "784b61be",
   "metadata": {},
   "outputs": [
    {
     "data": {
      "text/plain": [
       "49"
      ]
     },
     "execution_count": 19,
     "metadata": {},
     "output_type": "execute_result"
    }
   ],
   "source": [
    "def add(a, b):\n",
    "    return a + b\n",
    "\n",
    "# 리턴값 * 리턴값\n",
    "def square(func):\n",
    "    def inner(a, b):\n",
    "        result = func(a, b)\n",
    "        return result * result\n",
    "    return inner\n",
    "\n",
    "fx = square(add)\n",
    "fx(2, 5) # (2+5)*(2+5)"
   ]
  },
  {
   "cell_type": "markdown",
   "id": "69b2725d",
   "metadata": {},
   "source": [
    "#### 데코레이터\n",
    "- 메인 함수에 또 다른 함수를 취해 반환할 수 있게 함\n",
    "- 재사용성 높음\n",
    "- 가독성, 직관성 좋다"
   ]
  },
  {
   "cell_type": "code",
   "execution_count": 20,
   "id": "75277937",
   "metadata": {},
   "outputs": [
    {
     "data": {
      "text/plain": [
       "25"
      ]
     },
     "execution_count": 20,
     "metadata": {},
     "output_type": "execute_result"
    }
   ],
   "source": [
    "@square\n",
    "def minus(a, b):\n",
    "    return a - b\n",
    "\n",
    "minus(7, 2)"
   ]
  },
  {
   "cell_type": "markdown",
   "id": "5cccf4a5",
   "metadata": {},
   "source": [
    "#### 범위 | scope\n",
    "- 전역: global\n",
    "- 지역: local"
   ]
  },
  {
   "cell_type": "code",
   "execution_count": 21,
   "id": "6d5c0ec5",
   "metadata": {},
   "outputs": [],
   "source": [
    "a = 1 # global\n",
    "def add(a, b):\n",
    "    x = 2 # local\n",
    "    return a + b\n",
    "\n",
    "def square(func):\n",
    "    # local\n",
    "    def inner(a, b): # nonlocal\n",
    "        result = func(a, b)\n",
    "        return result * result\n",
    "    return inner"
   ]
  },
  {
   "cell_type": "code",
   "execution_count": 22,
   "id": "9a0bcb89",
   "metadata": {},
   "outputs": [
    {
     "data": {
      "text/plain": [
       "999"
      ]
     },
     "execution_count": 22,
     "metadata": {},
     "output_type": "execute_result"
    }
   ],
   "source": [
    "a = 3 # global\n",
    "def outer(c):\n",
    "    b = 5 # local\n",
    "    def inner():\n",
    "        c = 999 # nonlocal\n",
    "        return c\n",
    "    return inner()\n",
    "\n",
    "outer(9)"
   ]
  },
  {
   "cell_type": "code",
   "execution_count": 25,
   "id": "b217e9d4",
   "metadata": {},
   "outputs": [
    {
     "data": {
      "text/plain": [
       "10"
      ]
     },
     "execution_count": 25,
     "metadata": {},
     "output_type": "execute_result"
    }
   ],
   "source": [
    "a = 3 # global\n",
    "def outer(c):\n",
    "    b = 5 # local\n",
    "    def inner():\n",
    "        nonlocal c\n",
    "        c += 1\n",
    "        return c\n",
    "    return inner()\n",
    "\n",
    "outer(9)"
   ]
  },
  {
   "cell_type": "markdown",
   "id": "1fa62366",
   "metadata": {},
   "source": [
    "#### 실습\n",
    "- fx1: speed, limit 내 속도가 제한속도를 위반하는지 true / false\n",
    "- fx2: 클로저. 초과할 경우 얼마나 초과하는지 프린트하는 함수\n",
    "- 실행은 데코레이터로"
   ]
  },
  {
   "cell_type": "code",
   "execution_count": 32,
   "id": "ec303ee3",
   "metadata": {},
   "outputs": [
    {
     "data": {
      "text/plain": [
       "'초과: 40 km/h'"
      ]
     },
     "execution_count": 32,
     "metadata": {},
     "output_type": "execute_result"
    }
   ],
   "source": [
    "def violate(func):\n",
    "    def inner(speed, limit):\n",
    "        if func(speed, limit): # True\n",
    "            return f'초과: {speed - limit} km/h'\n",
    "        else:\n",
    "            return '정상 속도'\n",
    "    return inner\n",
    "\n",
    "@violate\n",
    "def is_speeding(speed, limit):\n",
    "    return speed > limit\n",
    "\n",
    "is_speeding(110, 70)"
   ]
  },
  {
   "cell_type": "markdown",
   "id": "48172558",
   "metadata": {},
   "source": [
    "### 익명함수 | lambda\n",
    "- 이름이 없다. \n",
    "    - def is_speeding():\n",
    "        return\n",
    "- def, return\n",
    "- is_speeding\n",
    "- 단순한 용도의 함수가 필요할 경우 사용\n",
    "- 잦은 사용은 권하지 않음\n",
    "- lambda x: <x를 요리할 코드>"
   ]
  },
  {
   "cell_type": "code",
   "execution_count": 33,
   "id": "3c1c175a",
   "metadata": {},
   "outputs": [
    {
     "data": {
      "text/plain": [
       "3"
      ]
     },
     "execution_count": 33,
     "metadata": {},
     "output_type": "execute_result"
    }
   ],
   "source": [
    "def add_one(x):\n",
    "    return x + 1\n",
    "add_one(2)"
   ]
  },
  {
   "cell_type": "code",
   "execution_count": 34,
   "id": "cfa5ab9a",
   "metadata": {},
   "outputs": [
    {
     "data": {
      "text/plain": [
       "3"
      ]
     },
     "execution_count": 34,
     "metadata": {},
     "output_type": "execute_result"
    }
   ],
   "source": [
    "(lambda x: x + 1)(2)"
   ]
  },
  {
   "cell_type": "code",
   "execution_count": 35,
   "id": "c8e8949c",
   "metadata": {},
   "outputs": [
    {
     "data": {
      "text/plain": [
       "11"
      ]
     },
     "execution_count": 35,
     "metadata": {},
     "output_type": "execute_result"
    }
   ],
   "source": [
    "f = lambda x, y: x + y\n",
    "f(2, 9)"
   ]
  },
  {
   "cell_type": "markdown",
   "id": "a184ce25",
   "metadata": {},
   "source": [
    "#### 실습\n",
    "- 단어가 들어왔을 때 첫글자 대문자로 바꾸고 단어 끝에 !를 붙이도록 람다 생성\n",
    "- ex: hello -> Hello!"
   ]
  },
  {
   "cell_type": "code",
   "execution_count": 39,
   "id": "58a89b50",
   "metadata": {},
   "outputs": [
    {
     "data": {
      "text/plain": [
       "'Hello!'"
      ]
     },
     "execution_count": 39,
     "metadata": {},
     "output_type": "execute_result"
    }
   ],
   "source": [
    "f = lambda x: x.capitalize() + '!'\n",
    "f('hello')"
   ]
  },
  {
   "cell_type": "markdown",
   "id": "1fa0d38e",
   "metadata": {},
   "source": [
    "### 제너레이터\n",
    "- return -> yield\n",
    "- 시퀀스를 순회할 때 시퀀스를 생성하는 객체.\n",
    "- 한 번 사용되고 사라짐 => 메모리 효율 좋음"
   ]
  },
  {
   "cell_type": "code",
   "execution_count": 41,
   "id": "2e97c514",
   "metadata": {},
   "outputs": [
    {
     "data": {
      "text/plain": [
       "<generator object print_number at 0x00000268BAFF8190>"
      ]
     },
     "execution_count": 41,
     "metadata": {},
     "output_type": "execute_result"
    }
   ],
   "source": [
    "def print_number(num):\n",
    "    for i in range(num):\n",
    "        yield i\n",
    "        \n",
    "print_number(5)"
   ]
  },
  {
   "cell_type": "code",
   "execution_count": 43,
   "id": "4a523046",
   "metadata": {},
   "outputs": [
    {
     "name": "stdout",
     "output_type": "stream",
     "text": [
      "0\n",
      "1\n",
      "2\n",
      "3\n",
      "4\n"
     ]
    }
   ],
   "source": [
    "fx = print_number(5)\n",
    "\n",
    "for i in fx:\n",
    "    print(i)"
   ]
  },
  {
   "cell_type": "code",
   "execution_count": 44,
   "id": "fd703b3a",
   "metadata": {},
   "outputs": [],
   "source": [
    "for i in fx:\n",
    "    print(i) # 두 번째 돌렸을 때는 출력 X"
   ]
  },
  {
   "cell_type": "markdown",
   "id": "88cdd71d",
   "metadata": {},
   "source": [
    "#### 실습\n",
    "- range() 구현하기\n",
    "    - 제너레이터 사용\n",
    "    - def my_range(start, end, step):\n",
    "        yield\n",
    "- ranger = my_range(a, b, c)"
   ]
  },
  {
   "cell_type": "code",
   "execution_count": 47,
   "id": "4647798f",
   "metadata": {},
   "outputs": [
    {
     "name": "stdout",
     "output_type": "stream",
     "text": [
      "1\n",
      "3\n",
      "5\n",
      "7\n",
      "9\n"
     ]
    }
   ],
   "source": [
    "def my_range(start, end, step):\n",
    "    i = start\n",
    "    while i < end:\n",
    "        yield i\n",
    "        i += step\n",
    "        \n",
    "ranger = my_range(1, 10, 2)\n",
    "for i in ranger:\n",
    "    print(i)"
   ]
  },
  {
   "cell_type": "code",
   "execution_count": 48,
   "id": "b59eb413",
   "metadata": {},
   "outputs": [
    {
     "data": {
      "text/plain": [
       "[0, 1, 2, 3, 4]"
      ]
     },
     "execution_count": 48,
     "metadata": {},
     "output_type": "execute_result"
    }
   ],
   "source": [
    "[i for i in range(5)]"
   ]
  },
  {
   "cell_type": "code",
   "execution_count": 49,
   "id": "fa355ed3",
   "metadata": {},
   "outputs": [],
   "source": [
    "ranger = (i for i in range(5))"
   ]
  },
  {
   "cell_type": "code",
   "execution_count": 50,
   "id": "fce360f7",
   "metadata": {},
   "outputs": [
    {
     "name": "stdout",
     "output_type": "stream",
     "text": [
      "0\n",
      "1\n",
      "2\n",
      "3\n",
      "4\n"
     ]
    }
   ],
   "source": [
    "for i in ranger:\n",
    "    print(i)"
   ]
  },
  {
   "cell_type": "markdown",
   "id": "a10c3c40",
   "metadata": {},
   "source": [
    "### 재귀함수\n",
    "- 너무 깊으면 예외 발생하므로 주의 필요\n",
    "- 자기 자신을 호출하는 함수\n",
    "- [[1,2,3],[[[1,1]],4,5]] -> [1,2,3,1,1,4,5]"
   ]
  },
  {
   "cell_type": "code",
   "execution_count": 55,
   "id": "f2d0d896",
   "metadata": {},
   "outputs": [],
   "source": [
    "def flatten(sent):\n",
    "    for word in sent:\n",
    "        if isinstance(word, list):\n",
    "            # true 요쇼가 리스트 타입이라면\n",
    "            # for sub_word in flatten(word): 요소를 다시 flatten 함수 안에\n",
    "            #     yield sub_word\n",
    "            yield from flatten(word)\n",
    "        else:\n",
    "            # false 리스트 타입이 아닐 경우\n",
    "            yield word"
   ]
  },
  {
   "cell_type": "code",
   "execution_count": 60,
   "id": "258ca12b",
   "metadata": {},
   "outputs": [
    {
     "data": {
      "text/plain": [
       "True"
      ]
     },
     "execution_count": 60,
     "metadata": {},
     "output_type": "execute_result"
    }
   ],
   "source": [
    "isinstance('b', str)"
   ]
  },
  {
   "cell_type": "code",
   "execution_count": 61,
   "id": "276a10a5",
   "metadata": {},
   "outputs": [
    {
     "name": "stdout",
     "output_type": "stream",
     "text": [
      "1\n",
      "2\n",
      "3\n",
      "1\n",
      "1\n",
      "4\n",
      "5\n"
     ]
    }
   ],
   "source": [
    "a = [[1, 2, 3], [[[1, 1]], 4, 5]]\n",
    "\n",
    "for i in flatten(a):\n",
    "    print(i)"
   ]
  },
  {
   "cell_type": "markdown",
   "id": "e570bd6d",
   "metadata": {},
   "source": [
    "## 예외 처리 | exception handling\n",
    "- 목적: 프로그램 정상 종료\n",
    "- 예외 발생 시, 사용자에게 알리고 조치 취함\n",
    "- 소프트랜딩"
   ]
  },
  {
   "cell_type": "markdown",
   "id": "a6fa18c4",
   "metadata": {},
   "source": [
    "#### 종류\n",
    "- ZeroDivisionError \n",
    "    - ex. 10 / 0\n",
    "- ValueError \n",
    "    - ex. int('ssssx')\n",
    "- NameError\n",
    "    - ex. hello += 1\n",
    "- IndexError\n",
    "    - ex. 'sssss'[10]\n",
    "- ... 등등"
   ]
  },
  {
   "cell_type": "code",
   "execution_count": 1,
   "id": "6f7d9c71",
   "metadata": {},
   "outputs": [
    {
     "name": "stdout",
     "output_type": "stream",
     "text": [
      "0으로 나눌 수 없음\n"
     ]
    }
   ],
   "source": [
    "try:\n",
    "    # <에러 발생될 법한 코드 블럭>\n",
    "    10 / 0\n",
    "except ZeroDivisionError: # <에러타입>:\n",
    "    # <처리할 방법>\n",
    "    print('0으로 나눌 수 없음')"
   ]
  },
  {
   "cell_type": "code",
   "execution_count": 2,
   "id": "eccdae63",
   "metadata": {},
   "outputs": [
    {
     "name": "stdout",
     "output_type": "stream",
     "text": [
      "error\n",
      "10.0\n",
      "5.0\n",
      "3.3333333333333335\n",
      "2.5\n",
      "2.0\n",
      "1.6666666666666667\n",
      "1.4285714285714286\n",
      "1.25\n",
      "1.1111111111111112\n"
     ]
    }
   ],
   "source": [
    "for i in range(10):\n",
    "    try:\n",
    "        print(10 / i)\n",
    "    except ZeroDivisionError:\n",
    "        print('error')"
   ]
  },
  {
   "cell_type": "code",
   "execution_count": 3,
   "id": "efbf28ff",
   "metadata": {},
   "outputs": [
    {
     "name": "stdout",
     "output_type": "stream",
     "text": [
      "인덱스를 입력하세요> 2\n",
      "l\n",
      "인덱스를 입력하세요> 9\n",
      "index error\n",
      "string index out of range\n",
      "인덱스를 입력하세요> abc\n",
      "type error\n",
      "invalid literal for int() with base 10: 'abc'\n",
      "인덱스를 입력하세요> q\n"
     ]
    }
   ],
   "source": [
    "word = 'hello'\n",
    "while True:\n",
    "    index = input('인덱스를 입력하세요> ')\n",
    "    if index == 'q':\n",
    "        break\n",
    "    try:\n",
    "        print(word[int(index)])\n",
    "    except IndexError as e1: # handler\n",
    "        print('index error')\n",
    "        print(e1)\n",
    "    except ValueError as e2:\n",
    "        print('type error')\n",
    "        print(e2)"
   ]
  },
  {
   "cell_type": "markdown",
   "id": "8d5d975a",
   "metadata": {},
   "source": [
    "#### 예외 발생시키기\n",
    "프로그램을 강제 종료하고자 할 때 사용함\n",
    "- raise : 예외 발생시킴\n",
    "- assert : 예외 확인"
   ]
  },
  {
   "cell_type": "code",
   "execution_count": null,
   "id": "9de97281",
   "metadata": {},
   "outputs": [],
   "source": [
    "raise ValueError('print ...')"
   ]
  },
  {
   "cell_type": "code",
   "execution_count": 5,
   "id": "650a2649",
   "metadata": {},
   "outputs": [
    {
     "name": "stdout",
     "output_type": "stream",
     "text": [
      "number>> n\n"
     ]
    },
    {
     "ename": "ValueError",
     "evalue": "숫자가 아닙니다.",
     "output_type": "error",
     "traceback": [
      "\u001b[1;31m---------------------------------------------------------------------------\u001b[0m",
      "\u001b[1;31mValueError\u001b[0m                                Traceback (most recent call last)",
      "\u001b[1;32m~\\AppData\\Local\\Temp/ipykernel_18984/2941626252.py\u001b[0m in \u001b[0;36m<module>\u001b[1;34m\u001b[0m\n\u001b[0;32m      2\u001b[0m     \u001b[0mnum\u001b[0m \u001b[1;33m=\u001b[0m \u001b[0minput\u001b[0m\u001b[1;33m(\u001b[0m\u001b[1;34m'number>> '\u001b[0m\u001b[1;33m)\u001b[0m\u001b[1;33m\u001b[0m\u001b[1;33m\u001b[0m\u001b[0m\n\u001b[0;32m      3\u001b[0m     \u001b[1;32mif\u001b[0m \u001b[1;32mnot\u001b[0m \u001b[0mnum\u001b[0m\u001b[1;33m.\u001b[0m\u001b[0misdigit\u001b[0m\u001b[1;33m(\u001b[0m\u001b[1;33m)\u001b[0m\u001b[1;33m:\u001b[0m\u001b[1;33m\u001b[0m\u001b[1;33m\u001b[0m\u001b[0m\n\u001b[1;32m----> 4\u001b[1;33m         \u001b[1;32mraise\u001b[0m \u001b[0mValueError\u001b[0m\u001b[1;33m(\u001b[0m\u001b[1;34m'숫자가 아닙니다.'\u001b[0m\u001b[1;33m)\u001b[0m\u001b[1;33m\u001b[0m\u001b[1;33m\u001b[0m\u001b[0m\n\u001b[0m\u001b[0;32m      5\u001b[0m     \u001b[1;32melse\u001b[0m\u001b[1;33m:\u001b[0m\u001b[1;33m\u001b[0m\u001b[1;33m\u001b[0m\u001b[0m\n\u001b[0;32m      6\u001b[0m         \u001b[0mprint\u001b[0m\u001b[1;33m(\u001b[0m\u001b[0mnum\u001b[0m\u001b[1;33m)\u001b[0m\u001b[1;33m\u001b[0m\u001b[1;33m\u001b[0m\u001b[0m\n",
      "\u001b[1;31mValueError\u001b[0m: 숫자가 아닙니다."
     ]
    }
   ],
   "source": [
    "while True:\n",
    "    num = input('number>> ')\n",
    "    if not num.isdigit():\n",
    "        raise ValueError('숫자가 아닙니다.')\n",
    "    else:\n",
    "        print(num)\n",
    "        break"
   ]
  },
  {
   "cell_type": "code",
   "execution_count": null,
   "id": "ac7d05c4",
   "metadata": {},
   "outputs": [],
   "source": [
    "assert <참인 조건>, '예외 메시지' # AssertionError"
   ]
  },
  {
   "cell_type": "code",
   "execution_count": 11,
   "id": "b65edc32",
   "metadata": {},
   "outputs": [
    {
     "ename": "AssertionError",
     "evalue": "정수가 아니다",
     "output_type": "error",
     "traceback": [
      "\u001b[1;31m---------------------------------------------------------------------------\u001b[0m",
      "\u001b[1;31mAssertionError\u001b[0m                            Traceback (most recent call last)",
      "\u001b[1;32m~\\AppData\\Local\\Temp/ipykernel_18984/3241061754.py\u001b[0m in \u001b[0;36m<module>\u001b[1;34m\u001b[0m\n\u001b[0;32m      3\u001b[0m     \u001b[1;32mreturn\u001b[0m \u001b[0mbin\u001b[0m\u001b[1;33m(\u001b[0m\u001b[0mnum\u001b[0m\u001b[1;33m)\u001b[0m\u001b[1;33m\u001b[0m\u001b[1;33m\u001b[0m\u001b[0m\n\u001b[0;32m      4\u001b[0m \u001b[1;33m\u001b[0m\u001b[0m\n\u001b[1;32m----> 5\u001b[1;33m \u001b[0mget_binary\u001b[0m\u001b[1;33m(\u001b[0m\u001b[1;34m'da'\u001b[0m\u001b[1;33m)\u001b[0m\u001b[1;33m\u001b[0m\u001b[1;33m\u001b[0m\u001b[0m\n\u001b[0m",
      "\u001b[1;32m~\\AppData\\Local\\Temp/ipykernel_18984/3241061754.py\u001b[0m in \u001b[0;36mget_binary\u001b[1;34m(num)\u001b[0m\n\u001b[0;32m      1\u001b[0m \u001b[1;32mdef\u001b[0m \u001b[0mget_binary\u001b[0m\u001b[1;33m(\u001b[0m\u001b[0mnum\u001b[0m\u001b[1;33m)\u001b[0m\u001b[1;33m:\u001b[0m\u001b[1;33m\u001b[0m\u001b[1;33m\u001b[0m\u001b[0m\n\u001b[1;32m----> 2\u001b[1;33m     \u001b[1;32massert\u001b[0m \u001b[0misinstance\u001b[0m\u001b[1;33m(\u001b[0m\u001b[0mnum\u001b[0m\u001b[1;33m,\u001b[0m \u001b[0mint\u001b[0m\u001b[1;33m)\u001b[0m\u001b[1;33m,\u001b[0m \u001b[1;34m'정수가 아니다'\u001b[0m \u001b[1;31m# check 기능\u001b[0m\u001b[1;33m\u001b[0m\u001b[1;33m\u001b[0m\u001b[0m\n\u001b[0m\u001b[0;32m      3\u001b[0m     \u001b[1;32mreturn\u001b[0m \u001b[0mbin\u001b[0m\u001b[1;33m(\u001b[0m\u001b[0mnum\u001b[0m\u001b[1;33m)\u001b[0m\u001b[1;33m\u001b[0m\u001b[1;33m\u001b[0m\u001b[0m\n\u001b[0;32m      4\u001b[0m \u001b[1;33m\u001b[0m\u001b[0m\n\u001b[0;32m      5\u001b[0m \u001b[0mget_binary\u001b[0m\u001b[1;33m(\u001b[0m\u001b[1;34m'da'\u001b[0m\u001b[1;33m)\u001b[0m\u001b[1;33m\u001b[0m\u001b[1;33m\u001b[0m\u001b[0m\n",
      "\u001b[1;31mAssertionError\u001b[0m: 정수가 아니다"
     ]
    }
   ],
   "source": [
    "def get_binary(num):\n",
    "    assert isinstance(num, int), '정수가 아니다' # check 기능\n",
    "    return bin(num)\n",
    "\n",
    "get_binary('da')"
   ]
  },
  {
   "cell_type": "markdown",
   "id": "29e695b1",
   "metadata": {},
   "source": [
    "#### 예외 정의하기\n",
    "- 사용자 정의 예외\n",
    "- Exception이라는 부모클래스를 상속받는다."
   ]
  },
  {
   "cell_type": "code",
   "execution_count": 12,
   "id": "596ad46a",
   "metadata": {},
   "outputs": [],
   "source": [
    "class MyException(Exception):\n",
    "    pass"
   ]
  },
  {
   "cell_type": "code",
   "execution_count": 14,
   "id": "1a6bc052",
   "metadata": {},
   "outputs": [
    {
     "name": "stdout",
     "output_type": "stream",
     "text": [
      "a\n",
      "b\n"
     ]
    },
    {
     "ename": "MyException",
     "evalue": "대문자 X",
     "output_type": "error",
     "traceback": [
      "\u001b[1;31m---------------------------------------------------------------------------\u001b[0m",
      "\u001b[1;31mMyException\u001b[0m                               Traceback (most recent call last)",
      "\u001b[1;32m~\\AppData\\Local\\Temp/ipykernel_18984/2848186303.py\u001b[0m in \u001b[0;36m<module>\u001b[1;34m\u001b[0m\n\u001b[0;32m      1\u001b[0m \u001b[1;32mfor\u001b[0m \u001b[0mword\u001b[0m \u001b[1;32min\u001b[0m \u001b[1;33m[\u001b[0m\u001b[1;34m'a'\u001b[0m\u001b[1;33m,\u001b[0m \u001b[1;34m'b'\u001b[0m\u001b[1;33m,\u001b[0m \u001b[1;34m'C'\u001b[0m\u001b[1;33m]\u001b[0m\u001b[1;33m:\u001b[0m\u001b[1;33m\u001b[0m\u001b[1;33m\u001b[0m\u001b[0m\n\u001b[0;32m      2\u001b[0m     \u001b[1;32mif\u001b[0m \u001b[0mword\u001b[0m\u001b[1;33m.\u001b[0m\u001b[0misupper\u001b[0m\u001b[1;33m(\u001b[0m\u001b[1;33m)\u001b[0m\u001b[1;33m:\u001b[0m\u001b[1;33m\u001b[0m\u001b[1;33m\u001b[0m\u001b[0m\n\u001b[1;32m----> 3\u001b[1;33m         \u001b[1;32mraise\u001b[0m \u001b[0mMyException\u001b[0m\u001b[1;33m(\u001b[0m\u001b[1;34m'대문자 X'\u001b[0m\u001b[1;33m)\u001b[0m\u001b[1;33m\u001b[0m\u001b[1;33m\u001b[0m\u001b[0m\n\u001b[0m\u001b[0;32m      4\u001b[0m     \u001b[1;32melse\u001b[0m\u001b[1;33m:\u001b[0m\u001b[1;33m\u001b[0m\u001b[1;33m\u001b[0m\u001b[0m\n\u001b[0;32m      5\u001b[0m         \u001b[0mprint\u001b[0m\u001b[1;33m(\u001b[0m\u001b[0mword\u001b[0m\u001b[1;33m)\u001b[0m\u001b[1;33m\u001b[0m\u001b[1;33m\u001b[0m\u001b[0m\n",
      "\u001b[1;31mMyException\u001b[0m: 대문자 X"
     ]
    }
   ],
   "source": [
    "for word in ['a', 'b', 'C']:\n",
    "    if word.isupper():\n",
    "        raise MyException('대문자 X')\n",
    "    else:\n",
    "        print(word)"
   ]
  },
  {
   "cell_type": "code",
   "execution_count": 15,
   "id": "88d6fa31",
   "metadata": {},
   "outputs": [
    {
     "name": "stdout",
     "output_type": "stream",
     "text": [
      "a\n",
      "b\n"
     ]
    },
    {
     "ename": "UppercaseException",
     "evalue": "대문자 불가능",
     "output_type": "error",
     "traceback": [
      "\u001b[1;31m---------------------------------------------------------------------------\u001b[0m",
      "\u001b[1;31mUppercaseException\u001b[0m                        Traceback (most recent call last)",
      "\u001b[1;32m~\\AppData\\Local\\Temp/ipykernel_18984/891044637.py\u001b[0m in \u001b[0;36m<module>\u001b[1;34m\u001b[0m\n\u001b[0;32m      5\u001b[0m \u001b[1;32mfor\u001b[0m \u001b[0mword\u001b[0m \u001b[1;32min\u001b[0m \u001b[1;33m[\u001b[0m\u001b[1;34m'a'\u001b[0m\u001b[1;33m,\u001b[0m \u001b[1;34m'b'\u001b[0m\u001b[1;33m,\u001b[0m \u001b[1;34m'C'\u001b[0m\u001b[1;33m]\u001b[0m\u001b[1;33m:\u001b[0m\u001b[1;33m\u001b[0m\u001b[1;33m\u001b[0m\u001b[0m\n\u001b[0;32m      6\u001b[0m     \u001b[1;32mif\u001b[0m \u001b[0mword\u001b[0m\u001b[1;33m.\u001b[0m\u001b[0misupper\u001b[0m\u001b[1;33m(\u001b[0m\u001b[1;33m)\u001b[0m\u001b[1;33m:\u001b[0m\u001b[1;33m\u001b[0m\u001b[1;33m\u001b[0m\u001b[0m\n\u001b[1;32m----> 7\u001b[1;33m         \u001b[1;32mraise\u001b[0m \u001b[0mUppercaseException\u001b[0m\u001b[1;33m\u001b[0m\u001b[1;33m\u001b[0m\u001b[0m\n\u001b[0m\u001b[0;32m      8\u001b[0m     \u001b[1;32melse\u001b[0m\u001b[1;33m:\u001b[0m\u001b[1;33m\u001b[0m\u001b[1;33m\u001b[0m\u001b[0m\n\u001b[0;32m      9\u001b[0m         \u001b[0mprint\u001b[0m\u001b[1;33m(\u001b[0m\u001b[0mword\u001b[0m\u001b[1;33m)\u001b[0m\u001b[1;33m\u001b[0m\u001b[1;33m\u001b[0m\u001b[0m\n",
      "\u001b[1;31mUppercaseException\u001b[0m: 대문자 불가능"
     ]
    }
   ],
   "source": [
    "class UppercaseException(Exception):\n",
    "    def __init__(self):\n",
    "        super().__init__('대문자 불가능')\n",
    "        \n",
    "for word in ['a', 'b', 'C']:\n",
    "    if word.isupper():\n",
    "        raise UppercaseException\n",
    "    else:\n",
    "        print(word)"
   ]
  },
  {
   "cell_type": "code",
   "execution_count": null,
   "id": "a26dc26a",
   "metadata": {},
   "outputs": [],
   "source": []
  }
 ],
 "metadata": {
  "kernelspec": {
   "display_name": "Python 3 (ipykernel)",
   "language": "python",
   "name": "python3"
  },
  "language_info": {
   "codemirror_mode": {
    "name": "ipython",
    "version": 3
   },
   "file_extension": ".py",
   "mimetype": "text/x-python",
   "name": "python",
   "nbconvert_exporter": "python",
   "pygments_lexer": "ipython3",
   "version": "3.9.7"
  }
 },
 "nbformat": 4,
 "nbformat_minor": 5
}
