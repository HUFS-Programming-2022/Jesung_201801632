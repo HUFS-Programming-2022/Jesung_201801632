{
 "cells": [
  {
   "cell_type": "markdown",
   "id": "921fc519",
   "metadata": {},
   "source": [
    "# 🔔Week07"
   ]
  },
  {
   "cell_type": "markdown",
   "id": "9db834e5",
   "metadata": {},
   "source": [
    "## 함수\n",
    "- 1. 정의\n",
    "- 2. 인수\n",
    "- 3. 호출 방식"
   ]
  },
  {
   "cell_type": "markdown",
   "id": "01c6f52d",
   "metadata": {},
   "source": [
    "### 1. 정의\n",
    "- 코드의 덩어리, 코드의 묶음\n",
    "- 간편한 재사용을 위해, 한 줄로 재사용 가능\n",
    "- 정의(define) 부분 + 호출(call) 부분\n",
    "    - 정의\n",
    "    def 함수이름(매개변수1,2,3, ...):\n",
    "        수행문1(매개변수 이용)\n",
    "        수행문2\n",
    "        ....\n",
    "        return 반환값\n",
    "    - 호출\n",
    "    함수이름(인수1,2,3, ...)\n",
    "- 함수 형식\n",
    "    1. 매개변수와 반환값 둘다 있는\n",
    "    2. 매개변수와 반화낪 둘다 없는\n",
    "    3. 매개변수만 있는\n",
    "    4. 반환값만 있는"
   ]
  },
  {
   "cell_type": "code",
   "execution_count": 1,
   "id": "4bb634b5",
   "metadata": {},
   "outputs": [
    {
     "data": {
      "text/plain": [
       "11"
      ]
     },
     "execution_count": 1,
     "metadata": {},
     "output_type": "execute_result"
    }
   ],
   "source": [
    "#1) 둘다 있는 케이스\n",
    "def ex(x):\n",
    "    y = x + 1\n",
    "    return y\n",
    "\n",
    "ex(10)"
   ]
  },
  {
   "cell_type": "code",
   "execution_count": 2,
   "id": "68bf38d0",
   "metadata": {},
   "outputs": [
    {
     "name": "stdout",
     "output_type": "stream",
     "text": [
      "YELL\n"
     ]
    }
   ],
   "source": [
    "#2) 둘다 없는 케이스\n",
    "def make_a_sound():\n",
    "    print('YELL')\n",
    "    \n",
    "make_a_sound()"
   ]
  },
  {
   "cell_type": "code",
   "execution_count": 3,
   "id": "cb7abeda",
   "metadata": {},
   "outputs": [
    {
     "name": "stdout",
     "output_type": "stream",
     "text": [
      "Hi Nice to meet you\n"
     ]
    }
   ],
   "source": [
    "#3) 매개변수만 있는 케이스\n",
    "def introduce_me(myself):\n",
    "    print(myself)\n",
    "\n",
    "introduce_me('Hi Nice to meet you')"
   ]
  },
  {
   "cell_type": "code",
   "execution_count": 4,
   "id": "86575982",
   "metadata": {},
   "outputs": [
    {
     "name": "stdout",
     "output_type": "stream",
     "text": [
      "Good\n"
     ]
    }
   ],
   "source": [
    "#4) 반환값만 있는 케이스 \n",
    "def agree():\n",
    "    return True\n",
    "if agree():\n",
    "    print('Good')\n",
    "else:\n",
    "    print('Bad')"
   ]
  },
  {
   "cell_type": "markdown",
   "id": "f5c32aa1",
   "metadata": {},
   "source": [
    "- 함수 이름 짓기\n",
    "    - 소문자만 사용\n",
    "        - split_word\n",
    "        - splitWord (가능하긴 함)\n",
    "    - 동작과 관련되어 있기 때문에 '동사 + 명사' 의 형태를 주로 사용\n",
    "    - i.e., 클래스는 명사 def split_word():\n",
    "    - 줄임말 사용 x, 정해진 줄임말은 사용 가능, 명료하게 짓기\n",
    "        - splt_word (X) calculate -> calc (O)"
   ]
  },
  {
   "cell_type": "markdown",
   "id": "a319eae4",
   "metadata": {},
   "source": [
    "### 2. 인수\n",
    "- 매개변수 vs. 인수\n",
    "    - 매개변수: 함수 내(인터페이스)에서 유효한 변수\n",
    "    - 인수: 실제 매개변수에 대입되는 변수\n",
    "    - \"호출 시에 인수가 매개변수에 복제된다.\"\n",
    "- 위치 인수\n",
    "    - positional argument\n",
    "    - 매개변수를 값에 순서에 상용하게 복제함\n",
    "- 키워드 인수\n",
    "    - keyword argument\n",
    "    - 매개변수 키워드에 맞는 인수로 지정 => 위치 순서 달라도 됨\n",
    "- 디폴트 인수\n",
    "    - default argument\n",
    "    - 매개변수를 정의할 때 값을 미리 지정해놓는 것\n",
    "    - 호출 시에 값이 입력되지 않으면 디폴트값을 사용\n",
    "    - 디폴트값이 언디폴트값 앞에 위치할 수는 없음"
   ]
  },
  {
   "cell_type": "code",
   "execution_count": 5,
   "id": "e3813481",
   "metadata": {},
   "outputs": [
    {
     "name": "stdout",
     "output_type": "stream",
     "text": [
      "yay\n"
     ]
    }
   ],
   "source": [
    "def make_a_sound(sound): # sound = 매개변수, yay = 인수\n",
    "    print(sound)\n",
    "    \n",
    "yay = 'yay'\n",
    "make_a_sound('yay')"
   ]
  },
  {
   "cell_type": "code",
   "execution_count": 6,
   "id": "b69bed1e",
   "metadata": {},
   "outputs": [
    {
     "data": {
      "text/plain": [
       "'yellow'"
      ]
     },
     "execution_count": 6,
     "metadata": {},
     "output_type": "execute_result"
    }
   ],
   "source": [
    "def commentary(color):\n",
    "    if color == 'g':\n",
    "        return 'green'\n",
    "    elif color == 'r':\n",
    "        return 'red'\n",
    "    else:\n",
    "        return 'yellow'\n",
    "    \n",
    "color = 'white'\n",
    "commentary(color)"
   ]
  },
  {
   "cell_type": "code",
   "execution_count": 7,
   "id": "2f01edef",
   "metadata": {},
   "outputs": [
    {
     "name": "stdout",
     "output_type": "stream",
     "text": [
      "green\n",
      "red\n",
      "yellow\n"
     ]
    }
   ],
   "source": [
    "colors = ['g', 'r', 'y']\n",
    "\n",
    "for color in colors:\n",
    "    print(commentary(color))"
   ]
  },
  {
   "cell_type": "code",
   "execution_count": 8,
   "id": "2d5a7533",
   "metadata": {},
   "outputs": [
    {
     "data": {
      "text/plain": [
       "{'orange': 'a', 'banana': 'b', 'apple': 'c'}"
      ]
     },
     "execution_count": 8,
     "metadata": {},
     "output_type": "execute_result"
    }
   ],
   "source": [
    "# 위치 인수\n",
    "def menu(orange, banana, apple):\n",
    "    return {'orange':orange, 'banana':banana, 'apple':apple}\n",
    "\n",
    "menu('a', 'b', 'c')"
   ]
  },
  {
   "cell_type": "code",
   "execution_count": 9,
   "id": "69fcc128",
   "metadata": {},
   "outputs": [
    {
     "data": {
      "text/plain": [
       "{'orange': 'b', 'banana': 'a', 'apple': 'c'}"
      ]
     },
     "execution_count": 9,
     "metadata": {},
     "output_type": "execute_result"
    }
   ],
   "source": [
    "# 키워드 인수\n",
    "menu(banana='a', orange='b', apple='c')"
   ]
  },
  {
   "cell_type": "code",
   "execution_count": 10,
   "id": "c3a4455f",
   "metadata": {},
   "outputs": [
    {
     "data": {
      "text/plain": [
       "{'orange': 'Japan', 'banana': 'India', 'apple': 'Korea'}"
      ]
     },
     "execution_count": 10,
     "metadata": {},
     "output_type": "execute_result"
    }
   ],
   "source": [
    "# 디폴트 인수\n",
    "def menu2(orange, banana, apple='Korea'):\n",
    "    return {'orange':orange, 'banana':banana, 'apple':apple}\n",
    "menu2('Japan', 'India')"
   ]
  },
  {
   "cell_type": "code",
   "execution_count": 11,
   "id": "037b8e1d",
   "metadata": {},
   "outputs": [
    {
     "data": {
      "text/plain": [
       "{'orange': 'Japan', 'banana': 'India', 'apple': 'China'}"
      ]
     },
     "execution_count": 11,
     "metadata": {},
     "output_type": "execute_result"
    }
   ],
   "source": [
    "menu2('Japan', 'India', 'China')"
   ]
  },
  {
   "cell_type": "markdown",
   "id": "c4e50e5e",
   "metadata": {},
   "source": [
    "### 3. 호출방식\n",
    "- 정의 부분은 호출 시 실행된다.\n",
    "- 메모리에 저장되어 있다가 호출 시에 사용\n",
    "- 매개변수 vs. 인수\n",
    "    - 참조에 의한 호출(call by reference)\n",
    "    - \"매개변수 = 인수\" copy되기 때문에 나타나는 문제점\n",
    "        - 리스트처럼 가변 객체일 때 주소값을 공유하므로 값이 변함."
   ]
  },
  {
   "cell_type": "code",
   "execution_count": 12,
   "id": "414ecb90",
   "metadata": {},
   "outputs": [
    {
     "name": "stdout",
     "output_type": "stream",
     "text": [
      "2\n",
      "3\n",
      "1\n",
      "4\n"
     ]
    }
   ],
   "source": [
    "# 코드가 돌아가는 순서 파악\n",
    "def multiply(x, y):\n",
    "    print('1')\n",
    "    return x * y\n",
    "\n",
    "print('2')\n",
    "i = 2\n",
    "j = 4\n",
    "\n",
    "print('3')\n",
    "multiply(i, j) # i = 2, j = 4 -> x = i, y = j -> copy\n",
    "\n",
    "print('4')"
   ]
  },
  {
   "cell_type": "code",
   "execution_count": 13,
   "id": "81e177e1",
   "metadata": {},
   "outputs": [
    {
     "name": "stdout",
     "output_type": "stream",
     "text": [
      "[2, 3, 'a']\n",
      "[2, 3, 'b']\n"
     ]
    }
   ],
   "source": [
    "def buggy(arg, result=[]):\n",
    "    result = [2, 3]\n",
    "    result.append(arg)\n",
    "    print(result)\n",
    "    \n",
    "a, b = 'a', 'b'\n",
    "buggy(a) # ['a']\n",
    "buggy(b) # ['b']"
   ]
  },
  {
   "cell_type": "code",
   "execution_count": 14,
   "id": "0cfaf065",
   "metadata": {},
   "outputs": [
    {
     "name": "stdout",
     "output_type": "stream",
     "text": [
      "['a']\n",
      "['c', 'b']\n"
     ]
    }
   ],
   "source": [
    "# 둘다 조건식으로 포함하는 함수로 변경하기\n",
    "def nonbuggy(arg, result=[]):\n",
    "    # 리스트 없으면 빈 리스트 생성하고, 있으면 사용\n",
    "    if result is None:\n",
    "        result = []\n",
    "        \n",
    "    result.append(arg)\n",
    "    print(result)\n",
    "\n",
    "# \"없는 값, 아무것도 없다\" None\n",
    "empty = ['c']\n",
    "nonbuggy(a)\n",
    "nonbuggy(b, empty)"
   ]
  },
  {
   "cell_type": "code",
   "execution_count": 15,
   "id": "5b6abcd8",
   "metadata": {},
   "outputs": [
    {
     "name": "stdout",
     "output_type": "stream",
     "text": [
      "None\n"
     ]
    }
   ],
   "source": [
    "thing = None\n",
    "\n",
    "if thing: # True\n",
    "    print('True')\n",
    "elif thing == False: # False\n",
    "    print('False')\n",
    "else:\n",
    "    print('None')"
   ]
  },
  {
   "cell_type": "code",
   "execution_count": 16,
   "id": "e0c03ee7",
   "metadata": {},
   "outputs": [
    {
     "name": "stdout",
     "output_type": "stream",
     "text": [
      "seoul\n",
      "seoul == seoul\n"
     ]
    }
   ],
   "source": [
    "def fx():\n",
    "    global city # 전역 변수\n",
    "    city = 'seoul' # 지역 변수\n",
    "    print(city)\n",
    "\n",
    "city = 'tokyo'\n",
    "fx() # city = seoul\n",
    "print(city, '== seoul')"
   ]
  },
  {
   "cell_type": "markdown",
   "id": "60822bfc",
   "metadata": {},
   "source": [
    "## doc string\n",
    "- 함수 설명\n",
    "- 매개변수 타입, 의미, 함수 기능\n",
    "- \"\"\"독스트링\"\"\""
   ]
  },
  {
   "cell_type": "code",
   "execution_count": 25,
   "id": "61f54a87",
   "metadata": {},
   "outputs": [],
   "source": [
    "def buggy(arg, result=[]):\n",
    "    \"\"\"\n",
    "    arg: str, 사람 이름\n",
    "    result: list, xxx\n",
    "    사람 이름을 리스트에 추가한다.\n",
    "    \"\"\"\n",
    "    if arg == thing:\n",
    "        new_list = []\n",
    "        new_list.append(arg)\n",
    "    else:\n",
    "        result.append(arg)"
   ]
  },
  {
   "cell_type": "code",
   "execution_count": 19,
   "id": "d9dfa506",
   "metadata": {},
   "outputs": [
    {
     "name": "stdout",
     "output_type": "stream",
     "text": [
      "Help on function buggy in module __main__:\n",
      "\n",
      "buggy(arg, result=[])\n",
      "    arg: str, 사람 이름\n",
      "    result: list, xxx\n",
      "    사람 이름을 리스트에 추가한다.\n",
      "\n"
     ]
    }
   ],
   "source": [
    "# 독스트링 확인\n",
    "help(buggy)"
   ]
  },
  {
   "cell_type": "code",
   "execution_count": 20,
   "id": "f9d3d25c",
   "metadata": {},
   "outputs": [
    {
     "data": {
      "text/plain": [
       "'\\n    arg: str, 사람 이름\\n    result: list, xxx\\n    사람 이름을 리스트에 추가한다.\\n    '"
      ]
     },
     "execution_count": 20,
     "metadata": {},
     "output_type": "execute_result"
    }
   ],
   "source": [
    "buggy.__doc__"
   ]
  },
  {
   "cell_type": "markdown",
   "id": "52e94a6d",
   "metadata": {},
   "source": [
    "### Quiz.\n",
    "- 나이 -> 연도\n",
    "- 함수: 입력값 = 나이, 반환 = 연도 (2022 - 나이 + 1)\n",
    "- 나이 = input 받기"
   ]
  },
  {
   "cell_type": "code",
   "execution_count": 24,
   "id": "13adf442",
   "metadata": {},
   "outputs": [
    {
     "name": "stdout",
     "output_type": "stream",
     "text": [
      "나이를 입력하시오.24\n",
      "태어난 연도: 1999\n"
     ]
    }
   ],
   "source": [
    "def age_to_year(age):\n",
    "    year = 2022 - age + 1\n",
    "    return year\n",
    "\n",
    "age = int(input(\"나이를 입력하시오.\"))\n",
    "\n",
    "print(f\"태어난 연도: {age_to_year(age)}\")"
   ]
  },
  {
   "cell_type": "markdown",
   "id": "954731a7",
   "metadata": {},
   "source": [
    "## 브라운 정제하기\n",
    "1. 문장 분절\n",
    "2. 단어 분절\n",
    "3. 문장부호 제거\n",
    "4. 하이픈, 's, 'nt, 'd 제거\n",
    "5. 함수로 제작"
   ]
  },
  {
   "cell_type": "code",
   "execution_count": 26,
   "id": "aeb2484e",
   "metadata": {},
   "outputs": [
    {
     "name": "stderr",
     "output_type": "stream",
     "text": [
      "[nltk_data] Downloading package brown to\n",
      "[nltk_data]     C:\\Users\\SAMSUNG\\AppData\\Roaming\\nltk_data...\n",
      "[nltk_data]   Package brown is already up-to-date!\n"
     ]
    }
   ],
   "source": [
    "import string\n",
    "import nltk\n",
    "\n",
    "nltk.download('brown')\n",
    "brown = nltk.corpus.brown\n",
    "romance = brown.raw(categories='romance')[:5000]"
   ]
  },
  {
   "cell_type": "markdown",
   "id": "e578b40f",
   "metadata": {},
   "source": [
    "### 문장분절"
   ]
  },
  {
   "cell_type": "code",
   "execution_count": 27,
   "id": "6809e5b2",
   "metadata": {},
   "outputs": [
    {
     "data": {
      "text/plain": [
       "'They/ppss neither/cc liked/vbd nor/cc disliked/vbd the/at Old/jj-tl Man/nn-tl'"
      ]
     },
     "execution_count": 27,
     "metadata": {},
     "output_type": "execute_result"
    }
   ],
   "source": [
    "# ./.\n",
    "# /.\n",
    "sentences = [sent.replace('!','./.').strip() for sent in romance.split('./.')]\n",
    "\n",
    "sentences[0]"
   ]
  },
  {
   "cell_type": "markdown",
   "id": "3ee16b1e",
   "metadata": {},
   "source": [
    "### 단어분절\n",
    "- sentences -> POS 제거, 단어 분절"
   ]
  },
  {
   "cell_type": "code",
   "execution_count": 30,
   "id": "2562abca",
   "metadata": {},
   "outputs": [
    {
     "data": {
      "text/plain": [
       "[['They', 'neither', 'liked', 'nor', 'disliked', 'the', 'Old', 'Man']]"
      ]
     },
     "execution_count": 30,
     "metadata": {},
     "output_type": "execute_result"
    }
   ],
   "source": [
    "example = sentences[0]\n",
    "SLASH = '/'\n",
    "sentence_tokens = [[word[:word.find(SLASH)] \\\n",
    "                    if word[:word.find(SLASH)] else word \\\n",
    "                     for word in example.split()] for example in sentences]\n",
    "\n",
    "sentence_tokens[:1]"
   ]
  },
  {
   "cell_type": "markdown",
   "id": "be0fc841",
   "metadata": {},
   "source": [
    "### punctuations"
   ]
  },
  {
   "cell_type": "code",
   "execution_count": 34,
   "id": "a330bc21",
   "metadata": {},
   "outputs": [
    {
     "name": "stdout",
     "output_type": "stream",
     "text": [
      "['!', '\"', '#', '$', '%', '&', \"'\", '(', ')', '*', '+', ',', '-', '.', '/', ':', ';', '<', '=', '>', '?', '@', '[', '\\\\', ']', '^', '_', '`', '{', '|', '}', '~']\n"
     ]
    }
   ],
   "source": [
    "punct = list(string.punctuation)\n",
    "print(punct)"
   ]
  },
  {
   "cell_type": "code",
   "execution_count": 36,
   "id": "af131055",
   "metadata": {
    "collapsed": true
   },
   "outputs": [
    {
     "data": {
      "text/plain": [
       "[['They', 'neither', 'liked', 'nor', 'disliked', 'the', 'Old', 'Man'],\n",
       " ['To',\n",
       "  'them',\n",
       "  'he',\n",
       "  'could',\n",
       "  'have',\n",
       "  'been',\n",
       "  'the',\n",
       "  'broken',\n",
       "  'bell',\n",
       "  'in',\n",
       "  'the',\n",
       "  'church',\n",
       "  'tower',\n",
       "  'which',\n",
       "  'rang',\n",
       "  'before',\n",
       "  'and',\n",
       "  'after',\n",
       "  'Mass',\n",
       "  'and',\n",
       "  'at',\n",
       "  'noon',\n",
       "  'and',\n",
       "  'at',\n",
       "  'six',\n",
       "  'each',\n",
       "  'evening',\n",
       "  'its',\n",
       "  'tone',\n",
       "  'repetitive',\n",
       "  'monotonous',\n",
       "  'never',\n",
       "  'breaking',\n",
       "  'the',\n",
       "  'boredom',\n",
       "  'of',\n",
       "  'the',\n",
       "  'streets'],\n",
       " ['The', 'Old', 'Man', 'was', 'unimportant'],\n",
       " ['Yet',\n",
       "  'if',\n",
       "  'he',\n",
       "  'were',\n",
       "  'not',\n",
       "  'there',\n",
       "  'they',\n",
       "  'would',\n",
       "  'have',\n",
       "  'missed',\n",
       "  'him',\n",
       "  'as',\n",
       "  'they',\n",
       "  'would',\n",
       "  'have',\n",
       "  'missed',\n",
       "  'the',\n",
       "  'sounds',\n",
       "  'of',\n",
       "  'bees',\n",
       "  'buzzing',\n",
       "  'against',\n",
       "  'the',\n",
       "  'screen',\n",
       "  'door',\n",
       "  'in',\n",
       "  'early',\n",
       "  'June',\n",
       "  'or',\n",
       "  'the',\n",
       "  'smell',\n",
       "  'of',\n",
       "  'thick',\n",
       "  'tomato',\n",
       "  'paste',\n",
       "  'the',\n",
       "  'ripe',\n",
       "  'smell',\n",
       "  'that',\n",
       "  'was',\n",
       "  'both',\n",
       "  'sweet',\n",
       "  'and',\n",
       "  'sour',\n",
       "  'rising',\n",
       "  'up',\n",
       "  'from',\n",
       "  'aluminum',\n",
       "  'trays',\n",
       "  'wrapped',\n",
       "  'in',\n",
       "  'fly-dotted',\n",
       "  'cheesecloth'],\n",
       " ['Or',\n",
       "  'the',\n",
       "  'surging',\n",
       "  'whirling',\n",
       "  'sounds',\n",
       "  'of',\n",
       "  'bats',\n",
       "  'at',\n",
       "  'night',\n",
       "  'when',\n",
       "  'their',\n",
       "  'black',\n",
       "  'bodies',\n",
       "  'dived',\n",
       "  'into',\n",
       "  'the',\n",
       "  'blackness',\n",
       "  'above',\n",
       "  'and',\n",
       "  'below',\n",
       "  'the',\n",
       "  'amber',\n",
       "  'street',\n",
       "  'lights'],\n",
       " ['Or', 'the', 'bay', 'of', 'female', 'dogs', 'in', 'heat'],\n",
       " ['They',\n",
       "  'never',\n",
       "  'called',\n",
       "  'him',\n",
       "  'by',\n",
       "  'name',\n",
       "  'although',\n",
       "  'he',\n",
       "  'had',\n",
       "  'one'],\n",
       " ['Filippo',\n",
       "  'Rossi',\n",
       "  \"that's\",\n",
       "  'what',\n",
       "  'he',\n",
       "  'was',\n",
       "  'called',\n",
       "  'in',\n",
       "  'the',\n",
       "  'old',\n",
       "  'country',\n",
       "  'but',\n",
       "  'here',\n",
       "  'he',\n",
       "  'was',\n",
       "  'just',\n",
       "  'Signore',\n",
       "  'or',\n",
       "  'the',\n",
       "  'Old',\n",
       "  'Man'],\n",
       " ['But',\n",
       "  'this',\n",
       "  'was',\n",
       "  'not',\n",
       "  'unusual',\n",
       "  'because',\n",
       "  'youth',\n",
       "  'in',\n",
       "  'these',\n",
       "  'quarters',\n",
       "  'was',\n",
       "  'always',\n",
       "  'pushed',\n",
       "  'at',\n",
       "  'a',\n",
       "  'distance',\n",
       "  'from',\n",
       "  'its',\n",
       "  'elders'],\n",
       " ['Youth', 'obeyed', 'when', 'commanded'],\n",
       " ['It',\n",
       "  'went',\n",
       "  'to',\n",
       "  'church',\n",
       "  'on',\n",
       "  'Sunday',\n",
       "  'and',\n",
       "  'one',\n",
       "  'Saturday',\n",
       "  'a',\n",
       "  'month',\n",
       "  'went',\n",
       "  'to',\n",
       "  'confession'],\n",
       " ['But',\n",
       "  'youth',\n",
       "  'asked',\n",
       "  'nothing',\n",
       "  'of',\n",
       "  'its',\n",
       "  'parents',\n",
       "  'not',\n",
       "  'a',\n",
       "  'touch',\n",
       "  'of',\n",
       "  'the',\n",
       "  'hand',\n",
       "  'or',\n",
       "  'a',\n",
       "  'kiss',\n",
       "  'given',\n",
       "  'in',\n",
       "  'passing'],\n",
       " ['The',\n",
       "  'only',\n",
       "  'thing',\n",
       "  'unusual',\n",
       "  'about',\n",
       "  'the',\n",
       "  'Old',\n",
       "  'Man',\n",
       "  'had',\n",
       "  'long',\n",
       "  'since',\n",
       "  'happened'],\n",
       " ['But',\n",
       "  'the',\n",
       "  'past',\n",
       "  'was',\n",
       "  'dead',\n",
       "  'here',\n",
       "  'as',\n",
       "  'the',\n",
       "  'present',\n",
       "  'was',\n",
       "  'dead'],\n",
       " ['Once', 'the', 'Old', 'Man', 'had', 'had', 'a', 'wife'],\n",
       " ['And', 'once', 'she', 'too', 'ignored', 'him'],\n",
       " ['With',\n",
       "  'a',\n",
       "  'tiny',\n",
       "  'fur-piece',\n",
       "  'wrapped',\n",
       "  'around',\n",
       "  'her',\n",
       "  'shoulders',\n",
       "  'she',\n",
       "  'wiggled',\n",
       "  'her',\n",
       "  'satin-covered',\n",
       "  'buttocks',\n",
       "  'down',\n",
       "  'the',\n",
       "  'street',\n",
       "  'before',\n",
       "  'him',\n",
       "  'and',\n",
       "  \"didn't\",\n",
       "  'stop'],\n",
       " ['In',\n",
       "  'one',\n",
       "  'hand',\n",
       "  'she',\n",
       "  'clutched',\n",
       "  'a',\n",
       "  'hundred',\n",
       "  'dollar',\n",
       "  'bill',\n",
       "  'and',\n",
       "  'in',\n",
       "  'the',\n",
       "  'other',\n",
       "  'a',\n",
       "  'straw',\n",
       "  'suitcase'],\n",
       " ['The',\n",
       "  'way',\n",
       "  'she',\n",
       "  'strutted',\n",
       "  'down',\n",
       "  'the',\n",
       "  'street',\n",
       "  'the',\n",
       "  'Old',\n",
       "  'Man',\n",
       "  'would',\n",
       "  'have',\n",
       "  'been',\n",
       "  'blind',\n",
       "  'not',\n",
       "  'to',\n",
       "  'have',\n",
       "  'noticed',\n",
       "  'both'],\n",
       " ['Without',\n",
       "  'looking',\n",
       "  'at',\n",
       "  'him',\n",
       "  'without',\n",
       "  'looking',\n",
       "  'at',\n",
       "  'anything',\n",
       "  'except',\n",
       "  'Drexel',\n",
       "  'Street',\n",
       "  'directly',\n",
       "  'in',\n",
       "  'front',\n",
       "  'of',\n",
       "  'her',\n",
       "  'she',\n",
       "  'climbed',\n",
       "  'up',\n",
       "  'into',\n",
       "  'one',\n",
       "  'of',\n",
       "  'those',\n",
       "  'orange',\n",
       "  'streetcars',\n",
       "  'rode',\n",
       "  'away',\n",
       "  'in',\n",
       "  'it',\n",
       "  'and',\n",
       "  'never',\n",
       "  'came',\n",
       "  'back'],\n",
       " ['But',\n",
       "  'she',\n",
       "  \"shouldn't\",\n",
       "  'have',\n",
       "  'come',\n",
       "  'here',\n",
       "  'in',\n",
       "  'the',\n",
       "  'first',\n",
       "  'place',\n",
       "  'the',\n",
       "  'women',\n",
       "  'had',\n",
       "  'said'],\n",
       " ['No', 'no'],\n",
       " ['Not', 'that', 'one'],\n",
       " ['She',\n",
       "  'thought',\n",
       "  'she',\n",
       "  'was',\n",
       "  'bigger',\n",
       "  'than',\n",
       "  'we',\n",
       "  'are',\n",
       "  'because',\n",
       "  'she',\n",
       "  'came',\n",
       "  'from',\n",
       "  'Torino'],\n",
       " ['Eh',\n",
       "  'Torino',\n",
       "  'She',\n",
       "  'gave',\n",
       "  'herself',\n",
       "  'fancy',\n",
       "  'airs',\n",
       "  'Just',\n",
       "  'because',\n",
       "  'she',\n",
       "  'had',\n",
       "  'a',\n",
       "  'part',\n",
       "  'on',\n",
       "  'the',\n",
       "  'stage',\n",
       "  'in',\n",
       "  'the',\n",
       "  'old',\n",
       "  'country',\n",
       "  'she',\n",
       "  'thought',\n",
       "  'she',\n",
       "  'could',\n",
       "  'carry',\n",
       "  'her',\n",
       "  'head',\n",
       "  'higher',\n",
       "  'than',\n",
       "  'ours'],\n",
       " ['They', 'had', 'slapped', 'their', 'thighs'],\n",
       " [\"It's\",\n",
       "  'not',\n",
       "  'for',\n",
       "  'making',\n",
       "  'pretty',\n",
       "  'speeches',\n",
       "  'about',\n",
       "  'Dante',\n",
       "  'those',\n",
       "  'actresses',\n",
       "  'get',\n",
       "  'paid',\n",
       "  'so',\n",
       "  'good'],\n",
       " ['Henh',\n",
       "  'Calloused',\n",
       "  'fingers',\n",
       "  'caressed',\n",
       "  'only',\n",
       "  'by',\n",
       "  'the',\n",
       "  'smoothness',\n",
       "  'of',\n",
       "  'polished',\n",
       "  'rosaries',\n",
       "  'had',\n",
       "  'swayed',\n",
       "  'excitedly',\n",
       "  'beneath',\n",
       "  'puckered',\n",
       "  'chins',\n",
       "  'where',\n",
       "  'tiny',\n",
       "  'black',\n",
       "  'hairs',\n",
       "  'sprouted',\n",
       "  'never',\n",
       "  'to',\n",
       "  'be',\n",
       "  'tweezed',\n",
       "  'away'],\n",
       " ['Mauve-colored',\n",
       "  'mouths',\n",
       "  'that',\n",
       "  'had',\n",
       "  'never',\n",
       "  'known',\n",
       "  'anything',\n",
       "  'sweeter',\n",
       "  'than',\n",
       "  'the',\n",
       "  'taste',\n",
       "  'of',\n",
       "  'new',\n",
       "  'wine',\n",
       "  'and',\n",
       "  'the',\n",
       "  'passion',\n",
       "  'of',\n",
       "  \"man's\",\n",
       "  'tongue',\n",
       "  'had',\n",
       "  'not',\n",
       "  'smiled',\n",
       "  'but',\n",
       "  'had',\n",
       "  'condemned',\n",
       "  'again',\n",
       "  'and',\n",
       "  'again'],\n",
       " ['Puttana',\n",
       "  'But',\n",
       "  'if',\n",
       "  'the',\n",
       "  'Old',\n",
       "  'Man',\n",
       "  'even',\n",
       "  'thought',\n",
       "  'about',\n",
       "  'his',\n",
       "  'wife',\n",
       "  'now',\n",
       "  'nobody',\n",
       "  'cared',\n",
       "  'a',\n",
       "  'fig'],\n",
       " ['It',\n",
       "  'was',\n",
       "  'enough',\n",
       "  'for',\n",
       "  'people',\n",
       "  'to',\n",
       "  'know',\n",
       "  'that',\n",
       "  'at',\n",
       "  'one',\n",
       "  'time',\n",
       "  'he',\n",
       "  'had',\n",
       "  'looked',\n",
       "  'down',\n",
       "  'the',\n",
       "  'street',\n",
       "  'at',\n",
       "  'the',\n",
       "  'f']]"
      ]
     },
     "execution_count": 36,
     "metadata": {},
     "output_type": "execute_result"
    }
   ],
   "source": [
    "[[word for word in sent if word[0].isalnum() and word not in punct] for sent in sentence_tokens]"
   ]
  },
  {
   "cell_type": "code",
   "execution_count": 38,
   "id": "39e0d16e",
   "metadata": {},
   "outputs": [
    {
     "name": "stdout",
     "output_type": "stream",
     "text": [
      "['!', '\"', '#', '$', '%', '&', \"'\", '(', ')', '*', '+', ',', '-', '.', '/', ':', ';', '<', '=', '>', '?', '@', '[', '\\\\', ']', '^', '_', '`', '{', '|', '}', '~', '``', '--', \"''\"]\n"
     ]
    }
   ],
   "source": [
    "# punct에 속하지 않는 특수기호도 punct에 포함시킴\n",
    "my_punct = set([word for sent in sentence_tokens for word in sent if not word[0].isalnum() and word not in punct])\n",
    "punct.extend(list(my_punct)) \n",
    "print(punct)"
   ]
  },
  {
   "cell_type": "code",
   "execution_count": null,
   "id": "60d61709",
   "metadata": {},
   "outputs": [],
   "source": []
  }
 ],
 "metadata": {
  "kernelspec": {
   "display_name": "Python 3 (ipykernel)",
   "language": "python",
   "name": "python3"
  },
  "language_info": {
   "codemirror_mode": {
    "name": "ipython",
    "version": 3
   },
   "file_extension": ".py",
   "mimetype": "text/x-python",
   "name": "python",
   "nbconvert_exporter": "python",
   "pygments_lexer": "ipython3",
   "version": "3.9.7"
  }
 },
 "nbformat": 4,
 "nbformat_minor": 5
}
