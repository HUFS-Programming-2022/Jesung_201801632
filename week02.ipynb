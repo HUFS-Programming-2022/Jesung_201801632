{
 "cells": [
  {
   "cell_type": "markdown",
   "id": "a9dd9396",
   "metadata": {},
   "source": [
    "# Ch02. Variable\n",
    "- string\n",
    "- float\n",
    "- integer\n",
    "- boolean"
   ]
  },
  {
   "cell_type": "code",
   "execution_count": 27,
   "id": "73eae9a0",
   "metadata": {},
   "outputs": [
    {
     "data": {
      "text/plain": [
       "2"
      ]
     },
     "execution_count": 27,
     "metadata": {},
     "output_type": "execute_result"
    }
   ],
   "source": [
    "# 여러 이름을 동시에 할당할 수 있다. \n",
    "eyes = ears = legs = 2 # legs -> ears -> eyes\n",
    "ears"
   ]
  },
  {
   "cell_type": "code",
   "execution_count": 28,
   "id": "c3c11d0f",
   "metadata": {},
   "outputs": [
    {
     "name": "stdout",
     "output_type": "stream",
     "text": [
      "2 2 2.0\n"
     ]
    }
   ],
   "source": [
    "# 불변객체이므로\n",
    "legs = 2.0\n",
    "print(eyes, ears, legs)"
   ]
  },
  {
   "cell_type": "code",
   "execution_count": 29,
   "id": "154be58c",
   "metadata": {},
   "outputs": [
    {
     "data": {
      "text/plain": [
       "(2727190423888, 2727270371664)"
      ]
     },
     "execution_count": 29,
     "metadata": {},
     "output_type": "execute_result"
    }
   ],
   "source": [
    "id(eyes), id(legs)"
   ]
  },
  {
   "cell_type": "code",
   "execution_count": 4,
   "id": "585e5458",
   "metadata": {},
   "outputs": [
    {
     "data": {
      "text/plain": [
       "([2, 4, 6], [2, 4, 6])"
      ]
     },
     "execution_count": 4,
     "metadata": {},
     "output_type": "execute_result"
    }
   ],
   "source": [
    "a = [2, 4, 6]\n",
    "b = a\n",
    "a, b"
   ]
  },
  {
   "cell_type": "code",
   "execution_count": 30,
   "id": "495543ee",
   "metadata": {},
   "outputs": [
    {
     "data": {
      "text/plain": [
       "(2727270443072, 2727270443072)"
      ]
     },
     "execution_count": 30,
     "metadata": {},
     "output_type": "execute_result"
    }
   ],
   "source": [
    "id(a), id(b) # 변수가 저장된 메모리 주소 찾는 함수"
   ]
  },
  {
   "cell_type": "code",
   "execution_count": 6,
   "id": "1370cae7",
   "metadata": {},
   "outputs": [
    {
     "data": {
      "text/plain": [
       "([3, 4, 6], [3, 4, 6])"
      ]
     },
     "execution_count": 6,
     "metadata": {},
     "output_type": "execute_result"
    }
   ],
   "source": [
    "a[0] = 3\n",
    "a, b"
   ]
  },
  {
   "cell_type": "code",
   "execution_count": 7,
   "id": "c6d4b148",
   "metadata": {},
   "outputs": [
    {
     "data": {
      "text/plain": [
       "(2727270443072, 2727270443072)"
      ]
     },
     "execution_count": 7,
     "metadata": {},
     "output_type": "execute_result"
    }
   ],
   "source": [
    "id(a), id(b)"
   ]
  },
  {
   "cell_type": "markdown",
   "id": "96fc8460",
   "metadata": {},
   "source": [
    "#### 좋은 변수명의 조건\n",
    "- 간결하고 명확한 이름\n",
    "- 의미가 담겨야 함. a, b, c, ...\n",
    "- 코드에는 의미가 담기고 주석에는 의도가 담긴다.\n",
    "    + 예: the number of students => num_student로 지정한다.\n",
    "    + 카멜표기법: numStudents (낙타 등처럼 튀어나오는 모양)"
   ]
  },
  {
   "cell_type": "markdown",
   "id": "077083e1",
   "metadata": {},
   "source": [
    "### 자료형 변환, 형 변환\n",
    "- str{<변환할 값>}, int(), float(), bool()"
   ]
  },
  {
   "cell_type": "code",
   "execution_count": 26,
   "id": "86705a2d",
   "metadata": {},
   "outputs": [
    {
     "data": {
      "text/plain": [
       "False"
      ]
     },
     "execution_count": 26,
     "metadata": {},
     "output_type": "execute_result"
    }
   ],
   "source": [
    "p = 0\n",
    "\n",
    "int(p)\n",
    "\n",
    "# 문자열로 변환\n",
    "str(p)\n",
    "\n",
    "# 실수형으로 변환\n",
    "float(p)\n",
    "\n",
    "# 불 자료형으로 변환\n",
    "bool(p)"
   ]
  },
  {
   "cell_type": "markdown",
   "id": "1dba4825",
   "metadata": {},
   "source": [
    "- 주의할 점 1: float -> int로 변환할 때 소수점 내림이 적용된다."
   ]
  },
  {
   "cell_type": "code",
   "execution_count": 36,
   "id": "a2e360ca",
   "metadata": {},
   "outputs": [
    {
     "data": {
      "text/plain": [
       "(12, 8)"
      ]
     },
     "execution_count": 36,
     "metadata": {},
     "output_type": "execute_result"
    }
   ],
   "source": [
    "x = 12.9\n",
    "y = 8.8\n",
    "int(x), int(y)"
   ]
  },
  {
   "cell_type": "code",
   "execution_count": 35,
   "id": "d5fb5acb",
   "metadata": {},
   "outputs": [
    {
     "name": "stdout",
     "output_type": "stream",
     "text": [
      "21\n",
      "20\n"
     ]
    }
   ],
   "source": [
    "print(int(x + y))\n",
    "print(int(x) + int(y))"
   ]
  },
  {
   "cell_type": "markdown",
   "id": "10e82d31",
   "metadata": {},
   "source": [
    "- 주의할 점 2: str -> int/float"
   ]
  },
  {
   "cell_type": "code",
   "execution_count": 37,
   "id": "293ec02c",
   "metadata": {},
   "outputs": [
    {
     "data": {
      "text/plain": [
       "(15, 15.0)"
      ]
     },
     "execution_count": 37,
     "metadata": {},
     "output_type": "execute_result"
    }
   ],
   "source": [
    "i = '15'\n",
    "int(i), float(i)"
   ]
  },
  {
   "cell_type": "code",
   "execution_count": 38,
   "id": "cb59cbf8",
   "metadata": {},
   "outputs": [
    {
     "ename": "ValueError",
     "evalue": "could not convert string to float: '15,5'",
     "output_type": "error",
     "traceback": [
      "\u001b[1;31m---------------------------------------------------------------------------\u001b[0m",
      "\u001b[1;31mValueError\u001b[0m                                Traceback (most recent call last)",
      "\u001b[1;32m~\\AppData\\Local\\Temp/ipykernel_13412/4171228185.py\u001b[0m in \u001b[0;36m<module>\u001b[1;34m\u001b[0m\n\u001b[0;32m      1\u001b[0m \u001b[0mj\u001b[0m \u001b[1;33m=\u001b[0m \u001b[1;34m'15,5'\u001b[0m\u001b[1;33m\u001b[0m\u001b[1;33m\u001b[0m\u001b[0m\n\u001b[1;32m----> 2\u001b[1;33m \u001b[0mfloat\u001b[0m\u001b[1;33m(\u001b[0m\u001b[0mj\u001b[0m\u001b[1;33m)\u001b[0m\u001b[1;33m\u001b[0m\u001b[1;33m\u001b[0m\u001b[0m\n\u001b[0m",
      "\u001b[1;31mValueError\u001b[0m: could not convert string to float: '15,5'"
     ]
    }
   ],
   "source": [
    "j = '15,5'\n",
    "float(j)"
   ]
  },
  {
   "cell_type": "code",
   "execution_count": 39,
   "id": "5c382c21",
   "metadata": {},
   "outputs": [
    {
     "ename": "ValueError",
     "evalue": "invalid literal for int() with base 10: '헬로'",
     "output_type": "error",
     "traceback": [
      "\u001b[1;31m---------------------------------------------------------------------------\u001b[0m",
      "\u001b[1;31mValueError\u001b[0m                                Traceback (most recent call last)",
      "\u001b[1;32m~\\AppData\\Local\\Temp/ipykernel_13412/1526978163.py\u001b[0m in \u001b[0;36m<module>\u001b[1;34m\u001b[0m\n\u001b[0;32m      1\u001b[0m \u001b[0mk\u001b[0m \u001b[1;33m=\u001b[0m \u001b[1;34m'헬로'\u001b[0m\u001b[1;33m\u001b[0m\u001b[1;33m\u001b[0m\u001b[0m\n\u001b[1;32m----> 2\u001b[1;33m \u001b[0mint\u001b[0m\u001b[1;33m(\u001b[0m\u001b[0mk\u001b[0m\u001b[1;33m)\u001b[0m\u001b[1;33m\u001b[0m\u001b[1;33m\u001b[0m\u001b[0m\n\u001b[0m",
      "\u001b[1;31mValueError\u001b[0m: invalid literal for int() with base 10: '헬로'"
     ]
    }
   ],
   "source": [
    "k = '헬로'\n",
    "int(k)"
   ]
  },
  {
   "cell_type": "markdown",
   "id": "cea5a666",
   "metadata": {},
   "source": [
    "### print()에 관하여"
   ]
  },
  {
   "cell_type": "code",
   "execution_count": 41,
   "id": "dbc8489d",
   "metadata": {},
   "outputs": [
    {
     "name": "stdout",
     "output_type": "stream",
     "text": [
      "kennengarenteemo\n",
      "kennen garen teemo\n"
     ]
    }
   ],
   "source": [
    "kennen = 'kennen'\n",
    "garen = 'garen'\n",
    "teemo = 'teemo'\n",
    "\n",
    "print(kennen + garen + teemo) # 공백 X, \\n\n",
    "print(kennen, garen, teemo) # 공백 O, \\n"
   ]
  },
  {
   "cell_type": "code",
   "execution_count": 45,
   "id": "a243cb75",
   "metadata": {},
   "outputs": [
    {
     "name": "stdout",
     "output_type": "stream",
     "text": [
      "kennen garen teemo\n",
      "kennen/garen/teemo\n",
      "\n",
      "Happy White Day!\n",
      "Nice!\n"
     ]
    }
   ],
   "source": [
    "print(kennen, garen, teemo, sep=' ', end='\\n') # default값\n",
    "print(kennen, garen, teemo, sep='/', end='\\n\\n')\n",
    "print('Happy White Day!')\n",
    "print('Nice!')"
   ]
  },
  {
   "cell_type": "code",
   "execution_count": 55,
   "id": "05dbee12",
   "metadata": {},
   "outputs": [
    {
     "name": "stdout",
     "output_type": "stream",
     "text": [
      "My favorite champion is garen\n",
      "My favorite champion is garen.\n",
      "My favorite champion is garen.\n"
     ]
    }
   ],
   "source": [
    "#1.\n",
    "print(\"My favorite champion is\", garen)\n",
    " \n",
    "#2.\n",
    "print(f\"My favorite champion is {garen}.\")\n",
    "\n",
    "#3.\n",
    "print(\"My favorite champion is {}.\".format(garen))"
   ]
  },
  {
   "cell_type": "markdown",
   "id": "ff0b5844",
   "metadata": {},
   "source": [
    "- 코드 줄이 짧을 경우 ;(semicolon)을 이용해 한 줄로 쓸 수 있다."
   ]
  },
  {
   "cell_type": "code",
   "execution_count": 56,
   "id": "da999c74",
   "metadata": {},
   "outputs": [
    {
     "name": "stdout",
     "output_type": "stream",
     "text": [
      "teemo\n"
     ]
    }
   ],
   "source": [
    "kennen = 'kennen'; garen = 'garen'; teemo = 'teemo'\n",
    "print(teemo)"
   ]
  },
  {
   "cell_type": "markdown",
   "id": "f09deb24",
   "metadata": {},
   "source": [
    "### input() 함수\n",
    "- console에서 사용자가 입력하는 값을 받을 수 있는 함수\n",
    "- 입력 받는 값은 문자열로 인식된다.\n",
    "- 입력 받은 값을 변수에 담아서 사용한다. 그러지 않을 경우 사라짐.\n",
    "- 숫자일 경우 형변환 한다."
   ]
  },
  {
   "cell_type": "code",
   "execution_count": 1,
   "id": "622aeb8d",
   "metadata": {},
   "outputs": [
    {
     "name": "stdout",
     "output_type": "stream",
     "text": [
      "Hello?World!\n"
     ]
    },
    {
     "data": {
      "text/plain": [
       "'World!'"
      ]
     },
     "execution_count": 1,
     "metadata": {},
     "output_type": "execute_result"
    }
   ],
   "source": [
    "input(\"Hello?\")"
   ]
  },
  {
   "cell_type": "code",
   "execution_count": 3,
   "id": "d49a4df9",
   "metadata": {},
   "outputs": [
    {
     "name": "stdout",
     "output_type": "stream",
     "text": [
      "당신은 몇학번인가요?18\n"
     ]
    },
    {
     "data": {
      "text/plain": [
       "18"
      ]
     },
     "execution_count": 3,
     "metadata": {},
     "output_type": "execute_result"
    }
   ],
   "source": [
    "int(input('당신은 몇학번인가요?'))"
   ]
  },
  {
   "cell_type": "markdown",
   "id": "def1c9c8",
   "metadata": {},
   "source": [
    "- 변수에 할당하는 방법"
   ]
  },
  {
   "cell_type": "code",
   "execution_count": 8,
   "id": "3466885b",
   "metadata": {},
   "outputs": [
    {
     "name": "stdout",
     "output_type": "stream",
     "text": [
      "당신은 몇학번인가요?18\n",
      "당신의 전공은?융합일본지역전공\n"
     ]
    }
   ],
   "source": [
    "#1.\n",
    "year = input('당신은 몇학번인가요?')\n",
    "major = input('당신의 전공은?')"
   ]
  },
  {
   "cell_type": "code",
   "execution_count": 7,
   "id": "b70d85e9",
   "metadata": {},
   "outputs": [
    {
     "data": {
      "text/plain": [
       "'18'"
      ]
     },
     "execution_count": 7,
     "metadata": {},
     "output_type": "execute_result"
    }
   ],
   "source": [
    "year"
   ]
  },
  {
   "cell_type": "code",
   "execution_count": 9,
   "id": "e24c1012",
   "metadata": {},
   "outputs": [
    {
     "data": {
      "text/plain": [
       "'융합일본지역전공'"
      ]
     },
     "execution_count": 9,
     "metadata": {},
     "output_type": "execute_result"
    }
   ],
   "source": [
    "major"
   ]
  },
  {
   "cell_type": "code",
   "execution_count": 11,
   "id": "a58f5f53",
   "metadata": {},
   "outputs": [
    {
     "name": "stdout",
     "output_type": "stream",
     "text": [
      "학번은?\n",
      "18\n"
     ]
    }
   ],
   "source": [
    "#2.\n",
    "print(\"학번은?\")\n",
    "year = input()"
   ]
  },
  {
   "cell_type": "code",
   "execution_count": 12,
   "id": "018ed151",
   "metadata": {},
   "outputs": [
    {
     "data": {
      "text/plain": [
       "'18'"
      ]
     },
     "execution_count": 12,
     "metadata": {},
     "output_type": "execute_result"
    }
   ],
   "source": [
    "year"
   ]
  },
  {
   "cell_type": "markdown",
   "id": "61d76b08",
   "metadata": {},
   "source": [
    "## Quiz 1\n",
    "- 섭씨 온도를 화씨 온도로 변환하기\n",
    "- 화씨 온도 = 섭씨 온도 * 1.8 + 32"
   ]
  },
  {
   "cell_type": "code",
   "execution_count": 1,
   "id": "276ed94f",
   "metadata": {},
   "outputs": [
    {
     "name": "stdout",
     "output_type": "stream",
     "text": [
      "섭씨 온도를 입력하시오: 30\n",
      "화씨 온도는 86.0이다.\n"
     ]
    }
   ],
   "source": [
    "Celsius = float(input('섭씨 온도를 입력하시오: '))\n",
    "Fahrenheit = Celsius * 1.8 + 32\n",
    "print(f\"화씨 온도는 {Fahrenheit}이다.\")"
   ]
  },
  {
   "cell_type": "markdown",
   "id": "7a6d0d54",
   "metadata": {},
   "source": [
    "## Quiz 2\n",
    "- 택배 정보 입력 받고, 총합계 계산하기\n",
    "- 출력값:\n",
    "    + \"==택배 정보==\"\n",
    "    + 수취인 성명: <이름>\n",
    "    + 수취인 주소: <주소>\n",
    "    + 배송비: 3000원\n",
    "    + 물건 비용: <가격>원\n",
    "    + 총합계: <가격>원\n",
    "- 물건 비용 = 무게(g)* 5\n",
    "- 합계 = 배송비 + 물건 비용"
   ]
  },
  {
   "cell_type": "code",
   "execution_count": 3,
   "id": "eb5e1841",
   "metadata": {},
   "outputs": [
    {
     "name": "stdout",
     "output_type": "stream",
     "text": [
      "==택배 정보==\n",
      "수취인 성명: 박제성\n",
      "수취인 주소: 용산\n",
      "배송비: 3000원\n",
      "물건 무게(g): 500\n",
      "물건 비용: 2500원\n",
      "총합계: 5500원\n"
     ]
    }
   ],
   "source": [
    "print(\"==택배 정보==\")\n",
    "name = input('수취인 성명: ')\n",
    "address = input('수취인 주소: ')\n",
    "print(\"배송비: 3000원\")\n",
    "weight = int(input('물건 무게(g): '))\n",
    "cost = weight * 5\n",
    "print(f\"물건 비용: {cost}원\")\n",
    "print(f\"총합계: {cost + 3000}원\")"
   ]
  },
  {
   "cell_type": "markdown",
   "id": "60759b5c",
   "metadata": {},
   "source": [
    "# Ch 03. Numbers\n",
    "boolean\n",
    "- 형 변환할 때 True인지 False인지 기억\n",
    "    + None, 0, \"\", ...\n",
    "- 조건식에서 많이 쓰임."
   ]
  },
  {
   "cell_type": "code",
   "execution_count": 1,
   "id": "fba2f9cc",
   "metadata": {},
   "outputs": [
    {
     "data": {
      "text/plain": [
       "False"
      ]
     },
     "execution_count": 1,
     "metadata": {},
     "output_type": "execute_result"
    }
   ],
   "source": [
    "bool(0)"
   ]
  },
  {
   "cell_type": "code",
   "execution_count": 2,
   "id": "02be2f57",
   "metadata": {},
   "outputs": [
    {
     "data": {
      "text/plain": [
       "False"
      ]
     },
     "execution_count": 2,
     "metadata": {},
     "output_type": "execute_result"
    }
   ],
   "source": [
    "bool(\"\")"
   ]
  },
  {
   "cell_type": "code",
   "execution_count": 3,
   "id": "5b2c5f0f",
   "metadata": {},
   "outputs": [
    {
     "data": {
      "text/plain": [
       "True"
      ]
     },
     "execution_count": 3,
     "metadata": {},
     "output_type": "execute_result"
    }
   ],
   "source": [
    "bool(1)"
   ]
  },
  {
   "cell_type": "markdown",
   "id": "8ae8c6dc",
   "metadata": {},
   "source": [
    "### integer\n",
    "- 정수형. 소수점 없음\n",
    "- default는 양수. 앞에 '-'를 붙일 경우 음수.\n",
    "- 숫자 앞에는 0을 붙일 수 없음. ex): 02, 090 (X)\n",
    "    + cf) 0axxx, => 다른 진수 표현법\n",
    "- 리터럴: 4\n",
    "- 공백의 수와 상관 없이 무시됨.\n",
    "- 10,000원 -> 10,000원 두 개로 인식 => _사용 ex): 10_000"
   ]
  },
  {
   "cell_type": "code",
   "execution_count": 4,
   "id": "b4c194ac",
   "metadata": {},
   "outputs": [
    {
     "data": {
      "text/plain": [
       "1"
      ]
     },
     "execution_count": 4,
     "metadata": {},
     "output_type": "execute_result"
    }
   ],
   "source": [
    "a = -4\n",
    "5 + a"
   ]
  },
  {
   "cell_type": "code",
   "execution_count": 5,
   "id": "badcd5b6",
   "metadata": {},
   "outputs": [
    {
     "ename": "SyntaxError",
     "evalue": "leading zeros in decimal integer literals are not permitted; use an 0o prefix for octal integers (Temp/ipykernel_8092/2413377021.py, line 1)",
     "output_type": "error",
     "traceback": [
      "\u001b[1;36m  File \u001b[1;32m\"C:\\Users\\SAMSUNG\\AppData\\Local\\Temp/ipykernel_8092/2413377021.py\"\u001b[1;36m, line \u001b[1;32m1\u001b[0m\n\u001b[1;33m    b = 03\u001b[0m\n\u001b[1;37m         ^\u001b[0m\n\u001b[1;31mSyntaxError\u001b[0m\u001b[1;31m:\u001b[0m leading zeros in decimal integer literals are not permitted; use an 0o prefix for octal integers\n"
     ]
    }
   ],
   "source": [
    "b = 03"
   ]
  },
  {
   "cell_type": "code",
   "execution_count": 8,
   "id": "43f2040e",
   "metadata": {},
   "outputs": [
    {
     "data": {
      "text/plain": [
       "6"
      ]
     },
     "execution_count": 8,
     "metadata": {},
     "output_type": "execute_result"
    }
   ],
   "source": [
    "-7 + 6             + 7 # 공백 무시"
   ]
  },
  {
   "cell_type": "code",
   "execution_count": 9,
   "id": "ea92d0be",
   "metadata": {},
   "outputs": [
    {
     "name": "stdout",
     "output_type": "stream",
     "text": [
      "10000\n"
     ]
    }
   ],
   "source": [
    "c = 10_000 # _ 무시\n",
    "print(c) "
   ]
  },
  {
   "cell_type": "markdown",
   "id": "8b0e50ec",
   "metadata": {},
   "source": [
    "### 연산\n",
    "- 연산자|operator: +,-,*./,...\n",
    "- 피연산자|operand: 1,2,3,...\n",
    "- 수식|expression"
   ]
  },
  {
   "cell_type": "code",
   "execution_count": 13,
   "id": "b5fe6df3",
   "metadata": {},
   "outputs": [
    {
     "name": "stdout",
     "output_type": "stream",
     "text": [
      "8\n",
      "-2\n",
      "15\n",
      "0.6\n",
      "243\n"
     ]
    }
   ],
   "source": [
    "x = 3\n",
    "y = 5\n",
    "\n",
    "print(x + y)\n",
    "print(x - y)\n",
    "print(x * y)\n",
    "print(x / y)\n",
    "\n",
    "# 거듭제곱 |exponential\n",
    "print(x ** y)"
   ]
  },
  {
   "cell_type": "markdown",
   "id": "a0b572c7",
   "metadata": {},
   "source": [
    "#### 나눗셈에서 주의할 사항"
   ]
  },
  {
   "cell_type": "code",
   "execution_count": 15,
   "id": "ea30e530",
   "metadata": {},
   "outputs": [
    {
     "data": {
      "text/plain": [
       "(0, 3)"
      ]
     },
     "execution_count": 15,
     "metadata": {},
     "output_type": "execute_result"
    }
   ],
   "source": [
    "#1. division by zero => y != 0\n",
    "#2. 몫, 나머지\n",
    "x // y, x % y"
   ]
  },
  {
   "cell_type": "code",
   "execution_count": 16,
   "id": "ddacfb3a",
   "metadata": {},
   "outputs": [
    {
     "data": {
      "text/plain": [
       "(0, 3)"
      ]
     },
     "execution_count": 16,
     "metadata": {},
     "output_type": "execute_result"
    }
   ],
   "source": [
    "divmod(x, y) # 몫, 나머지 구하는 함수"
   ]
  },
  {
   "cell_type": "markdown",
   "id": "6ad713ac",
   "metadata": {},
   "source": [
    "#### 복합 대입연산자|compound assignment operator"
   ]
  },
  {
   "cell_type": "code",
   "execution_count": 18,
   "id": "c239a0f2",
   "metadata": {},
   "outputs": [
    {
     "name": "stdout",
     "output_type": "stream",
     "text": [
      "10\n"
     ]
    }
   ],
   "source": [
    "a = 10\n",
    "a + 2\n",
    "print(a)"
   ]
  },
  {
   "cell_type": "code",
   "execution_count": 19,
   "id": "13abab5e",
   "metadata": {},
   "outputs": [],
   "source": [
    "a = a + 2\n",
    "#1. a + 2 계산\n",
    "#2. 임시변수 temp = a + 2\n",
    "#3. a = a + 2\n",
    "\n",
    "a += 2 # a = a + 2"
   ]
  },
  {
   "cell_type": "code",
   "execution_count": 20,
   "id": "016225ae",
   "metadata": {},
   "outputs": [],
   "source": [
    "a += 2\n",
    "a -= 2\n",
    "a *= 2\n",
    "a /= 2"
   ]
  },
  {
   "cell_type": "code",
   "execution_count": 22,
   "id": "9a70b989",
   "metadata": {},
   "outputs": [
    {
     "ename": "SyntaxError",
     "evalue": "invalid syntax (Temp/ipykernel_8092/2928328716.py, line 1)",
     "output_type": "error",
     "traceback": [
      "\u001b[1;36m  File \u001b[1;32m\"C:\\Users\\SAMSUNG\\AppData\\Local\\Temp/ipykernel_8092/2928328716.py\"\u001b[1;36m, line \u001b[1;32m1\u001b[0m\n\u001b[1;33m    u = ? # 값을 초기화해야 연산이 가능\u001b[0m\n\u001b[1;37m        ^\u001b[0m\n\u001b[1;31mSyntaxError\u001b[0m\u001b[1;31m:\u001b[0m invalid syntax\n"
     ]
    }
   ],
   "source": [
    "u = ? # 값을 초기화해야 연산이 가능\n",
    "u = u + 1"
   ]
  },
  {
   "cell_type": "markdown",
   "id": "3cd9d162",
   "metadata": {},
   "source": [
    "## Quiz 3.\n",
    "- 정수를 입력받고 3의 배수인지 확인하세요.\n",
    "- 홀수인지 짝수인지 확인하세요."
   ]
  },
  {
   "cell_type": "code",
   "execution_count": 26,
   "id": "600fae45",
   "metadata": {},
   "outputs": [
    {
     "name": "stdout",
     "output_type": "stream",
     "text": [
      "정수를 입력하세요: 100\n",
      "100은/는 3의 배수가 아닙니다.\n",
      "100은/는 짝수입니다.\n"
     ]
    }
   ],
   "source": [
    "number = int(input('정수를 입력하세요: '))\n",
    "if number % 3 == 0:\n",
    "    print(f\"{number}은/는 3의 배수입니다.\")\n",
    "else:\n",
    "    print(f\"{number}은/는 3의 배수가 아닙니다.\")\n",
    "\n",
    "if number % 2 == 0:\n",
    "    print(f\"{number}은/는 짝수입니다.\")\n",
    "else:\n",
    "    print(f\"{number}은/는 홀수입니다.\")"
   ]
  },
  {
   "cell_type": "markdown",
   "id": "5963fefa",
   "metadata": {},
   "source": [
    "### 지수 표현\n",
    "- e, E 둘다 가능\n",
    "- 앞부분은 float, int 둘다 가능\n",
    "- 뒷부분은 int만 옴\n",
    "    + 양수면 0 앞으로\n",
    "    + 음수면 0 뒤로 (소수점)"
   ]
  },
  {
   "cell_type": "code",
   "execution_count": 30,
   "id": "39a4a63d",
   "metadata": {},
   "outputs": [
    {
     "data": {
      "text/plain": [
       "10000.0"
      ]
     },
     "execution_count": 30,
     "metadata": {},
     "output_type": "execute_result"
    }
   ],
   "source": [
    "1.0e4 # float 사용시 보기 편함"
   ]
  },
  {
   "cell_type": "code",
   "execution_count": 31,
   "id": "b7915d0a",
   "metadata": {},
   "outputs": [
    {
     "data": {
      "text/plain": [
       "0.000567"
      ]
     },
     "execution_count": 31,
     "metadata": {},
     "output_type": "execute_result"
    }
   ],
   "source": [
    "# 0.000567 => 지수표현\n",
    "5.67e-4"
   ]
  },
  {
   "cell_type": "code",
   "execution_count": 32,
   "id": "29b3cea4",
   "metadata": {},
   "outputs": [
    {
     "data": {
      "text/plain": [
       "567.0"
      ]
     },
     "execution_count": 32,
     "metadata": {},
     "output_type": "execute_result"
    }
   ],
   "source": [
    "5.67e2"
   ]
  },
  {
   "cell_type": "markdown",
   "id": "05e284de",
   "metadata": {},
   "source": [
    "## 조건문, if\n",
    "- code structure"
   ]
  },
  {
   "cell_type": "markdown",
   "id": "7847c1a9",
   "metadata": {},
   "source": [
    "### 코드 짜는 룰\n",
    "- 주석 다는 법\n",
    "    + 설명하는 부분\n",
    "    + 주석의 목적: 의도를 표현\n",
    "    + '#' hash, sharp, ...\n",
    "    + 시작된 부분부터 그 라인 끝까지가 주석에 해당\n",
    "    + 문자열 안에 들어있는 해시는 문자열로 인식\n",
    "    +\"\"\"<주석>\"\"\"\n",
    "- 라인 유지하기\n",
    "    + 들여쓰기, 공백 4개, 탭 1개\n",
    "    + 한 줄에 최대 88자 넘지 않게\n",
    "    + 백슬래시로 끊어준다 ()"
   ]
  },
  {
   "cell_type": "code",
   "execution_count": 1,
   "id": "687d2179",
   "metadata": {},
   "outputs": [],
   "source": [
    "a = 2 # 여기부터는 라인 끝\n",
    "b = 5"
   ]
  },
  {
   "cell_type": "code",
   "execution_count": 3,
   "id": "be731263",
   "metadata": {},
   "outputs": [
    {
     "name": "stdout",
     "output_type": "stream",
     "text": [
      "hash #\n"
     ]
    },
    {
     "data": {
      "text/plain": [
       "'\\n주석1\\n주석2\\n주석3\\n'"
      ]
     },
     "execution_count": 3,
     "metadata": {},
     "output_type": "execute_result"
    }
   ],
   "source": [
    "example = 'hash #'\n",
    "print(example)\n",
    "\n",
    "\"\"\"\n",
    "주석1\n",
    "주석2\n",
    "주석3\n",
    "\"\"\""
   ]
  },
  {
   "cell_type": "markdown",
   "id": "91a16417",
   "metadata": {},
   "source": [
    "- 조건 1개일 경우:\n",
    "if<조건식>:\n",
    "    <실행할 코드>"
   ]
  },
  {
   "cell_type": "code",
   "execution_count": 4,
   "id": "eb5e6a56",
   "metadata": {},
   "outputs": [
    {
     "name": "stdout",
     "output_type": "stream",
     "text": [
      "출력\n"
     ]
    }
   ],
   "source": [
    "if True:\n",
    "    print(\"출력\")"
   ]
  },
  {
   "cell_type": "markdown",
   "id": "a4df5d75",
   "metadata": {},
   "source": [
    "- 조건 2개일 경우:\n",
    "    if<조건식>:\n",
    "        <실행할 코드1>\n",
    "    else:\n",
    "        <실행할 코드2>"
   ]
  },
  {
   "cell_type": "code",
   "execution_count": 6,
   "id": "030dcdf6",
   "metadata": {},
   "outputs": [
    {
     "name": "stdout",
     "output_type": "stream",
     "text": [
      "World\n"
     ]
    }
   ],
   "source": [
    "if 3 == 4:\n",
    "    print(\"Hello\")\n",
    "else:\n",
    "    print(\"World\")"
   ]
  },
  {
   "cell_type": "markdown",
   "id": "895080f4",
   "metadata": {},
   "source": [
    "- 조건 3개 이상일 경우:\n",
    "    if <조건식1>:\n",
    "        <실행할 코드1>\n",
    "    elif <조건식2>:\n",
    "        <실행할 코드3>\n",
    "    ....else:\n",
    "        <실행할 코드2>"
   ]
  },
  {
   "cell_type": "markdown",
   "id": "01971785",
   "metadata": {},
   "source": [
    "## 비교연산자\n",
    "- x < y, x <= y\n",
    "- x > y, x >= y\n",
    "- x == y (값)\n",
    "- x != y (값)\n",
    "- x is y (값, 메모리주소)\n",
    "- x is not y"
   ]
  },
  {
   "cell_type": "markdown",
   "id": "628a1ea5",
   "metadata": {},
   "source": [
    "## Quiz 4.\n",
    "- 학점 부여하기\n",
    "- 점수를 입력 받아서\n",
    "    + 90점 이상이면 A\n",
    "    + 80점 이상이면 B\n",
    "    + 70점 이상이면 C\n",
    "    + 그 외일 경우 D\n",
    "- 변수 설정 유의"
   ]
  },
  {
   "cell_type": "code",
   "execution_count": 8,
   "id": "5b5853f9",
   "metadata": {},
   "outputs": [
    {
     "name": "stdout",
     "output_type": "stream",
     "text": [
      "점수를 입력하시오: 54\n",
      "54.0점으로, D학점입니다.\n"
     ]
    }
   ],
   "source": [
    "score = float(input('점수를 입력하시오: '))\n",
    "if score >= 90:\n",
    "    print(f\"{score}점으로, A학점입니다.\")\n",
    "elif score >= 80:\n",
    "    print(f\"{score}점으로, B학점입니다.\")\n",
    "elif score >= 70:\n",
    "    print(f\"{score}점으로, C학점입니다.\")\n",
    "else:\n",
    "    print(f\"{score}점으로, D학점입니다.\")    "
   ]
  },
  {
   "cell_type": "markdown",
   "id": "84e56478",
   "metadata": {},
   "source": [
    "## Quiz 5.\n",
    "- 아이디와 비밀번호 입력 받아서 둘다 일치하며 로그인하기\n",
    "- 아이디, 비밀번호 각자 정해놓기\n",
    "- 일치하지 않을 때에는 창의적으로 어떤 값으로 반환하기"
   ]
  },
  {
   "cell_type": "code",
   "execution_count": 13,
   "id": "0d9f6335",
   "metadata": {},
   "outputs": [
    {
     "name": "stdout",
     "output_type": "stream",
     "text": [
      "ID: jupyter317\n",
      "password: abcdefg\n",
      "비밀번호가 일치하지 않습니다.\n"
     ]
    }
   ],
   "source": [
    "id_official = \"jupyter317\"\n",
    "password_official = \"jupyter220317\"\n",
    "id_input = input('ID: ')\n",
    "password_input = input('password: ')\n",
    "\n",
    "if id_official == id_input:\n",
    "    if password_official == password_input:\n",
    "        print(\"로그인되었습니다.\")\n",
    "    else:\n",
    "        print(\"비밀번호가 일치하지 않습니다.\")\n",
    "else:\n",
    "    print(\"존재하지 않는 아이디입니다.\")"
   ]
  },
  {
   "cell_type": "markdown",
   "id": "6fe534c2",
   "metadata": {},
   "source": [
    "## 논리연산자\n",
    "- 여러 조건식을 비교할 때\n",
    "- 예: 5 < x < 10\n",
    "    + 파이썬에서만 가능한 표현\n",
    "    + x > 5 혹은 x < 10\n",
    "- and, &: 둘다 참일 때 True\n",
    "- or, |: 둘 중 하나만 참이여도 True\n",
    "- not: 참 -> False, 거짓 -> True"
   ]
  },
  {
   "cell_type": "markdown",
   "id": "89c54824",
   "metadata": {},
   "source": [
    "## Quiz 6.\n",
    "- Quiz 4 확장판\n",
    "- 점수와 상관없이 결석이 2번 이상이면 F"
   ]
  },
  {
   "cell_type": "code",
   "execution_count": 16,
   "id": "1195dae5",
   "metadata": {},
   "outputs": [
    {
     "name": "stdout",
     "output_type": "stream",
     "text": [
      "점수를 입력하시오: 85\n",
      "결석 횟수를 입력하시오: 2\n",
      "결석을 2번 했으므로 F학점입니다.\n"
     ]
    }
   ],
   "source": [
    "score = float(input('점수를 입력하시오: '))\n",
    "absent = int(input('결석 횟수를 입력하시오: '))\n",
    "if absent >= 2:\n",
    "    print(f\"결석을 {absent}번 했으므로 F학점입니다.\")\n",
    "else:\n",
    "    if score >= 90:\n",
    "        print(f\"{score}점으로, A학점입니다.\")\n",
    "    elif score >= 80:\n",
    "        print(f\"{score}점으로, B학점입니다.\")\n",
    "    elif score >= 70:\n",
    "        print(f\"{score}점으로, C학점입니다.\")\n",
    "    else:\n",
    "        print(f\"{score}점으로, D학점입니다.\")    "
   ]
  },
  {
   "cell_type": "code",
   "execution_count": null,
   "id": "dcceee58",
   "metadata": {},
   "outputs": [],
   "source": []
  }
 ],
 "metadata": {
  "kernelspec": {
   "display_name": "Python 3 (ipykernel)",
   "language": "python",
   "name": "python3"
  },
  "language_info": {
   "codemirror_mode": {
    "name": "ipython",
    "version": 3
   },
   "file_extension": ".py",
   "mimetype": "text/x-python",
   "name": "python",
   "nbconvert_exporter": "python",
   "pygments_lexer": "ipython3",
   "version": "3.9.7"
  }
 },
 "nbformat": 4,
 "nbformat_minor": 5
}
