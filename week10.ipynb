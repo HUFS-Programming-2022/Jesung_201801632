{
 "cells": [
  {
   "cell_type": "markdown",
   "id": "83e1dd40",
   "metadata": {},
   "source": [
    "# 🔔Week10"
   ]
  },
  {
   "cell_type": "markdown",
   "id": "1dad80d8",
   "metadata": {},
   "source": [
    "## 객체와 클래스\n",
    "- object ??\n",
    "- 객체지향프로그래밍\n",
    "- 속성과 행동을 가지는 개념, 실존하는 물체?\n",
    "    - 객체: 자동차, 강아지, 꽃, ...\n",
    "    - 속성: 브랜드, 색, 속도, 모델, ... => 변수\n",
    "    - 행동: 가다, 서다, 회전, 주차, ... => 메소드(함수)\n",
    "- 클래스: 객체가 가져야 할 정보를 담은 코드\n",
    "    - 일종의 설계도 코드로 상호작용을 통해 코드를 구성.\n",
    "- 클래스 선언 방법\n",
    "    - 첫글자 대문자\n",
    "        - NiceCar(O), Nice_car (x)\n",
    "    - 정의부, 선언부\n",
    "        - 정의부 = 붕어빵 틀\n",
    "        - 선언부 = 붕어빵"
   ]
  },
  {
   "cell_type": "code",
   "execution_count": 1,
   "id": "00105131",
   "metadata": {},
   "outputs": [
    {
     "data": {
      "text/plain": [
       "<__main__.Car at 0x276f3906880>"
      ]
     },
     "execution_count": 1,
     "metadata": {},
     "output_type": "execute_result"
    }
   ],
   "source": [
    "# 정의부\n",
    "class Car: # 객체\n",
    "    pass\n",
    "\n",
    "# 선언부\n",
    "my_car = Car()\n",
    "my_car # instance == 붕어빵"
   ]
  },
  {
   "cell_type": "code",
   "execution_count": 2,
   "id": "11a286e4",
   "metadata": {},
   "outputs": [],
   "source": [
    "my_car.name = 'bmw'\n",
    "my_car.color = 'white'"
   ]
  },
  {
   "cell_type": "code",
   "execution_count": 3,
   "id": "4327bbe1",
   "metadata": {},
   "outputs": [
    {
     "data": {
      "text/plain": [
       "'bmw'"
      ]
     },
     "execution_count": 3,
     "metadata": {},
     "output_type": "execute_result"
    }
   ],
   "source": [
    "my_car.name"
   ]
  },
  {
   "cell_type": "code",
   "execution_count": 4,
   "id": "51d8e357",
   "metadata": {},
   "outputs": [],
   "source": [
    "class Car:\n",
    "    name = 'BMW'"
   ]
  },
  {
   "cell_type": "code",
   "execution_count": 5,
   "id": "6dbc829c",
   "metadata": {},
   "outputs": [],
   "source": [
    "your_car = Car()\n",
    "your_car.name = 'Kia'"
   ]
  },
  {
   "cell_type": "code",
   "execution_count": 6,
   "id": "067d6ee4",
   "metadata": {},
   "outputs": [
    {
     "data": {
      "text/plain": [
       "'Kia'"
      ]
     },
     "execution_count": 6,
     "metadata": {},
     "output_type": "execute_result"
    }
   ],
   "source": [
    "your_car.name"
   ]
  },
  {
   "cell_type": "code",
   "execution_count": 9,
   "id": "b7926188",
   "metadata": {},
   "outputs": [],
   "source": [
    "class Car:\n",
    "    def __init__(self, name): # 속성 초기화 함수\n",
    "    # 객체 만들 때 들어오는 값으로 이름을 설정하고 싶다.\n",
    "        self.name = name\n",
    "    # self == instance: 나 자신 (인스턴스 자신)"
   ]
  },
  {
   "cell_type": "code",
   "execution_count": 10,
   "id": "b792b729",
   "metadata": {},
   "outputs": [
    {
     "data": {
      "text/plain": [
       "'Hyundai'"
      ]
     },
     "execution_count": 10,
     "metadata": {},
     "output_type": "execute_result"
    }
   ],
   "source": [
    "her_car = Car(name='Hyundai')\n",
    "her_car.name"
   ]
  },
  {
   "cell_type": "code",
   "execution_count": 11,
   "id": "fe2acaff",
   "metadata": {},
   "outputs": [
    {
     "data": {
      "text/plain": [
       "'Toyota'"
      ]
     },
     "execution_count": 11,
     "metadata": {},
     "output_type": "execute_result"
    }
   ],
   "source": [
    "car2 = Car('Toyota')\n",
    "car2.name"
   ]
  },
  {
   "cell_type": "code",
   "execution_count": 12,
   "id": "13de03ad",
   "metadata": {},
   "outputs": [],
   "source": [
    "# 모델, 색\n",
    "class Car:\n",
    "    def __init__(self, name, model, color):\n",
    "        self.name = name\n",
    "        self.model = model\n",
    "        self.color = color\n",
    "        \n",
    "    def drive(self):\n",
    "        # {차 이름}가 출발합니다.\n",
    "        print(f\"{self.name}가 갑니다.\")\n",
    "        \n",
    "    def stop(self):\n",
    "        print(\"차가 섭니다.\")\n",
    "        \n",
    "    def change_color(self):\n",
    "        # gray로 바꾼다.\n",
    "        self.color = 'gray'"
   ]
  },
  {
   "cell_type": "code",
   "execution_count": 13,
   "id": "a7e0b389",
   "metadata": {},
   "outputs": [],
   "source": [
    "his_car = Car('Honda', 'CR-V', 'Red')"
   ]
  },
  {
   "cell_type": "code",
   "execution_count": 15,
   "id": "aef0a736",
   "metadata": {},
   "outputs": [
    {
     "data": {
      "text/plain": [
       "'Red'"
      ]
     },
     "execution_count": 15,
     "metadata": {},
     "output_type": "execute_result"
    }
   ],
   "source": [
    "his_car.color"
   ]
  },
  {
   "cell_type": "code",
   "execution_count": 16,
   "id": "945c90c8",
   "metadata": {},
   "outputs": [
    {
     "name": "stdout",
     "output_type": "stream",
     "text": [
      "Honda가 갑니다.\n"
     ]
    }
   ],
   "source": [
    "his_car.drive()"
   ]
  },
  {
   "cell_type": "code",
   "execution_count": 17,
   "id": "9e6a1e9d",
   "metadata": {},
   "outputs": [
    {
     "data": {
      "text/plain": [
       "'gray'"
      ]
     },
     "execution_count": 17,
     "metadata": {},
     "output_type": "execute_result"
    }
   ],
   "source": [
    "his_car.change_color()\n",
    "his_car.color"
   ]
  },
  {
   "cell_type": "code",
   "execution_count": 18,
   "id": "0a8d754d",
   "metadata": {},
   "outputs": [],
   "source": [
    "class Car:\n",
    "    def __init__(self, name, model=None, color='black'):\n",
    "        self.name = name\n",
    "        self.model = model\n",
    "        self.color = color\n",
    "        \n",
    "    def drive(self):\n",
    "        print(f\"{self.name}가 갑니다\")\n",
    "    \n",
    "    def stop(self):\n",
    "        print(\"차가 섭니다\")\n",
    "    \n",
    "    def change_color(self, color):\n",
    "        # color 를 받아서 그걸로 지정하게\n",
    "        self.color = color\n",
    "    \n",
    "    # color가 들어오면 그 값으로 설정, 아니면 'black'으로"
   ]
  },
  {
   "cell_type": "code",
   "execution_count": 19,
   "id": "23aecac9",
   "metadata": {},
   "outputs": [],
   "source": [
    "love_car = Car('BMW', 'G20 M340i', 'peridot green')"
   ]
  },
  {
   "cell_type": "code",
   "execution_count": 20,
   "id": "c20d1562",
   "metadata": {},
   "outputs": [
    {
     "data": {
      "text/plain": [
       "'peridot green'"
      ]
     },
     "execution_count": 20,
     "metadata": {},
     "output_type": "execute_result"
    }
   ],
   "source": [
    "love_car.color"
   ]
  },
  {
   "cell_type": "code",
   "execution_count": 21,
   "id": "db764aa2",
   "metadata": {},
   "outputs": [
    {
     "data": {
      "text/plain": [
       "'blue'"
      ]
     },
     "execution_count": 21,
     "metadata": {},
     "output_type": "execute_result"
    }
   ],
   "source": [
    "love_car.change_color('blue')\n",
    "love_car.color"
   ]
  },
  {
   "cell_type": "code",
   "execution_count": 22,
   "id": "01c508ae",
   "metadata": {},
   "outputs": [
    {
     "data": {
      "text/plain": [
       "'black'"
      ]
     },
     "execution_count": 22,
     "metadata": {},
     "output_type": "execute_result"
    }
   ],
   "source": [
    "mom_car = Car('Porsche')\n",
    "mom_car.color"
   ]
  },
  {
   "cell_type": "code",
   "execution_count": 23,
   "id": "23d098ef",
   "metadata": {},
   "outputs": [],
   "source": [
    "mom_car.model"
   ]
  },
  {
   "cell_type": "markdown",
   "id": "baa82b60",
   "metadata": {},
   "source": [
    "### 캡슐화, 정보 은닉\n",
    "- public -> private\n",
    "- getter, setter"
   ]
  },
  {
   "cell_type": "code",
   "execution_count": 1,
   "id": "a6d2d57a",
   "metadata": {},
   "outputs": [
    {
     "data": {
      "text/plain": [
       "'red'"
      ]
     },
     "execution_count": 1,
     "metadata": {},
     "output_type": "execute_result"
    }
   ],
   "source": [
    "class Fruit:\n",
    "    color = 'red'\n",
    "    \n",
    "kiwi = Fruit()\n",
    "kiwi.color"
   ]
  },
  {
   "cell_type": "code",
   "execution_count": 3,
   "id": "099b79aa",
   "metadata": {},
   "outputs": [
    {
     "data": {
      "text/plain": [
       "'black'"
      ]
     },
     "execution_count": 3,
     "metadata": {},
     "output_type": "execute_result"
    }
   ],
   "source": [
    "Fruit.color = 'black'\n",
    "# 너무 간단하게 속성이 바뀜 -> 캡슐화, 정보 은닉의 필요성\n",
    "apple = Fruit()\n",
    "apple.color"
   ]
  },
  {
   "cell_type": "markdown",
   "id": "2d6354b5",
   "metadata": {},
   "source": [
    "### get, set\n",
    "- getter: 클래스 내 객체 변수 반환\n",
    "- setter: 클래스 내 객체 변수 설정"
   ]
  },
  {
   "cell_type": "code",
   "execution_count": 4,
   "id": "2bc07b85",
   "metadata": {},
   "outputs": [],
   "source": [
    "class Car:\n",
    "    def __init__(self, input_name):\n",
    "        self.name = input_name\n",
    "        \n",
    "    def get_name(self):\n",
    "        # 변수 반환\n",
    "        return self.name\n",
    "    \n",
    "    def set_name(self, input_name):\n",
    "        self.name = input_name\n",
    "        \n",
    "c = Car('name1')"
   ]
  },
  {
   "cell_type": "code",
   "execution_count": 5,
   "id": "c3b76ef8",
   "metadata": {},
   "outputs": [
    {
     "data": {
      "text/plain": [
       "'name1'"
      ]
     },
     "execution_count": 5,
     "metadata": {},
     "output_type": "execute_result"
    }
   ],
   "source": [
    "c.get_name() # 클래스 내 객체 변수 반환"
   ]
  },
  {
   "cell_type": "code",
   "execution_count": 7,
   "id": "87fa3686",
   "metadata": {},
   "outputs": [
    {
     "data": {
      "text/plain": [
       "'name2'"
      ]
     },
     "execution_count": 7,
     "metadata": {},
     "output_type": "execute_result"
    }
   ],
   "source": [
    "c.set_name('name2') # 클래스 내 객체 변수 설정\n",
    "c.name"
   ]
  },
  {
   "cell_type": "code",
   "execution_count": 8,
   "id": "62ca28dc",
   "metadata": {},
   "outputs": [
    {
     "data": {
      "text/plain": [
       "'name3'"
      ]
     },
     "execution_count": 8,
     "metadata": {},
     "output_type": "execute_result"
    }
   ],
   "source": [
    "c.name = 'name3'\n",
    "c.name"
   ]
  },
  {
   "cell_type": "code",
   "execution_count": 11,
   "id": "6432efa5",
   "metadata": {},
   "outputs": [
    {
     "data": {
      "text/plain": [
       "'name_1'"
      ]
     },
     "execution_count": 11,
     "metadata": {},
     "output_type": "execute_result"
    }
   ],
   "source": [
    "class Car:\n",
    "    def __init__(self, input_name):\n",
    "        self.hidden_name = input_name\n",
    "        \n",
    "    def get_name(self):\n",
    "        # 변수 반환\n",
    "        return self.hidden_name\n",
    "    \n",
    "    def set_name(self, input_name):\n",
    "        self.hidden_name = input_name\n",
    "        \n",
    "    name = property(get_name, set_name)\n",
    "    \n",
    "d = Car('name_1')\n",
    "d.name"
   ]
  },
  {
   "cell_type": "code",
   "execution_count": 12,
   "id": "e7d29704",
   "metadata": {},
   "outputs": [],
   "source": [
    "class Car:\n",
    "    def __init__(self, input_name):\n",
    "        self.hidden_name = input_name\n",
    "    # decorator\n",
    "    @property\n",
    "    def name(self): # @property를 통해 name을 속성으로 사용\n",
    "        # 변수 반환\n",
    "        return self.hidden_name\n",
    "    \n",
    "    @name.setter\n",
    "    def name(self, input_name):\n",
    "        self.hidden_name = input_name"
   ]
  },
  {
   "cell_type": "code",
   "execution_count": 13,
   "id": "41862c05",
   "metadata": {},
   "outputs": [
    {
     "data": {
      "text/plain": [
       "'name a'"
      ]
     },
     "execution_count": 13,
     "metadata": {},
     "output_type": "execute_result"
    }
   ],
   "source": [
    "e = Car('name a')\n",
    "e.name"
   ]
  },
  {
   "cell_type": "code",
   "execution_count": 14,
   "id": "a2f7f69f",
   "metadata": {},
   "outputs": [
    {
     "data": {
      "text/plain": [
       "'name a'"
      ]
     },
     "execution_count": 14,
     "metadata": {},
     "output_type": "execute_result"
    }
   ],
   "source": [
    "e.hidden_name"
   ]
  },
  {
   "cell_type": "code",
   "execution_count": 15,
   "id": "49a22750",
   "metadata": {},
   "outputs": [],
   "source": [
    "class Car:\n",
    "    def __init__(self, input_name):\n",
    "        self.__name = input_name # .__로 정보 은닉\n",
    "    # decorator\n",
    "    @property\n",
    "    def name(self):\n",
    "        # 변수 반환\n",
    "        return self.__name\n",
    "    \n",
    "    @name.setter\n",
    "    def name(self, input_name):\n",
    "        self.__name = input_name"
   ]
  },
  {
   "cell_type": "code",
   "execution_count": 16,
   "id": "8372e782",
   "metadata": {},
   "outputs": [
    {
     "ename": "AttributeError",
     "evalue": "'Car' object has no attribute '__name'",
     "output_type": "error",
     "traceback": [
      "\u001b[1;31m---------------------------------------------------------------------------\u001b[0m",
      "\u001b[1;31mAttributeError\u001b[0m                            Traceback (most recent call last)",
      "\u001b[1;32m~\\AppData\\Local\\Temp/ipykernel_43088/229484777.py\u001b[0m in \u001b[0;36m<module>\u001b[1;34m\u001b[0m\n\u001b[0;32m      1\u001b[0m \u001b[0mf\u001b[0m \u001b[1;33m=\u001b[0m \u001b[0mCar\u001b[0m\u001b[1;33m(\u001b[0m\u001b[1;34m'name b'\u001b[0m\u001b[1;33m)\u001b[0m\u001b[1;33m\u001b[0m\u001b[1;33m\u001b[0m\u001b[0m\n\u001b[1;32m----> 2\u001b[1;33m \u001b[0mf\u001b[0m\u001b[1;33m.\u001b[0m\u001b[0m__name\u001b[0m\u001b[1;33m\u001b[0m\u001b[1;33m\u001b[0m\u001b[0m\n\u001b[0m",
      "\u001b[1;31mAttributeError\u001b[0m: 'Car' object has no attribute '__name'"
     ]
    }
   ],
   "source": [
    "f = Car('name b')\n",
    "f.__name"
   ]
  },
  {
   "cell_type": "code",
   "execution_count": 17,
   "id": "f49143d8",
   "metadata": {},
   "outputs": [
    {
     "data": {
      "text/plain": [
       "10"
      ]
     },
     "execution_count": 17,
     "metadata": {},
     "output_type": "execute_result"
    }
   ],
   "source": [
    "class Circle:\n",
    "    def __init__(self, radius):\n",
    "        self.radius = radius\n",
    "        \n",
    "    @property # @property를 통해 parameter를 속성으로 사용\n",
    "    def parameter(self):\n",
    "        return self.radius * 2\n",
    "    \n",
    "ex = Circle(5)\n",
    "ex.parameter"
   ]
  },
  {
   "cell_type": "code",
   "execution_count": 18,
   "id": "eacc2a01",
   "metadata": {},
   "outputs": [
    {
     "data": {
      "text/plain": [
       "38"
      ]
     },
     "execution_count": 18,
     "metadata": {},
     "output_type": "execute_result"
    }
   ],
   "source": [
    "ex.radius = 19\n",
    "ex.parameter"
   ]
  },
  {
   "cell_type": "markdown",
   "id": "c59b5338",
   "metadata": {},
   "source": [
    "### 실습\n",
    "- 메모장, 메모 구현하기\n",
    "- 메모장\n",
    "    - 속성: 제목(은닉), 페이지번호, 메모\n",
    "    - 행동: 메모 추가하다, 메모 삭제하다, 페이지번호 확인하다\n",
    "- 메모\n",
    "    - 속성: 글귀\n",
    "    - 행동: 쓰다, 지우다\n",
    "- 사용:    \n",
    "    - 메모 쓴다\n",
    "    - 메모장에 추가 -> 페이지 번호가 늘어난다\n",
    "    - 메모 삭제 -> 페이지 번호 줄어든다"
   ]
  },
  {
   "cell_type": "code",
   "execution_count": 2,
   "id": "99cbadb2",
   "metadata": {},
   "outputs": [
    {
     "name": "stdout",
     "output_type": "stream",
     "text": [
      "> Note\n",
      "우리 모두 스스로가 원하는 리더가 됩시다\n",
      "page : 1\n",
      "모두가 함께 앞으로 나아가면 성공은 저절로 따라옵니다\n",
      "page : 2\n",
      "혼자서는 작은 한 방울이지만 함께 모이면 바다를 이룹니다\n",
      "page : 3\n",
      "늦었다고 생각할 때가 정말 늦은 것이다.\n",
      "page : 4\n",
      "\n",
      "> Notebook\n",
      "우리 모두 스스로가 원하는 리더가 됩시다\n",
      "page : 1\n",
      "모두가 함께 앞으로 나아가면 성공은 저절로 따라옵니다\n",
      "page : 2\n",
      "혼자서는 작은 한 방울이지만 함께 모이면 바다를 이룹니다\n",
      "page : 3\n",
      "늦었다고 생각할 때가 정말 늦은 것이다.\n",
      "page : 4\n",
      "\n",
      "> Note\n",
      "우리 모두 스스로가 원하는 리더가 됩시다\n",
      "page : 1\n",
      "모두가 함께 앞으로 나아가면 성공은 저절로 따라옵니다\n",
      "page : 2\n",
      "혼자서는 작은 한 방울이지만 함께 모이면 바다를 이룹니다\n",
      "page : 3\n",
      "\n",
      "> Notebook\n",
      "늦었다고 생각할 때가 정말 늦은 것이다.\n",
      "page : 1\n",
      "\n"
     ]
    },
    {
     "data": {
      "text/plain": [
       "1"
      ]
     },
     "execution_count": 2,
     "metadata": {},
     "output_type": "execute_result"
    }
   ],
   "source": [
    "class Notebook:\n",
    "    def __init__(self, title, page_number=0, memo=[]):\n",
    "        self.__title = title\n",
    "        self.page_number = page_number\n",
    "        self.memo = memo\n",
    "        \n",
    "    def add_note(self, note):\n",
    "        for note in note.notes:\n",
    "            self.memo.append(note)\n",
    "            self.page_number += 1\n",
    "        \n",
    "    def delete_note(self, note):\n",
    "        for note in note.notes:\n",
    "            self.memo.remove(note)\n",
    "            self.page_number -= 1\n",
    "        \n",
    "    def get_page_num(self):\n",
    "        return self.page_number\n",
    "    \n",
    "    def print_memos(self):\n",
    "        print(\"> Notebook\")\n",
    "        for page, memo in enumerate(self.memo):\n",
    "            print(memo)\n",
    "            print(f\"page : {page + 1}\")\n",
    "        print()\n",
    "\n",
    "class Note:\n",
    "    def __init__(self, notes=[]):\n",
    "        self.notes = notes\n",
    "        \n",
    "    def write(self, line):\n",
    "        self.notes.append(line)\n",
    "    \n",
    "    def erase(self, line):\n",
    "        self.notes.remove(line)\n",
    "    \n",
    "    def print_notes(self):\n",
    "        print(\"> Note\")\n",
    "        for page, memo in enumerate(self.notes):\n",
    "            print(memo)\n",
    "            print(f\"page : {page + 1}\")\n",
    "        print()\n",
    "    \n",
    "\n",
    "line1 = '우리 모두 스스로가 원하는 리더가 됩시다'\n",
    "line2 = '모두가 함께 앞으로 나아가면 성공은 저절로 따라옵니다'\n",
    "line3 = '혼자서는 작은 한 방울이지만 함께 모이면 바다를 이룹니다'\n",
    "line4 = '늦었다고 생각할 때가 정말 늦은 것이다.'\n",
    "\n",
    "# 메모 추가\n",
    "my_note = Note()\n",
    "my_note.write(line1)\n",
    "my_note.write(line2)\n",
    "my_note.write(line3)\n",
    "my_note.write(line4)\n",
    "my_note.print_notes()\n",
    "\n",
    "# 메모장에 추가\n",
    "my_book = Notebook('My memo')\n",
    "my_book.add_note(my_note)\n",
    "my_book.print_memos()\n",
    "\n",
    "# 메모 삭제\n",
    "my_note.erase(line4)\n",
    "my_note.print_notes()\n",
    "\n",
    "# 메모장 삭제\n",
    "my_book.delete_note(my_note)\n",
    "my_book.print_memos()\n",
    "\n",
    "# 페이지 번호 확인하기\n",
    "my_book.get_page_num()"
   ]
  },
  {
   "cell_type": "code",
   "execution_count": null,
   "id": "4186c749",
   "metadata": {},
   "outputs": [],
   "source": []
  }
 ],
 "metadata": {
  "kernelspec": {
   "display_name": "Python 3 (ipykernel)",
   "language": "python",
   "name": "python3"
  },
  "language_info": {
   "codemirror_mode": {
    "name": "ipython",
    "version": 3
   },
   "file_extension": ".py",
   "mimetype": "text/x-python",
   "name": "python",
   "nbconvert_exporter": "python",
   "pygments_lexer": "ipython3",
   "version": "3.9.7"
  }
 },
 "nbformat": 4,
 "nbformat_minor": 5
}
