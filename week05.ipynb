{
 "cells": [
  {
   "cell_type": "markdown",
   "id": "3070a62a",
   "metadata": {},
   "source": [
    "# 🔔Week05"
   ]
  },
  {
   "cell_type": "markdown",
   "id": "2086cb2c",
   "metadata": {},
   "source": [
    "## 반복문\n",
    "- while, for loop"
   ]
  },
  {
   "cell_type": "markdown",
   "id": "195f2564",
   "metadata": {},
   "source": [
    "#### while loop\n",
    "- 어떤 조건이 만족하는 동안 명령 블록을 수행함.\n",
    "- for + if\n",
    "- 해당 조건이 거짓이면 멈춤 => 언제 멈추는지 그 시점을 정확히 파악해야 함.\n",
    "\n",
    "#### for vs while\n",
    "- for: 반복 횟수가 정해져 있고, 정확하고, 불변할 때 사용.\n",
    "    - 예: 성적 산출\n",
    "- while: 반복 횟수가 정해져 있지 않고, 중요하지 않고, 어떤 조건을 만족시킬 경우 반복문을 빠져나올 때 사용. \n",
    "    - 예: 가위바위보"
   ]
  },
  {
   "cell_type": "code",
   "execution_count": 1,
   "id": "286c568c",
   "metadata": {},
   "outputs": [
    {
     "name": "stdout",
     "output_type": "stream",
     "text": [
      "0\n",
      "1\n",
      "2\n",
      "3\n",
      "4\n"
     ]
    }
   ],
   "source": [
    "for i in range(5):\n",
    "    print(i)"
   ]
  },
  {
   "cell_type": "code",
   "execution_count": 3,
   "id": "45b9bba4",
   "metadata": {},
   "outputs": [
    {
     "name": "stdout",
     "output_type": "stream",
     "text": [
      "0\n",
      "1\n",
      "2\n",
      "3\n",
      "4\n",
      "5\n"
     ]
    }
   ],
   "source": [
    "j = 0 # j 선언 및 초기화\n",
    "while j < 6:\n",
    "    print(j)\n",
    "    j += 1 # j = j + 1"
   ]
  },
  {
   "cell_type": "code",
   "execution_count": 5,
   "id": "81cc2e43",
   "metadata": {},
   "outputs": [
    {
     "name": "stdout",
     "output_type": "stream",
     "text": [
      "a\n",
      "b\n",
      "c\n",
      "d\n",
      "e\n"
     ]
    }
   ],
   "source": [
    "alphabet = ['a', 'b', 'c', 'd', 'e']\n",
    "for alpha in alphabet:\n",
    "    print(alpha)"
   ]
  },
  {
   "cell_type": "code",
   "execution_count": 6,
   "id": "7d44f775",
   "metadata": {},
   "outputs": [
    {
     "name": "stdout",
     "output_type": "stream",
     "text": [
      "a\n",
      "b\n",
      "c\n",
      "d\n",
      "e\n"
     ]
    }
   ],
   "source": [
    "i = 0\n",
    "while i < len(alphabet):\n",
    "    print(alphabet[i])\n",
    "    i += 1"
   ]
  },
  {
   "cell_type": "markdown",
   "id": "f186b9a0",
   "metadata": {},
   "source": [
    "## 반복문 제어\n",
    "- 되도록 사용 X. 무분별한 사용 시 의도치 않은 오류가 발생할 수 있음.\n",
    "- break: 논리적으로 반복을 종료시킬 때 사용.\n",
    "- continue: 특정 조건을 건너뛰고 다음 조건 실행할 때 사용.\n",
    "- else\n",
    "     - 어떤 조건이 완전히 끝났을 때 한 번 더 실행함.\n",
    "     - break 사용 시에에는 실행 안 됨.\n",
    "     - 어느 지점에서 종료되었는지 확인할 때 사용."
   ]
  },
  {
   "cell_type": "code",
   "execution_count": 9,
   "id": "f7bee24a",
   "metadata": {},
   "outputs": [
    {
     "name": "stdout",
     "output_type": "stream",
     "text": [
      "0\n",
      "1\n",
      "2\n",
      "3\n",
      "4\n",
      "5\n",
      "6\n"
     ]
    }
   ],
   "source": [
    "j = 0\n",
    "while j < 10:\n",
    "    print(j)\n",
    "    if j == 6: break # j가 6일 때 반복 종료\n",
    "    j += 1\n",
    "else: # break 사용해서 else 실행 X\n",
    "    print('ended')"
   ]
  },
  {
   "cell_type": "code",
   "execution_count": 12,
   "id": "1b404a2c",
   "metadata": {},
   "outputs": [
    {
     "name": "stdout",
     "output_type": "stream",
     "text": [
      "0\n",
      "2\n",
      "3\n",
      "4\n",
      "5\n",
      "6\n",
      "7\n",
      "ended\n"
     ]
    }
   ],
   "source": [
    "for i in range(8):\n",
    "    if i == 1: continue\n",
    "    print(i) # continue 사용, 조건식 출력 안하고 건너뜀\n",
    "else:\n",
    "    print('ended')"
   ]
  },
  {
   "cell_type": "markdown",
   "id": "fc830fce",
   "metadata": {},
   "source": [
    "### gugudan\n",
    "\n",
    "- 구구단 프로그램\n",
    "\n",
    "    - 메뉴 선택 (메뉴에 없는 옵션 선택 시 프로그램 재실행)\n",
    "    1. n단 출력\n",
    "    2. n단까지 출력\n",
    "    3. n단부터 m단까지 출력"
   ]
  },
  {
   "cell_type": "code",
   "execution_count": 6,
   "id": "2fbe62f3",
   "metadata": {},
   "outputs": [
    {
     "name": "stdout",
     "output_type": "stream",
     "text": [
      "--------구구단 프로그램--------\n",
      "메뉴 선택: 1. n단 출력 | 2. n단까지 출력 | 3. n단부터 m단까지 출력 |4\n",
      "올바르지 않은 메뉴를 입력하셨습니다. 프로그램을 재실행합니다.\n",
      "--------구구단 프로그램--------\n",
      "메뉴 선택: 1. n단 출력 | 2. n단까지 출력 | 3. n단부터 m단까지 출력 |1\n",
      "1번을 선택하셨습니다.\n",
      "단수를 입력하시오: 5\n",
      "------5단------\n",
      "5 x 1 = 5\n",
      "5 x 2 = 10\n",
      "5 x 3 = 15\n",
      "5 x 4 = 20\n",
      "5 x 5 = 25\n",
      "5 x 6 = 30\n",
      "5 x 7 = 35\n",
      "5 x 8 = 40\n",
      "5 x 9 = 45\n"
     ]
    }
   ],
   "source": [
    "while True:\n",
    "    print(\"--------구구단 프로그램--------\")\n",
    "    select = int(input(\"메뉴 선택: 1. n단 출력 | 2. n단까지 출력 | 3. n단부터 m단까지 출력 |\"))\n",
    "    if select == 1:\n",
    "        print(f\"{select}번을 선택하셨습니다.\")\n",
    "        dan = int(input(\"단수를 입력하시오: \"))\n",
    "        if dan > 9:\n",
    "            print(\"구구단은 9단까지만 존재합니다.\")\n",
    "        else:\n",
    "            print(f\"------{dan}단------\")\n",
    "            for i in range(1, 10):\n",
    "                print(f\"{dan} x {i} = {dan * i}\")\n",
    "        break\n",
    "    elif select == 2:\n",
    "        print(f\"{select}번을 선택하셨습니다.\")\n",
    "        dan = int(input(\"단수를 입력하시오: \"))\n",
    "        if dan > 9:\n",
    "            print(\"구구단은 9단까지만 존재합니다.\")\n",
    "        else:\n",
    "            for i in range(2, dan + 1):\n",
    "                print(f\"------{i}단------\")\n",
    "                for j in range(1, 10):\n",
    "                    print(f\"{i} x {j} = {i * j}\")\n",
    "        break\n",
    "    elif select == 3:\n",
    "        print(f\"{select}번을 선택하셨습니다.\")\n",
    "        n = int(input(\"몇 단부터 출력할까요? \"))\n",
    "        m = int(input(\"몇 단까지 출력할까요? \"))\n",
    "        \n",
    "        if n > 9 or m > 9:\n",
    "            print(\"구구단은 9단까지만 존재합니다.\")\n",
    "        else:\n",
    "            if n < m:\n",
    "                for i in range(n, m + 1):\n",
    "                    print(f\"------{i}단------\")\n",
    "                    for j in range(1, 10):\n",
    "                        print(f\"{i} x {j} = {i * j}\")\n",
    "            else:\n",
    "                print(\"단을 잘못 입력하셨습니다.\")\n",
    "        break\n",
    "    else:\n",
    "        print(\"올바르지 않은 메뉴를 입력하셨습니다. 프로그램을 재실행합니다.\")\n",
    "        continue"
   ]
  },
  {
   "cell_type": "markdown",
   "id": "b89d0bb8",
   "metadata": {},
   "source": [
    "## NLTK book"
   ]
  },
  {
   "cell_type": "code",
   "execution_count": 1,
   "id": "ee3de627",
   "metadata": {},
   "outputs": [
    {
     "name": "stdout",
     "output_type": "stream",
     "text": [
      "*** Introductory Examples for the NLTK Book ***\n",
      "Loading text1, ..., text9 and sent1, ..., sent9\n",
      "Type the name of the text or sentence to view it.\n",
      "Type: 'texts()' or 'sents()' to list the materials.\n",
      "text1: Moby Dick by Herman Melville 1851\n",
      "text2: Sense and Sensibility by Jane Austen 1811\n",
      "text3: The Book of Genesis\n",
      "text4: Inaugural Address Corpus\n",
      "text5: Chat Corpus\n",
      "text6: Monty Python and the Holy Grail\n",
      "text7: Wall Street Journal\n",
      "text8: Personals Corpus\n",
      "text9: The Man Who Was Thursday by G . K . Chesterton 1908\n"
     ]
    },
    {
     "data": {
      "text/plain": [
       "True"
      ]
     },
     "execution_count": 1,
     "metadata": {},
     "output_type": "execute_result"
    }
   ],
   "source": [
    "import nltk\n",
    "from nltk.book import *\n",
    "nltk.download('book', quiet=True)"
   ]
  },
  {
   "cell_type": "code",
   "execution_count": 8,
   "id": "2be46c42",
   "metadata": {},
   "outputs": [
    {
     "data": {
      "text/plain": [
       "[<Text: Moby Dick by Herman Melville 1851>,\n",
       " <Text: Sense and Sensibility by Jane Austen 1811>,\n",
       " <Text: The Book of Genesis>,\n",
       " <Text: Inaugural Address Corpus>,\n",
       " <Text: Chat Corpus>,\n",
       " <Text: Monty Python and the Holy Grail>,\n",
       " <Text: Wall Street Journal>,\n",
       " <Text: Personals Corpus>,\n",
       " <Text: The Man Who Was Thursday by G . K . Chesterton 1908>]"
      ]
     },
     "execution_count": 8,
     "metadata": {},
     "output_type": "execute_result"
    }
   ],
   "source": [
    "# text 1 ~ text 9 을 string으로 가져옴\n",
    "# string에서 기능이 있는 것으로 바꿔줌\n",
    "# getattr(library, 'string_name')\n",
    "\n",
    "texts = [getattr(nltk.book, f'text{i}') for i in range(1, 10)]\n",
    "texts"
   ]
  },
  {
   "cell_type": "markdown",
   "id": "f65f053c",
   "metadata": {},
   "source": [
    "## NLTK corpus\n",
    "- 코퍼스 + 테마\n",
    "- 종류\n",
    "    - gutenberg\n",
    "    - brown\n",
    "    - inaugural\n",
    "- methods\n",
    "    - words(): 단어 / tokens와 같음\n",
    "    - sents(): 문장\n",
    "    - raw(): 글자\n",
    "    - fileids(): txt 파일"
   ]
  },
  {
   "cell_type": "code",
   "execution_count": 2,
   "id": "94135d8a",
   "metadata": {},
   "outputs": [
    {
     "name": "stderr",
     "output_type": "stream",
     "text": [
      "[nltk_data] Downloading package gutenberg to\n",
      "[nltk_data]     C:\\Users\\SAMSUNG\\AppData\\Roaming\\nltk_data...\n",
      "[nltk_data]   Package gutenberg is already up-to-date!\n",
      "[nltk_data] Downloading package brown to\n",
      "[nltk_data]     C:\\Users\\SAMSUNG\\AppData\\Roaming\\nltk_data...\n",
      "[nltk_data]   Package brown is already up-to-date!\n",
      "[nltk_data] Downloading package inaugural to\n",
      "[nltk_data]     C:\\Users\\SAMSUNG\\AppData\\Roaming\\nltk_data...\n",
      "[nltk_data]   Package inaugural is already up-to-date!\n"
     ]
    },
    {
     "data": {
      "text/plain": [
       "True"
      ]
     },
     "execution_count": 2,
     "metadata": {},
     "output_type": "execute_result"
    }
   ],
   "source": [
    "from nltk.corpus import gutenberg\n",
    "nltk.download(['gutenberg', 'brown', 'inaugural'])"
   ]
  },
  {
   "cell_type": "code",
   "execution_count": 3,
   "id": "db528e90",
   "metadata": {},
   "outputs": [
    {
     "data": {
      "text/plain": [
       "<PlaintextCorpusReader in 'C:\\\\Users\\\\SAMSUNG\\\\AppData\\\\Roaming\\\\nltk_data\\\\corpora\\\\gutenberg'>"
      ]
     },
     "execution_count": 3,
     "metadata": {},
     "output_type": "execute_result"
    }
   ],
   "source": [
    "gutenberg # nltk.corpus.gutenberg 와 같음"
   ]
  },
  {
   "cell_type": "code",
   "execution_count": 12,
   "id": "b764ce28",
   "metadata": {},
   "outputs": [
    {
     "data": {
      "text/plain": [
       "['austen-emma.txt',\n",
       " 'austen-persuasion.txt',\n",
       " 'austen-sense.txt',\n",
       " 'bible-kjv.txt',\n",
       " 'blake-poems.txt',\n",
       " 'bryant-stories.txt',\n",
       " 'burgess-busterbrown.txt',\n",
       " 'carroll-alice.txt',\n",
       " 'chesterton-ball.txt',\n",
       " 'chesterton-brown.txt',\n",
       " 'chesterton-thursday.txt',\n",
       " 'edgeworth-parents.txt',\n",
       " 'melville-moby_dick.txt',\n",
       " 'milton-paradise.txt',\n",
       " 'shakespeare-caesar.txt',\n",
       " 'shakespeare-hamlet.txt',\n",
       " 'shakespeare-macbeth.txt',\n",
       " 'whitman-leaves.txt']"
      ]
     },
     "execution_count": 12,
     "metadata": {},
     "output_type": "execute_result"
    }
   ],
   "source": [
    "gutenberg.fileids() # gutenberg에 있는 txt 파일 리스트"
   ]
  },
  {
   "cell_type": "code",
   "execution_count": 14,
   "id": "7ee5a537",
   "metadata": {},
   "outputs": [
    {
     "data": {
      "text/plain": [
       "['[', 'Leaves', 'of', 'Grass', 'by', 'Walt', 'Whitman', ...]"
      ]
     },
     "execution_count": 14,
     "metadata": {},
     "output_type": "execute_result"
    }
   ],
   "source": [
    "# txt 파일에서 단어 가져오기\n",
    "gutenberg.words(fileids=['whitman-leaves.txt', 'blake-poems.txt'])"
   ]
  },
  {
   "cell_type": "code",
   "execution_count": 15,
   "id": "eada2eed",
   "metadata": {
    "collapsed": true
   },
   "outputs": [
    {
     "name": "stdout",
     "output_type": "stream",
     "text": [
      "austen-emma.txt | 글자 수: 887071개, 단어 수: 192427개, 문장 수: 7752개\n",
      "austen-persuasion.txt | 글자 수: 466292개, 단어 수: 98171개, 문장 수: 3747개\n",
      "austen-sense.txt | 글자 수: 673022개, 단어 수: 141576개, 문장 수: 4999개\n",
      "bible-kjv.txt | 글자 수: 4332554개, 단어 수: 1010654개, 문장 수: 30103개\n",
      "blake-poems.txt | 글자 수: 38153개, 단어 수: 8354개, 문장 수: 438개\n",
      "bryant-stories.txt | 글자 수: 249439개, 단어 수: 55563개, 문장 수: 2863개\n",
      "burgess-busterbrown.txt | 글자 수: 84663개, 단어 수: 18963개, 문장 수: 1054개\n",
      "carroll-alice.txt | 글자 수: 144395개, 단어 수: 34110개, 문장 수: 1703개\n",
      "chesterton-ball.txt | 글자 수: 457450개, 단어 수: 96996개, 문장 수: 4779개\n",
      "chesterton-brown.txt | 글자 수: 406629개, 단어 수: 86063개, 문장 수: 3806개\n",
      "chesterton-thursday.txt | 글자 수: 320525개, 단어 수: 69213개, 문장 수: 3742개\n",
      "edgeworth-parents.txt | 글자 수: 935158개, 단어 수: 210663개, 문장 수: 10230개\n",
      "melville-moby_dick.txt | 글자 수: 1242990개, 단어 수: 260819개, 문장 수: 10059개\n",
      "milton-paradise.txt | 글자 수: 468220개, 단어 수: 96825개, 문장 수: 1851개\n",
      "shakespeare-caesar.txt | 글자 수: 112310개, 단어 수: 25833개, 문장 수: 2163개\n",
      "shakespeare-hamlet.txt | 글자 수: 162881개, 단어 수: 37360개, 문장 수: 3106개\n",
      "shakespeare-macbeth.txt | 글자 수: 100351개, 단어 수: 23140개, 문장 수: 1907개\n",
      "whitman-leaves.txt | 글자 수: 711215개, 단어 수: 154883개, 문장 수: 4250개\n"
     ]
    }
   ],
   "source": [
    "# 각 파일마다 character, word, sents 개수 출력\n",
    "for i in gutenberg.fileids():\n",
    "    i_character = len(gutenberg.raw(fileids=[i]))\n",
    "    i_word = len(gutenberg.words(fileids=[i]))\n",
    "    i_sents = len(gutenberg.sents(fileids=[i]))\n",
    "    \n",
    "    print(f\"{i} | 글자 수: {i_character}개, 단어 수: {i_word}개, 문장 수: {i_sents}개\")"
   ]
  },
  {
   "cell_type": "code",
   "execution_count": 16,
   "id": "30cf5788",
   "metadata": {
    "collapsed": true
   },
   "outputs": [
    {
     "name": "stdout",
     "output_type": "stream",
     "text": [
      "austen-emma| 글자 수: 887071, 단어 수: 192427, 문장 수: 7752\n",
      "austen-persuasion| 글자 수: 466292, 단어 수: 98171, 문장 수: 3747\n",
      "austen-sense| 글자 수: 673022, 단어 수: 141576, 문장 수: 4999\n",
      "bible-kjv| 글자 수: 4332554, 단어 수: 1010654, 문장 수: 30103\n",
      "blake-poems| 글자 수: 38153, 단어 수: 8354, 문장 수: 438\n",
      "bryant-stories| 글자 수: 249439, 단어 수: 55563, 문장 수: 2863\n",
      "burgess-busterbrown| 글자 수: 84663, 단어 수: 18963, 문장 수: 1054\n",
      "carroll-alice| 글자 수: 144395, 단어 수: 34110, 문장 수: 1703\n",
      "chesterton-ball| 글자 수: 457450, 단어 수: 96996, 문장 수: 4779\n",
      "chesterton-brown| 글자 수: 406629, 단어 수: 86063, 문장 수: 3806\n",
      "chesterton-thursday| 글자 수: 320525, 단어 수: 69213, 문장 수: 3742\n",
      "edgeworth-parents| 글자 수: 935158, 단어 수: 210663, 문장 수: 10230\n",
      "melville-moby_dick| 글자 수: 1242990, 단어 수: 260819, 문장 수: 10059\n",
      "milton-paradise| 글자 수: 468220, 단어 수: 96825, 문장 수: 1851\n",
      "shakespeare-caesar| 글자 수: 112310, 단어 수: 25833, 문장 수: 2163\n",
      "shakespeare-hamlet| 글자 수: 162881, 단어 수: 37360, 문장 수: 3106\n",
      "shakespeare-macbeth| 글자 수: 100351, 단어 수: 23140, 문장 수: 1907\n",
      "whitman-leaves| 글자 수: 711215, 단어 수: 154883, 문장 수: 4250\n"
     ]
    }
   ],
   "source": [
    "for file in gutenberg.fileids():\n",
    "    character = gutenberg.raw(file)\n",
    "    word = gutenberg.words(file)\n",
    "    sents = gutenberg.sents(file)\n",
    "    \n",
    "    print('{}| 글자 수: {}, 단어 수: {}, 문장 수: {}'.format(file[:-4], len(character), len(word), len(sents)))"
   ]
  },
  {
   "cell_type": "markdown",
   "id": "84b86cdd",
   "metadata": {},
   "source": [
    "### Gutenberg\n",
    "- 1. shakespeare-caesar의 중복된 단어를 거르고 각 단어의 길이를 출력하시오.\n",
    "- 2. chesterton-thursday에서 길이가 4자 이하인 알파벳 중 ie를 포함하는 단어를 소문자로 출력하고, 개수를 세어라.\n",
    "- 3. bryant-stories에서 ch로 끝나는 단어를 출력하는데, 중복 없이, 첫 글자(모두 소문자)와 끝 ch만 남기고 가운데 글자들은 모두 -로 가려라. ex) much -> m-ch"
   ]
  },
  {
   "cell_type": "code",
   "execution_count": 27,
   "id": "b618fb3a",
   "metadata": {
    "collapsed": true
   },
   "outputs": [
    {
     "name": "stdout",
     "output_type": "stream",
     "text": [
      "[4, 3, 4, 5, 5, 6, 3, 7, 6, 4, 10, 6, 4, 3, 4, 7, 6, 7, 7, 5, 6, 7, 5, 9, 4, 5, 9, 4, 2, 7, 10, 3, 2, 2, 1, 7, 3, 6, 8, 9, 4, 6, 5, 5, 4, 3, 4, 5, 6, 4, 7, 8, 5, 5, 7, 7, 4, 11, 4, 7, 3, 5, 8, 5, 6, 6, 5, 8, 7, 11, 4, 8, 6, 7, 6, 6, 6, 3, 9, 11, 7, 7, 5, 5, 2, 5, 6, 7, 6, 3, 8, 8, 4, 7, 6, 6, 6, 5, 5, 3, 6, 5, 9, 2, 8, 6, 5, 8, 5, 3, 6, 8, 5, 6, 3, 9, 6, 5, 4, 5, 6, 6, 3, 7, 2, 4, 5, 7, 6, 11, 3, 3, 5, 6, 7, 7, 3, 9, 9, 10, 3, 7, 8, 7, 7, 6, 3, 4, 4, 4, 3, 10, 10, 6, 6, 9, 10, 7, 3, 6, 5, 5, 5, 10, 6, 5, 5, 5, 6, 4, 9, 4, 6, 8, 4, 6, 6, 7, 8, 4, 6, 7, 4, 6, 5, 6, 5, 6, 6, 7, 7, 7, 6, 4, 8, 6, 4, 7, 5, 5, 10, 4, 9, 5, 6, 9, 5, 9, 7, 8, 5, 5, 9, 7, 6, 3, 4, 4, 9, 7, 9, 6, 3, 6, 5, 5, 7, 5, 7, 8, 5, 5, 5, 4, 4, 5, 4, 12, 5, 6, 5, 5, 10, 10, 6, 6, 5, 3, 5, 7, 6, 12, 7, 6, 2, 5, 8, 6, 11, 10, 4, 6, 4, 6, 9, 6, 7, 4, 8, 1, 3, 6, 5, 7, 6, 4, 5, 5, 5, 5, 4, 8, 6, 6, 7, 10, 5, 10, 6, 2, 6, 5, 8, 1, 3, 3, 4, 7, 4, 1, 6, 3, 3, 8, 6, 8, 9, 6, 3, 6, 5, 6, 4, 6, 10, 7, 11, 5, 4, 6, 5, 7, 7, 4, 5, 4, 7, 6, 6, 11, 6, 7, 4, 4, 5, 7, 6, 3, 6, 6, 6, 6, 8, 5, 6, 4, 6, 4, 7, 6, 5, 4, 4, 4, 4, 6, 7, 7, 5, 6, 6, 3, 6, 7, 5, 4, 10, 6, 10, 9, 8, 5, 6, 8, 6, 6, 6, 4, 10, 10, 6, 5, 7, 5, 9, 3, 8, 7, 7, 9, 3, 9, 6, 7, 4, 4, 6, 7, 2, 5, 2, 4, 5, 11, 7, 8, 3, 8, 6, 6, 7, 7, 6, 5, 4, 7, 5, 11, 3, 6, 5, 5, 7, 6, 4, 3, 3, 2, 8, 4, 6, 7, 4, 8, 7, 6, 3, 5, 8, 6, 3, 6, 5, 5, 4, 3, 5, 5, 11, 6, 7, 3, 5, 7, 11, 5, 6, 4, 5, 9, 6, 7, 7, 11, 5, 9, 8, 7, 6, 3, 7, 7, 4, 7, 7, 4, 4, 4, 8, 3, 6, 8, 5, 3, 9, 3, 7, 11, 4, 5, 2, 8, 1, 6, 6, 9, 7, 8, 3, 5, 7, 8, 8, 4, 6, 4, 3, 6, 6, 6, 6, 10, 10, 6, 5, 3, 9, 4, 4, 6, 7, 7, 5, 4, 9, 4, 6, 6, 5, 4, 7, 7, 7, 10, 5, 7, 5, 7, 2, 4, 6, 4, 4, 6, 8, 3, 10, 6, 4, 6, 7, 7, 6, 4, 7, 4, 7, 9, 7, 8, 2, 6, 5, 7, 4, 5, 6, 6, 8, 6, 6, 8, 1, 4, 6, 5, 5, 5, 6, 5, 5, 6, 8, 7, 7, 6, 6, 5, 9, 3, 7, 4, 6, 7, 4, 7, 10, 7, 5, 4, 5, 8, 6, 3, 4, 8, 5, 6, 4, 7, 4, 9, 6, 4, 7, 5, 5, 5, 4, 5, 7, 2, 4, 4, 5, 7, 7, 10, 5, 7, 4, 6, 5, 10, 9, 7, 9, 8, 6, 4, 4, 7, 4, 7, 8, 4, 5, 4, 6, 13, 7, 6, 9, 4, 5, 8, 5, 9, 9, 6, 6, 7, 4, 10, 7, 3, 6, 5, 6, 9, 2, 9, 5, 6, 9, 5, 5, 4, 11, 12, 5, 9, 7, 4, 6, 1, 4, 8, 8, 10, 5, 5, 7, 6, 8, 7, 6, 7, 6, 8, 6, 7, 8, 3, 9, 5, 5, 5, 3, 6, 5, 4, 8, 5, 3, 8, 4, 8, 8, 7, 5, 4, 13, 4, 4, 3, 5, 10, 4, 11, 1, 6, 4, 9, 5, 5, 4, 6, 3, 4, 8, 5, 6, 5, 5, 5, 4, 6, 5, 8, 4, 9, 9, 9, 4, 10, 5, 9, 7, 5, 4, 7, 7, 6, 5, 5, 9, 7, 3, 7, 6, 7, 8, 3, 1, 4, 5, 6, 5, 7, 3, 6, 6, 6, 5, 7, 9, 5, 5, 5, 8, 5, 4, 4, 3, 3, 7, 5, 9, 2, 4, 3, 4, 6, 7, 9, 7, 4, 4, 7, 6, 6, 8, 4, 3, 6, 6, 9, 5, 3, 5, 10, 6, 6, 6, 5, 8, 9, 6, 7, 5, 5, 3, 10, 4, 7, 5, 6, 2, 5, 7, 5, 8, 5, 6, 8, 3, 10, 4, 5, 7, 4, 4, 7, 5, 8, 5, 9, 6, 5, 5, 4, 9, 6, 6, 5, 6, 10, 10, 6, 4, 5, 5, 4, 6, 3, 5, 6, 6, 8, 7, 5, 4, 6, 4, 6, 4, 7, 3, 7, 6, 7, 8, 7, 5, 5, 9, 8, 3, 6, 6, 6, 8, 6, 7, 6, 9, 4, 6, 2, 2, 5, 4, 7, 7, 4, 5, 7, 9, 7, 4, 4, 7, 3, 7, 6, 5, 5, 7, 6, 3, 6, 4, 3, 5, 4, 5, 3, 5, 7, 4, 11, 5, 6, 6, 4, 4, 4, 4, 4, 5, 9, 4, 5, 4, 7, 4, 7, 7, 9, 4, 7, 9, 8, 3, 6, 5, 7, 3, 3, 7, 9, 10, 8, 4, 9, 6, 7, 7, 6, 7, 7, 2, 8, 5, 5, 5, 5, 9, 5, 5, 7, 5, 6, 5, 7, 4, 8, 7, 6, 3, 4, 8, 6, 8, 4, 1, 7, 6, 9, 9, 6, 8, 6, 4, 4, 4, 7, 6, 5, 5, 10, 3, 5, 4, 4, 4, 6, 8, 5, 7, 8, 13, 5, 2, 6, 4, 5, 4, 6, 4, 1, 5, 5, 8, 4, 8, 5, 6, 4, 5, 7, 5, 7, 7, 11, 10, 9, 4, 7, 7, 5, 8, 5, 5, 9, 5, 5, 5, 8, 6, 7, 5, 5, 6, 2, 4, 2, 6, 8, 9, 5, 9, 8, 4, 5, 7, 6, 4, 3, 10, 6, 6, 8, 10, 6, 5, 6, 11, 7, 5, 6, 11, 7, 7, 7, 4, 11, 9, 8, 6, 1, 9, 4, 6, 5, 3, 5, 5, 4, 6, 9, 8, 4, 9, 6, 6, 5, 4, 7, 8, 5, 6, 4, 2, 5, 6, 8, 1, 9, 3, 3, 5, 4, 5, 4, 9, 8, 3, 4, 5, 5, 4, 8, 6, 8, 6, 7, 7, 7, 6, 9, 7, 5, 7, 9, 6, 5, 4, 5, 10, 5, 6, 5, 8, 8, 9, 7, 4, 6, 6, 8, 8, 7, 6, 5, 6, 6, 4, 4, 5, 5, 5, 9, 8, 5, 3, 5, 4, 6, 6, 6, 5, 8, 5, 8, 3, 8, 5, 6, 4, 8, 6, 3, 5, 7, 5, 8, 3, 5, 4, 9, 7, 4, 5, 5, 7, 6, 5, 5, 8, 2, 9, 4, 5, 6, 5, 4, 6, 8, 5, 8, 1, 7, 6, 6, 6, 6, 5, 3, 7, 3, 5, 9, 8, 6, 7, 5, 4, 4, 1, 5, 6, 3, 8, 6, 5, 4, 7, 5, 3, 3, 5, 6, 4, 6, 11, 9, 6, 6, 6, 11, 3, 11, 4, 6, 5, 6, 4, 7, 8, 1, 6, 5, 7, 4, 8, 7, 4, 5, 5, 5, 6, 6, 2, 4, 7, 8, 6, 5, 8, 4, 5, 8, 7, 7, 6, 11, 9, 6, 4, 5, 9, 5, 5, 2, 5, 8, 3, 9, 7, 6, 6, 3, 3, 5, 6, 5, 9, 6, 10, 5, 8, 6, 8, 11, 6, 9, 5, 4, 1, 4, 3, 7, 6, 5, 6, 7, 7, 6, 5, 7, 9, 4, 5, 6, 8, 9, 6, 6, 7, 6, 7, 7, 10, 3, 4, 2, 8, 3, 6, 7, 7, 3, 5, 3, 5, 5, 5, 6, 5, 7, 4, 5, 6, 7, 6, 6, 5, 4, 4, 12, 3, 7, 7, 5, 4, 8, 9, 6, 5, 11, 6, 4, 5, 5, 7, 4, 4, 4, 1, 7, 5, 1, 4, 6, 6, 9, 5, 6, 6, 6, 4, 6, 5, 10, 6, 5, 4, 10, 4, 7, 3, 7, 6, 7, 6, 4, 3, 8, 4, 8, 5, 6, 3, 5, 8, 8, 5, 5, 4, 3, 8, 9, 5, 7, 1, 6, 5, 6, 6, 2, 9, 5, 7, 6, 5, 5, 6, 7, 4, 4, 10, 4, 5, 4, 8, 4, 6, 6, 8, 5, 6, 9, 7, 3, 6, 6, 4, 4, 6, 2, 6, 5, 10, 6, 4, 6, 8, 2, 3, 5, 7, 8, 6, 8, 6, 8, 6, 4, 9, 4, 5, 5, 8, 5, 4, 2, 5, 7, 7, 3, 8, 7, 6, 9, 4, 7, 12, 7, 6, 8, 7, 8, 11, 4, 6, 6, 6, 7, 5, 5, 8, 9, 6, 2, 6, 7, 7, 4, 7, 5, 8, 5, 3, 6, 7, 5, 6, 7, 6, 5, 8, 3, 4, 7, 9, 5, 7, 5, 4, 7, 4, 6, 5, 9, 7, 4, 5, 6, 6, 3, 3, 7, 5, 6, 7, 6, 6, 4, 7, 4, 4, 6, 10, 7, 7, 4, 5, 5, 4, 5, 4, 4, 7, 3, 6, 4, 4, 7, 5, 5, 6, 2, 5, 8, 8, 5, 5, 9, 9, 9, 5, 6, 7, 6, 5, 5, 7, 6, 10, 5, 7, 3, 7, 5, 6, 7, 6, 10, 4, 4, 4, 7, 6, 7, 6, 8, 5, 2, 3, 9, 6, 6, 1, 6, 8, 6, 5, 5, 7, 6, 4, 7, 6, 6, 4, 6, 6, 2, 4, 6, 5, 6, 8, 3, 8, 2, 3, 5, 8, 4, 4, 5, 9, 7, 5, 8, 8, 6, 6, 7, 9, 10, 8, 4, 5, 4, 7, 9, 5, 6, 7, 7, 7, 4, 5, 4, 11, 8, 5, 4, 3, 5, 7, 6, 9, 6, 4, 5, 5, 6, 8, 5, 5, 6, 4, 4, 6, 6, 5, 3, 5, 5, 6, 5, 5, 7, 5, 3, 4, 7, 6, 6, 3, 4, 7, 7, 6, 6, 7, 7, 4, 3, 8, 5, 2, 10, 6, 4, 6, 6, 5, 5, 9, 6, 10, 6, 4, 5, 5, 2, 5, 3, 3, 8, 2, 7, 6, 6, 5, 5, 6, 6, 4, 3, 5, 7, 6, 7, 7, 9, 5, 7, 7, 4, 4, 6, 7, 9, 6, 6, 6, 6, 5, 5, 8, 5, 5, 4, 7, 6, 7, 3, 6, 6, 10, 5, 4, 7, 10, 6, 6, 10, 4, 5, 5, 6, 4, 5, 8, 9, 5, 7, 5, 4, 8, 5, 7, 8, 8, 11, 4, 7, 5, 5, 4, 7, 5, 5, 5, 5, 10, 5, 5, 6, 4, 6, 6, 9, 4, 7, 4, 3, 2, 6, 9, 5, 7, 5, 8, 7, 6, 5, 7, 5, 5, 7, 6, 6, 7, 6, 5, 8, 5, 6, 5, 11, 7, 4, 6, 6, 4, 6, 11, 10, 5, 5, 9, 7, 5, 8, 8, 3, 4, 6, 7, 5, 4, 6, 6, 4, 11, 5, 5, 3, 6, 3, 5, 6, 4, 8, 9, 6, 4, 8, 5, 7, 7, 4, 2, 7, 4, 7, 6, 8, 4, 3, 7, 12, 6, 5, 5, 5, 6, 5, 4, 2, 4, 4, 6, 4, 7, 4, 3, 9, 8, 4, 3, 3, 7, 13, 6, 8, 4, 5, 5, 7, 7, 6, 3, 6, 8, 5, 7, 4, 6, 4, 6, 3, 4, 3, 3, 2, 4, 7, 4, 7, 6, 8, 7, 6, 6, 10, 10, 6, 4, 6, 5, 5, 5, 4, 6, 5, 9, 7, 7, 2, 8, 8, 8, 5, 7, 4, 7, 3, 6, 8, 5, 6, 5, 5, 5, 7, 12, 4, 7, 4, 4, 12, 8, 6, 5, 5, 5, 7, 4, 4, 7, 6, 9, 8, 7, 8, 7, 2, 6, 4, 9, 5, 11, 5, 10, 6, 6, 5, 7, 5, 6, 4, 3, 5, 4, 4, 5, 3, 6, 7, 5, 3, 7, 7, 8, 6, 7, 5, 6, 8, 8, 10, 4, 6, 5, 11, 7, 7, 6, 6, 6, 5, 4, 4, 9, 5, 5, 7, 5, 8, 6, 10, 11, 4, 7, 5, 6, 6, 5, 6, 5, 9, 5, 6, 6, 3, 6, 8, 3, 6, 5, 11, 4, 4, 5, 6, 6, 5, 6, 4, 5, 4, 3, 8, 6, 5, 5, 6, 9, 7, 6, 5, 5, 6, 8, 3, 9, 4, 7, 5, 6, 8, 7, 5, 2, 6, 6, 3, 4, 4, 6, 8, 7, 4, 4, 6, 7, 9, 3, 6, 5, 6, 4, 7, 7, 8, 7, 6, 6, 5, 5, 3, 5, 4, 6, 5, 5, 6, 2, 4, 5, 10, 5, 7, 9, 7, 6, 3, 4, 12, 12, 8, 7, 7, 7, 1, 3, 4, 7, 7, 5, 5, 9, 10, 5, 8, 6, 6, 7, 4, 5, 6, 8, 9, 4, 5, 5, 7, 9, 4, 7, 8, 6, 4, 7, 7, 9, 11, 4, 9, 8, 9, 7, 5, 6, 5, 5, 7, 6, 3, 7, 5, 3, 4, 4, 6, 4, 9, 8, 7, 6, 5, 5, 6, 8, 7, 10, 11, 5, 6, 2, 5, 5, 6, 7, 7, 6, 8, 9, 6, 3, 4, 6, 7, 6, 7, 8, 12, 9, 4, 8, 8, 5, 3, 6, 5, 3, 6, 10, 5, 7, 4, 7, 5, 4, 8, 11, 9, 6, 3, 7, 4, 4, 10, 5, 10, 6, 5, 3, 6, 3, 10, 4, 6, 4, 6, 5, 8, 2, 7, 7, 6, 4, 6, 7, 6, 4, 6, 9, 5, 8, 6, 7, 6, 7, 3, 4, 4, 7, 9, 8, 6, 7, 6, 4, 8, 6, 8, 2, 3, 6, 7, 5, 5, 2, 5, 5, 5, 4, 6, 8, 3, 3, 13, 6, 5, 4, 5, 11, 4, 8, 4, 3, 1, 6, 3, 6, 8, 6, 6, 4, 5, 6, 6, 5, 5, 5, 8, 8, 3, 3, 5, 8, 6, 3, 6, 5, 6, 9, 5, 6, 4, 3, 4, 8, 6, 8, 10, 5, 7, 6, 7, 8, 10, 5, 5, 6, 5, 6, 6, 2, 1, 5, 6, 7, 7, 2, 5, 3, 4, 7, 5, 8, 7, 4, 8, 5, 5, 6, 8, 5, 5, 9, 8, 5, 13, 4, 6, 3, 3, 8, 8, 6, 5, 7, 6, 5, 5, 4, 5, 5, 6, 3, 3, 5, 6, 7, 4, 5, 7, 4, 5, 8, 6, 8, 5, 6, 7, 8, 4, 6, 5, 6, 5, 6, 9, 5, 5, 5, 8, 9, 10, 9, 7, 5, 2, 5, 8, 2, 6, 4, 3, 5, 7, 7, 7, 13, 5, 7, 5, 4, 4, 5, 4, 5, 7, 7, 5, 8, 7, 4, 6, 9, 2, 6, 6, 5, 4, 6, 8, 5, 9, 5, 7, 4, 9, 5, 8, 5, 8, 5, 7, 9, 7, 4, 4, 6, 5, 5, 9, 7, 11, 3, 4, 9, 9, 5, 7, 6, 6, 6, 5, 7, 5, 4, 5, 7, 4, 8, 2, 9, 5, 6, 3, 6, 10, 8, 5, 3, 5, 5, 8, 5, 7, 5, 6, 7, 9, 4, 5, 6, 5, 8, 5, 8, 6, 11, 5, 5, 4, 7, 9, 6, 5, 9, 5, 5, 5, 5, 6, 3, 1, 3, 9, 5, 8, 8, 9, 8, 7, 6, 5, 5, 5, 8, 7, 5, 4, 6, 6, 8, 7, 5, 7, 5, 5, 6, 6, 4, 8, 10, 6, 8, 5, 8, 5, 7, 4, 3, 6, 2, 6, 6, 8, 4, 7, 5, 4, 5, 7, 7, 10, 5, 7, 6, 4, 6, 6, 3, 3, 5, 8, 4, 4, 5, 5, 6, 4, 7, 7, 5, 15, 6, 5, 5, 8, 9, 6, 4, 6, 4, 7, 7, 6, 9, 5, 5, 5, 7, 5, 7, 4, 8, 4, 3, 4, 6, 6, 7, 6, 9, 5, 9, 6, 3, 4, 5, 7, 3, 5, 6, 9, 7, 10, 5, 7, 4, 5, 5, 8, 4, 7, 11, 6, 6, 8, 3, 7, 3, 7, 3, 3, 6, 3, 6, 6, 15, 10, 6, 7, 3, 8, 8, 5, 3, 9, 5, 6, 1, 5, 4, 6, 7, 4, 6, 6, 7, 5, 4, 8, 4, 6, 5, 5, 4, 5, 5, 10, 5, 6, 7, 4, 9, 5, 6, 7, 8, 9, 9, 5, 5, 3, 6, 6, 5, 8, 5, 6, 6, 8, 6, 5, 6, 8, 11, 6, 6, 5, 4, 8, 7, 7, 4, 3, 4, 7, 3, 10, 7, 5, 12, 6, 3, 5, 5, 6, 6, 4, 4, 6, 10, 4, 6, 6, 4, 5, 8, 8, 4, 4, 6, 5, 5, 4, 6, 5, 4, 5, 4, 6, 7, 10, 6, 4, 5, 6, 4, 6, 8, 9, 6, 7, 7, 5, 5, 6, 4, 4, 6, 8, 3, 6, 5, 5, 9, 4, 11, 1, 5, 8, 6, 5, 3, 5, 5, 7, 3, 4, 8, 5, 3, 5, 7, 7, 8, 7, 7, 6, 6, 8, 5, 6, 5, 4, 4, 4, 6, 5, 3, 5, 10, 7, 3, 7, 3, 9, 5, 4, 5, 8, 6, 5, 5, 3, 8, 7, 7, 5, 3, 6, 3, 5, 9, 4, 10, 5, 10, 7, 4, 5, 5, 5, 8, 4, 3, 11, 5, 5, 4, 4, 8, 7, 5, 5, 7, 5, 6, 5, 5, 4, 4, 5, 6, 3, 4, 4, 7, 6, 6, 6, 3, 5, 9, 5, 5, 8, 4, 5, 7, 7, 7, 6, 5, 4, 8, 5, 5, 4, 11, 5, 7, 6, 6, 6, 5, 5, 5, 5, 6, 11, 8, 7, 5, 4, 8, 7, 4, 2, 5, 3, 8, 9, 7, 6, 6, 5, 4, 7, 9, 10, 4, 6, 2, 6, 4, 5, 4, 5, 5, 10, 3, 7, 9, 9, 2, 5, 7, 8, 9, 4, 6, 8, 9, 4, 5, 5, 3, 7, 4, 7, 6, 4, 8, 5, 4, 6, 5, 5, 6, 10, 4, 7, 2, 5, 3, 8, 5, 11, 9, 3, 4, 6, 5, 5, 8, 6, 4, 9, 7, 10, 3, 6, 6, 11, 7, 6, 7, 4, 7, 5, 5, 6, 3, 9, 4, 5, 4, 5, 7, 3, 7, 7, 6, 11, 4, 7, 3, 3, 5, 4, 6, 3, 5, 3, 8, 3, 6, 7, 2, 6, 7, 7, 6, 4, 8, 4, 7, 7, 4, 5, 5, 7, 6, 7, 10, 5, 5, 8, 5, 4, 4, 6, 5, 5, 4, 7, 6, 8, 6, 7, 4, 5, 5, 4, 7, 8, 6, 6, 4, 11, 2, 4, 5, 6, 6, 3, 5, 7, 6, 5, 4, 6, 4, 5, 5, 9, 5, 6, 10, 6, 6, 8, 4, 4, 7, 10, 7, 8, 5, 3, 4, 8, 4, 5, 4, 5, 3, 10, 9, 6, 5, 5, 5, 5, 10, 4, 8, 4, 1, 5, 8, 6, 7, 6, 5, 4, 9, 8, 8, 8, 6, 9, 8, 7, 6, 9, 7, 7, 6, 8, 4, 6, 5, 5, 5, 7, 8, 7, 6, 5, 5, 4, 7, 4, 6, 8, 8, 15, 4, 7, 6, 7, 9, 8, 8, 4, 7, 5, 9, 6, 4, 5, 4, 8, 8, 5, 5, 3, 3, 5, 9, 6, 8, 9, 10, 7, 6, 5, 5, 4, 6, 6, 7, 7, 4, 7, 6, 3, 5, 3, 5, 5, 9, 8, 6, 6, 6, 6, 4, 4, 5, 4, 5, 5, 6, 7, 8, 7, 3, 8, 12, 4, 4, 7, 4, 5, 5, 7, 5, 6, 5, 5, 5, 8, 7, 6, 5, 3, 4, 6, 5, 8, 1, 5, 5, 4, 9, 3, 4, 4, 4, 8, 5, 6, 6, 9, 7, 3, 8, 5, 6, 7, 6, 9, 9, 5, 2, 9, 6, 6, 9, 7, 5, 5, 6, 7, 3, 7, 6, 4, 7, 4, 7, 3, 7, 5, 5, 4, 4, 8, 7, 5, 3, 5, 7, 7, 7, 7, 10, 2, 8, 1, 8, 7, 5, 7, 5, 5, 5, 7, 9, 6, 5, 10, 3, 8, 7, 6, 8, 6, 5, 11, 6, 5, 7, 8, 2, 5, 8, 3, 7, 6, 6, 7, 8, 4, 7, 10, 7, 6, 2, 5, 7, 2, 7, 7, 6, 4, 7, 6, 6, 6, 8, 7, 7, 10, 10, 7, 4, 6, 9, 8, 4, 3, 9, 9, 9, 4, 7, 6, 5, 4, 5, 8, 6, 5, 5, 4, 7, 6, 4, 6, 5, 4, 4, 7, 6, 6, 6, 10, 7, 4, 13, 7, 4, 6, 5, 5, 4, 5, 1, 8, 7, 6, 9, 6, 11, 5, 5, 4, 5, 4, 7, 6, 4, 6, 4, 4, 6, 5, 3, 8, 3, 6, 5, 6, 5, 4, 6, 7, 7, 7, 7, 8, 8, 5, 6, 3, 6, 3, 8, 3, 10, 5, 8, 6, 4, 11, 7, 5, 5, 6]\n"
     ]
    }
   ],
   "source": [
    "# 1.\n",
    "shakespeare = [len(word) for word in set(gutenberg.words('shakespeare-caesar.txt'))]\n",
    "print(shakespeare)"
   ]
  },
  {
   "cell_type": "code",
   "execution_count": 25,
   "id": "a1ec76cc",
   "metadata": {
    "collapsed": true
   },
   "outputs": [
    {
     "name": "stdout",
     "output_type": "stream",
     "text": [
      "['foie', 'died', 'pier', 'died', 'lies', 'died', 'lie', 'tie', 'tie', 'die', 'tied', 'pie', 'die', 'die', 'die', 'die', 'died', 'died', 'die', 'die', 'die', 'erie', 'view', 'die', 'pier', 'dies', 'die', 'pier', 'pier', 'die', 'pier', 'tied', 'die', 'view', 'tie', 'lie', 'lie'] 37\n"
     ]
    }
   ],
   "source": [
    "chesterton = [word.lower() for word in gutenberg.words('chesterton-thursday.txt') if ('ie' in word) and len(word) <= 4]\n",
    "print(chesterton, len(chesterton))"
   ]
  },
  {
   "cell_type": "code",
   "execution_count": 34,
   "id": "cc29ecd7",
   "metadata": {},
   "outputs": [
    {
     "name": "stdout",
     "output_type": "stream",
     "text": [
      "['c--ch', 'p--ch', 'w--ch', 's----ch', 'a-ch', 'f---ch', 's----ch', 't---ch', 'r-ch', 's----ch', 't--ch', 'p--ch', 'e-ch', 'b--ch', 'l--ch', 's---ch', 'r--ch', 'c--ch', 'e-ch', 's---ch', 'p--ch', 'f--ch', 's----ch', 't--ch', 'b--ch', 'c---ch', 'b--ch', 't--ch', 'm-ch', 'w--ch', 's-ch', 's-ch', 'b---ch', 'p--ch', 'p--ch']\n"
     ]
    }
   ],
   "source": [
    "bryant = [word.lower().replace(word[1:-2], '-' * len(word[1:-2])) for word in set(gutenberg.words('bryant-stories.txt')) if word.endswith('ch')]\n",
    "print(bryant)"
   ]
  },
  {
   "cell_type": "markdown",
   "id": "f41f49b0",
   "metadata": {},
   "source": [
    "### Brown\n",
    "- categories()"
   ]
  },
  {
   "cell_type": "code",
   "execution_count": 4,
   "id": "d76cefbc",
   "metadata": {},
   "outputs": [],
   "source": [
    "brown = nltk.corpus.brown"
   ]
  },
  {
   "cell_type": "code",
   "execution_count": 5,
   "id": "5eab35a4",
   "metadata": {},
   "outputs": [
    {
     "data": {
      "text/plain": [
       "['adventure',\n",
       " 'belles_lettres',\n",
       " 'editorial',\n",
       " 'fiction',\n",
       " 'government',\n",
       " 'hobbies',\n",
       " 'humor',\n",
       " 'learned',\n",
       " 'lore',\n",
       " 'mystery',\n",
       " 'news',\n",
       " 'religion',\n",
       " 'reviews',\n",
       " 'romance',\n",
       " 'science_fiction']"
      ]
     },
     "execution_count": 5,
     "metadata": {},
     "output_type": "execute_result"
    }
   ],
   "source": [
    "brown.categories() # brown에 있는 category 리스트"
   ]
  },
  {
   "cell_type": "code",
   "execution_count": 10,
   "id": "48fca470",
   "metadata": {},
   "outputs": [],
   "source": [
    "fdist = nltk.FreqDist([word.lower() for word in brown.words(categories='adventure')]) # adventure 카테고리에 속한 단어들의 빈도수"
   ]
  },
  {
   "cell_type": "code",
   "execution_count": 11,
   "id": "ed38518e",
   "metadata": {},
   "outputs": [
    {
     "data": {
      "text/plain": [
       "446"
      ]
     },
     "execution_count": 11,
     "metadata": {},
     "output_type": "execute_result"
    }
   ],
   "source": [
    "fdist['you'] # adventure 카테고리에 속한 단어들 중 you의 빈도수"
   ]
  },
  {
   "cell_type": "code",
   "execution_count": 12,
   "id": "2afcfc05",
   "metadata": {},
   "outputs": [
    {
     "name": "stdout",
     "output_type": "stream",
     "text": [
      "can 48\n",
      "could 154\n",
      "will 51\n",
      "would 194\n",
      "may 7\n",
      "might 59\n"
     ]
    }
   ],
   "source": [
    "# modal verbs 조동사\n",
    "modals = ['can', 'could' ,'will', 'would', 'may', 'might']\n",
    "\n",
    "for verb in modals:\n",
    "    print(verb, fdist[verb]) # adventure 카테고리에 속한 조동사 빈도수"
   ]
  },
  {
   "cell_type": "markdown",
   "id": "a2dd74ce",
   "metadata": {},
   "source": [
    "### conditional frequency distribution\n",
    "- 조건에 따른 fdist"
   ]
  },
  {
   "cell_type": "code",
   "execution_count": 15,
   "id": "44873818",
   "metadata": {},
   "outputs": [],
   "source": [
    "cfd = nltk.ConditionalFreqDist(\n",
    "    # 각 장르에 따른 frequency distribution을 만든다.\n",
    "    (genre, word.lower())\n",
    "    for genre in brown.categories() # genre 는 brown의 categories\n",
    "    for word in brown.words(categories=genre) # word 는 genre(categories) 내에 속하는 단어들\n",
    ")"
   ]
  },
  {
   "cell_type": "code",
   "execution_count": 16,
   "id": "275cddd0",
   "metadata": {},
   "outputs": [
    {
     "data": {
      "text/plain": [
       "36"
      ]
     },
     "execution_count": 16,
     "metadata": {},
     "output_type": "execute_result"
    }
   ],
   "source": [
    "cfd['romance']['love'] # romance라는 카테고리에 속한 love라는 단어 빈도수"
   ]
  },
  {
   "cell_type": "code",
   "execution_count": null,
   "id": "4b4483ef",
   "metadata": {},
   "outputs": [],
   "source": []
  }
 ],
 "metadata": {
  "kernelspec": {
   "display_name": "Python 3 (ipykernel)",
   "language": "python",
   "name": "python3"
  },
  "language_info": {
   "codemirror_mode": {
    "name": "ipython",
    "version": 3
   },
   "file_extension": ".py",
   "mimetype": "text/x-python",
   "name": "python",
   "nbconvert_exporter": "python",
   "pygments_lexer": "ipython3",
   "version": "3.9.7"
  }
 },
 "nbformat": 4,
 "nbformat_minor": 5
}
