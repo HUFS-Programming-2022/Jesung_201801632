{
 "cells": [
  {
   "cell_type": "markdown",
   "id": "fea22f5c",
   "metadata": {},
   "source": [
    "# 🔔Week06"
   ]
  },
  {
   "cell_type": "markdown",
   "id": "65ffe34a",
   "metadata": {},
   "source": [
    "## NLTK Brown"
   ]
  },
  {
   "cell_type": "code",
   "execution_count": 1,
   "id": "838dd1fc",
   "metadata": {},
   "outputs": [
    {
     "name": "stderr",
     "output_type": "stream",
     "text": [
      "[nltk_data] Downloading package brown to inaugural...\n",
      "[nltk_data]   Package brown is already up-to-date!\n"
     ]
    },
    {
     "data": {
      "text/plain": [
       "True"
      ]
     },
     "execution_count": 1,
     "metadata": {},
     "output_type": "execute_result"
    }
   ],
   "source": [
    "import nltk\n",
    "nltk.download('brown', 'inaugural')"
   ]
  },
  {
   "cell_type": "code",
   "execution_count": 2,
   "id": "70a5edec",
   "metadata": {},
   "outputs": [],
   "source": [
    "brown = nltk.corpus.brown"
   ]
  },
  {
   "cell_type": "code",
   "execution_count": 3,
   "id": "a40a8345",
   "metadata": {},
   "outputs": [
    {
     "name": "stdout",
     "output_type": "stream",
     "text": [
      "                  can could  will would   may might \n",
      "      adventure    48   154    51   194     7    59 \n",
      " belles_lettres   249   216   246   397   221   113 \n",
      "      editorial   124    57   235   185    79    39 \n",
      "        fiction    39   168    56   291    10    44 \n",
      "     government   119    38   244   120   179    13 \n",
      "        hobbies   276    59   269    83   143    22 \n",
      "          humor    17    33    13    56     8     8 \n",
      "        learned   367   159   340   321   336   128 \n",
      "           lore   170   142   178   188   170    50 \n",
      "        mystery    45   145    25   189    15    57 \n",
      "           news    94    87   389   246    93    38 \n",
      "       religion    84    59    72    69    79    12 \n",
      "        reviews    45    40    61    48    47    26 \n",
      "        romance    79   195    49   247    11    51 \n",
      "science_fiction    16    49    17    80     4    12 \n"
     ]
    }
   ],
   "source": [
    "cfd = nltk.ConditionalFreqDist(\n",
    "    (genre, word.lower())\n",
    "    for genre in brown.categories() # genre 는 brown의 categories\n",
    "    for word in brown.words(categories=genre) # word 는 genre(categories) 내에 속하는 단어들\n",
    ")\n",
    "\n",
    "modals = ['can', 'could', 'will', 'would', 'may', 'might']\n",
    "\n",
    "cfd.tabulate(conditions=brown.categories(), samples=modals)\n",
    "# tabulate를 통해 표로 나타낼 수 있음\n",
    "# conditions는 brown의 모든 categories, samples는 조동사 리스트"
   ]
  },
  {
   "cell_type": "code",
   "execution_count": 3,
   "id": "e4342f83",
   "metadata": {},
   "outputs": [
    {
     "name": "stdout",
     "output_type": "stream",
     "text": [
      "                  can could   may might  will would \n",
      "      adventure    48   154     7    59    51   194 \n",
      " belles_lettres   249   216   221   113   246   397 \n",
      "      editorial   124    57    79    39   235   185 \n",
      "        fiction    39   168    10    44    56   291 \n",
      "     government   119    38   179    13   244   120 \n",
      "        hobbies   276    59   143    22   269    83 \n",
      "          humor    17    33     8     8    13    56 \n",
      "        learned   367   159   336   128   340   321 \n",
      "           lore   170   142   170    50   178   188 \n",
      "        mystery    45   145    15    57    25   189 \n",
      "           news    94    87    93    38   389   246 \n",
      "       religion    84    59    79    12    72    69 \n",
      "        reviews    45    40    47    26    61    48 \n",
      "        romance    79   195    11    51    49   247 \n",
      "science_fiction    16    49     4    12    17    80 \n"
     ]
    }
   ],
   "source": [
    "# modal 리스트를 cfd 안에\n",
    "\n",
    "cfd1 = nltk.ConditionalFreqDist(\n",
    "    (genre, modal)\n",
    "    for genre in brown.categories()\n",
    "    for modal in ['can', 'could', 'will', 'would', 'may', 'might']\n",
    "    \n",
    "    for word in brown.words(categories=genre)\n",
    "        if word.lower() == modal\n",
    ")\n",
    "\n",
    "cfd1.tabulate()"
   ]
  },
  {
   "cell_type": "markdown",
   "id": "793862a7",
   "metadata": {},
   "source": [
    "## NLTK Inaugural\n",
    "- 연설문 코퍼스"
   ]
  },
  {
   "cell_type": "code",
   "execution_count": 4,
   "id": "7b7c07de",
   "metadata": {},
   "outputs": [],
   "source": [
    "inaugural = nltk.corpus.inaugural"
   ]
  },
  {
   "cell_type": "code",
   "execution_count": 6,
   "id": "677b7240",
   "metadata": {
    "collapsed": true
   },
   "outputs": [
    {
     "data": {
      "text/plain": [
       "['1789-Washington.txt',\n",
       " '1793-Washington.txt',\n",
       " '1797-Adams.txt',\n",
       " '1801-Jefferson.txt',\n",
       " '1805-Jefferson.txt',\n",
       " '1809-Madison.txt',\n",
       " '1813-Madison.txt',\n",
       " '1817-Monroe.txt',\n",
       " '1821-Monroe.txt',\n",
       " '1825-Adams.txt',\n",
       " '1829-Jackson.txt',\n",
       " '1833-Jackson.txt',\n",
       " '1837-VanBuren.txt',\n",
       " '1841-Harrison.txt',\n",
       " '1845-Polk.txt',\n",
       " '1849-Taylor.txt',\n",
       " '1853-Pierce.txt',\n",
       " '1857-Buchanan.txt',\n",
       " '1861-Lincoln.txt',\n",
       " '1865-Lincoln.txt',\n",
       " '1869-Grant.txt',\n",
       " '1873-Grant.txt',\n",
       " '1877-Hayes.txt',\n",
       " '1881-Garfield.txt',\n",
       " '1885-Cleveland.txt',\n",
       " '1889-Harrison.txt',\n",
       " '1893-Cleveland.txt',\n",
       " '1897-McKinley.txt',\n",
       " '1901-McKinley.txt',\n",
       " '1905-Roosevelt.txt',\n",
       " '1909-Taft.txt',\n",
       " '1913-Wilson.txt',\n",
       " '1917-Wilson.txt',\n",
       " '1921-Harding.txt',\n",
       " '1925-Coolidge.txt',\n",
       " '1929-Hoover.txt',\n",
       " '1933-Roosevelt.txt',\n",
       " '1937-Roosevelt.txt',\n",
       " '1941-Roosevelt.txt',\n",
       " '1945-Roosevelt.txt',\n",
       " '1949-Truman.txt',\n",
       " '1953-Eisenhower.txt',\n",
       " '1957-Eisenhower.txt',\n",
       " '1961-Kennedy.txt',\n",
       " '1965-Johnson.txt',\n",
       " '1969-Nixon.txt',\n",
       " '1973-Nixon.txt',\n",
       " '1977-Carter.txt',\n",
       " '1981-Reagan.txt',\n",
       " '1985-Reagan.txt',\n",
       " '1989-Bush.txt',\n",
       " '1993-Clinton.txt',\n",
       " '1997-Clinton.txt',\n",
       " '2001-Bush.txt',\n",
       " '2005-Bush.txt',\n",
       " '2009-Obama.txt',\n",
       " '2013-Obama.txt',\n",
       " '2017-Trump.txt',\n",
       " '2021-Biden.txt']"
      ]
     },
     "execution_count": 6,
     "metadata": {},
     "output_type": "execute_result"
    }
   ],
   "source": [
    "inaugural.fileids() # '연도-이름.txt' | '2021-Biden.txt'"
   ]
  },
  {
   "cell_type": "code",
   "execution_count": 7,
   "id": "1bb84d0b",
   "metadata": {},
   "outputs": [
    {
     "name": "stdout",
     "output_type": "stream",
     "text": [
      "        1789-Washington 1793-Washington      1797-Adams  1801-Jefferson  1805-Jefferson    1809-Madison    1813-Madison     1817-Monroe     1821-Monroe      1825-Adams    1829-Jackson    1833-Jackson   1837-VanBuren   1841-Harrison       1845-Polk     1849-Taylor     1853-Pierce   1857-Buchanan    1861-Lincoln    1865-Lincoln      1869-Grant      1873-Grant      1877-Hayes   1881-Garfield  1885-Cleveland   1889-Harrison  1893-Cleveland   1897-McKinley   1901-McKinley  1905-Roosevelt       1909-Taft     1917-Wilson    1921-Harding   1925-Coolidge     1929-Hoover  1933-Roosevelt  1937-Roosevelt  1941-Roosevelt  1945-Roosevelt     1949-Truman 1953-Eisenhower 1957-Eisenhower    1961-Kennedy    1965-Johnson      1969-Nixon      1973-Nixon     1977-Carter     1981-Reagan     1985-Reagan       1989-Bush    1993-Clinton    1997-Clinton       2001-Bush       2005-Bush      2009-Obama      2013-Obama      2017-Trump      2021-Biden \n",
      "america               2               1               8               0               1               0               1               1               2               0               0               2               2               7               0               2               2               3               2               1               0               0               1               2               4               6               9               9               7               0              12               4              24              11              12               2               5              12               2               4               6               7               7              10              10              23               5              16              21              11              33              31              20              30              15              19              35              40 \n",
      "citizen               5               1               6               7              10               1               4              14              15               3               2               3               7              38              11               2               4               7               7               0               5               3               9               9              13              12              10              10               2               1               6               3               6               5              12               1               2               1               1               1               7               0               5               4               1               1               0               3               6               3               2              10              11               7               2               8               4               1 \n"
     ]
    }
   ],
   "source": [
    "# ['america', 'citizen']의 빈도수를 cfd로 만들기\n",
    "\n",
    "cfd2 = nltk.ConditionalFreqDist(\n",
    "    (target_word, fileid[:-4]) # .txt 제외\n",
    "    # for genre in brown.categories()\n",
    "    for fileid in inaugural.fileids()\n",
    "    # for modal in ['can', 'could', 'would', 'will', 'might', 'may']\n",
    "    for target_word in ['america', 'citizen'] # 소문자인 이유\n",
    "    \n",
    "    for word in inaugural.words(fileids=fileid)\n",
    "        # if word.lower() == target_word\n",
    "        # if target_word in word.lower()\n",
    "        if word.lower().startswith(target_word)\n",
    ")\n",
    "\n",
    "cfd2.tabulate() # fileid 개수가 많아서 tabulate 보다는 plot이 바람직함"
   ]
  },
  {
   "cell_type": "code",
   "execution_count": 9,
   "id": "6e1764f5",
   "metadata": {},
   "outputs": [
    {
     "data": {
      "image/png": "[encoded data removed]",
      "text/plain": [
       "<Figure size 1008x360 with 1 Axes>"
      ]
     },
     "metadata": {
      "needs_background": "light"
     },
     "output_type": "display_data"
    },
    {
     "data": {
      "text/plain": [
       "<AxesSubplot:xlabel='Samples', ylabel='Counts'>"
      ]
     },
     "execution_count": 9,
     "metadata": {},
     "output_type": "execute_result"
    }
   ],
   "source": [
    "# !pip install matplotlib\n",
    "\n",
    "import matplotlib.pyplot as plt\n",
    "plt.figure(figsize=(14, 5)) # 이미지 크기 조정\n",
    "\n",
    "cfd2.plot()"
   ]
  },
  {
   "cell_type": "code",
   "execution_count": 11,
   "id": "6bf9b404",
   "metadata": {},
   "outputs": [
    {
     "data": {
      "image/png": "[encoded data removed]",
      "text/plain": [
       "<Figure size 720x360 with 1 Axes>"
      ]
     },
     "metadata": {
      "needs_background": "light"
     },
     "output_type": "display_data"
    },
    {
     "data": {
      "text/plain": [
       "<AxesSubplot:xlabel='Samples', ylabel='Counts'>"
      ]
     },
     "execution_count": 11,
     "metadata": {},
     "output_type": "execute_result"
    }
   ],
   "source": [
    "plt.figure(figsize=(10, 5))\n",
    "cfd1.plot()"
   ]
  },
  {
   "cell_type": "markdown",
   "id": "d41e9ccb",
   "metadata": {},
   "source": [
    "## Tuple & List\n",
    "\n",
    "- Tuple(불변 객체) 장점\n",
    "    - 변하지 않는 데이터 시퀸스를 만들 수 있음.\n",
    "    - 타인의 접근 막음.\n",
    "    - 메모리 사용이 적음.\n",
    "    - 중복 데이터를 사용할 수 있음.\n",
    "- list(가변 객체) 장점\n",
    "    - tuple의 장점이 필요없을 시 list를 사용.\n",
    "    - 데이터를 순차적으로 파악할 때 유용.\n",
    "    - set와 다르게 중복 데이터를 사용할 수 있음."
   ]
  },
  {
   "cell_type": "code",
   "execution_count": 14,
   "id": "04dc6c85",
   "metadata": {},
   "outputs": [
    {
     "data": {
      "text/plain": [
       "((), [])"
      ]
     },
     "execution_count": 14,
     "metadata": {},
     "output_type": "execute_result"
    }
   ],
   "source": [
    "# 튜플과 리스트 생성\n",
    "emptyT = ()\n",
    "emptyT = tuple()\n",
    "\n",
    "emptyL = []\n",
    "emptyL = list()\n",
    "emptyT, emptyL"
   ]
  },
  {
   "cell_type": "code",
   "execution_count": 15,
   "id": "378740c1",
   "metadata": {},
   "outputs": [
    {
     "name": "stdout",
     "output_type": "stream",
     "text": [
      "('a', 'b', 'c')\n",
      "['a', 'b', 'c']\n"
     ]
    }
   ],
   "source": [
    "# 요소가 여러 개인 경우\n",
    "\n",
    "# alphabetT = ('a', 'b', 'c')\n",
    "alphabetT = 'a', 'b', 'c' # 괄호 없이 생성 가능\n",
    "alphabetL = ['a', 'b', 'c']\n",
    "\n",
    "print(alphabetT)\n",
    "print(alphabetL)"
   ]
  },
  {
   "cell_type": "code",
   "execution_count": 16,
   "id": "f0be5ed2",
   "metadata": {},
   "outputs": [
    {
     "name": "stdout",
     "output_type": "stream",
     "text": [
      "<class 'str'>\n",
      "<class 'tuple'>\n"
     ]
    }
   ],
   "source": [
    "# 요소가 한 개인 경우\n",
    "\n",
    "alphaT1 = ('a') # str로 인식\n",
    "alphaT2 = ('b', )\n",
    "\n",
    "print(type(alphaT1))\n",
    "print(type(alphaT2))"
   ]
  },
  {
   "cell_type": "markdown",
   "id": "780be602",
   "metadata": {},
   "source": [
    "- packing: 하나의 변수에 여러 데이터를 할당하는 것\n",
    "    - tuple, list 자체. \n",
    "    - a= [1, 2, 3, 4]\n",
    "- unpacking: 하나의 변수에 여러 데이터가 들어가 있을 때, 여러 변수에 나눠주는 것\n",
    "    - a = 'y', b = 'o', c = 'u' "
   ]
  },
  {
   "cell_type": "code",
   "execution_count": 18,
   "id": "7e6310b8",
   "metadata": {},
   "outputs": [
    {
     "data": {
      "text/plain": [
       "('y', 'o', 'u')"
      ]
     },
     "execution_count": 18,
     "metadata": {},
     "output_type": "execute_result"
    }
   ],
   "source": [
    "# unpacking\n",
    "a, b, c = 'you'\n",
    "a, b, c # a = 'y', b = 'o', c = 'u'"
   ]
  },
  {
   "cell_type": "code",
   "execution_count": 20,
   "id": "96646789",
   "metadata": {},
   "outputs": [
    {
     "data": {
      "text/plain": [
       "('blue', 'april')"
      ]
     },
     "execution_count": 20,
     "metadata": {},
     "output_type": "execute_result"
    }
   ],
   "source": [
    "# 값 교환하기\n",
    "pwd = 'april'\n",
    "userid = 'blue'\n",
    "\n",
    "pwd, userid = userid, pwd\n",
    "pwd, userid"
   ]
  },
  {
   "cell_type": "code",
   "execution_count": 21,
   "id": "15a0dd05",
   "metadata": {},
   "outputs": [
    {
     "name": "stdout",
     "output_type": "stream",
     "text": [
      "('a', 1, 2)\n",
      "(1, 2, 3, 1, 2, 3)\n"
     ]
    }
   ],
   "source": [
    "# 튜플 연산\n",
    "cal1 = ('a',) + (1, 2)\n",
    "cal2 = (1, 2, 3) * 2\n",
    "\n",
    "print(cal1)\n",
    "print(cal2)"
   ]
  },
  {
   "cell_type": "code",
   "execution_count": 23,
   "id": "307581de",
   "metadata": {},
   "outputs": [
    {
     "data": {
      "text/plain": [
       "(2497583597696, 2497581697840)"
      ]
     },
     "execution_count": 23,
     "metadata": {},
     "output_type": "execute_result"
    }
   ],
   "source": [
    "x = ('a',)\n",
    "y = (1, 2, 3)\n",
    "id(x), id(x + y) # x, y 값 자체는 변환 X"
   ]
  },
  {
   "cell_type": "code",
   "execution_count": 24,
   "id": "de3f7e0c",
   "metadata": {},
   "outputs": [
    {
     "data": {
      "text/plain": [
       "True"
      ]
     },
     "execution_count": 24,
     "metadata": {},
     "output_type": "execute_result"
    }
   ],
   "source": [
    "# 튜플 비교\n",
    "x = 1, 3\n",
    "y = 1, 4\n",
    "\n",
    "x < y"
   ]
  },
  {
   "cell_type": "code",
   "execution_count": 25,
   "id": "e97ddfb7",
   "metadata": {},
   "outputs": [
    {
     "name": "stdout",
     "output_type": "stream",
     "text": [
      "(1, 4)\n",
      "(1, 4)\n"
     ]
    }
   ],
   "source": [
    "# 튜플 순회\n",
    "for i in y:\n",
    "    print(y)"
   ]
  },
  {
   "cell_type": "code",
   "execution_count": 27,
   "id": "e5364556",
   "metadata": {},
   "outputs": [
    {
     "data": {
      "text/plain": [
       "[1, 4]"
      ]
     },
     "execution_count": 27,
     "metadata": {},
     "output_type": "execute_result"
    }
   ],
   "source": [
    "# list comprehension, but 결과물은 리스트로 출력\n",
    "[i for i in y]"
   ]
  },
  {
   "cell_type": "code",
   "execution_count": 28,
   "id": "f321e7cb",
   "metadata": {},
   "outputs": [
    {
     "data": {
      "text/plain": [
       "(1, 4)"
      ]
     },
     "execution_count": 28,
     "metadata": {},
     "output_type": "execute_result"
    }
   ],
   "source": [
    "# tuple comprehension은 존재 X, 형변환은 가능\n",
    "tuple([i for i in y])"
   ]
  },
  {
   "cell_type": "code",
   "execution_count": 31,
   "id": "20623482",
   "metadata": {},
   "outputs": [
    {
     "data": {
      "text/plain": [
       "(1, 4)"
      ]
     },
     "execution_count": 31,
     "metadata": {},
     "output_type": "execute_result"
    }
   ],
   "source": [
    "# 느리기 때문에 거의 사용 X, 정말 tuple을 써야하는 상황이 아닐 시 list가 유용\n",
    "*[i for i in y],"
   ]
  },
  {
   "cell_type": "code",
   "execution_count": 34,
   "id": "735359a4",
   "metadata": {},
   "outputs": [
    {
     "name": "stdout",
     "output_type": "stream",
     "text": [
      "('d', 'o', 'g')\n",
      "('dog',)\n",
      "['d', 'o', 'g']\n",
      "['dog']\n"
     ]
    }
   ],
   "source": [
    "animal = 'dog'\n",
    "\n",
    "# 튜플로 변환\n",
    "print(tuple(animal))\n",
    "print((animal, ))\n",
    "\n",
    "# 리스트로 변환\n",
    "print(list(animal))\n",
    "print([animal])"
   ]
  },
  {
   "cell_type": "code",
   "execution_count": 35,
   "id": "ac7e8825",
   "metadata": {},
   "outputs": [
    {
     "data": {
      "text/plain": [
       "'o'"
      ]
     },
     "execution_count": 35,
     "metadata": {},
     "output_type": "execute_result"
    }
   ],
   "source": [
    "# list와 마찬가지로 slicing 가능\n",
    "animalT = tuple(animal)\n",
    "animalT[1]"
   ]
  },
  {
   "cell_type": "markdown",
   "id": "bb4bd41c",
   "metadata": {},
   "source": [
    "### list의 유용한 함수\n",
    "- 변경, 삭제, 추가 함수\n",
    "- list comprehension 업그레이드"
   ]
  },
  {
   "cell_type": "code",
   "execution_count": 44,
   "id": "65b5e4d9",
   "metadata": {},
   "outputs": [
    {
     "data": {
      "text/plain": [
       "[0, 1, 2, 3, 4]"
      ]
     },
     "execution_count": 44,
     "metadata": {},
     "output_type": "execute_result"
    }
   ],
   "source": [
    "num = list(range(5))\n",
    "num"
   ]
  },
  {
   "cell_type": "code",
   "execution_count": 45,
   "id": "cfb815d9",
   "metadata": {},
   "outputs": [
    {
     "name": "stdout",
     "output_type": "stream",
     "text": [
      "[0, 1, 2, 3, 4, 5]\n",
      "[0, 1, 2, 3, 4, 5, [6, 6]]\n"
     ]
    }
   ],
   "source": [
    "# append(): 맨 뒤에 요소 하나 추가, 여러 개 추가 불가능\n",
    "num.append(5)\n",
    "print(num)\n",
    "\n",
    "# append(list)를 할 경우 list 추가 가능\n",
    "num.append([6, 6])\n",
    "print(num)"
   ]
  },
  {
   "cell_type": "code",
   "execution_count": 46,
   "id": "90dc2f64",
   "metadata": {},
   "outputs": [
    {
     "name": "stdout",
     "output_type": "stream",
     "text": [
      "[7, 0, 1, 2, 3, 4, 5, [6, 6]]\n"
     ]
    }
   ],
   "source": [
    "# insert(index, value): 지정한 인덱스에 지정한 값 추가\n",
    "num.insert(0, 7)\n",
    "print(num)"
   ]
  },
  {
   "cell_type": "code",
   "execution_count": 47,
   "id": "dea6a3d2",
   "metadata": {},
   "outputs": [
    {
     "name": "stdout",
     "output_type": "stream",
     "text": [
      "[7, 0, 1, 2, 3, 4, 5, [6, 6], 8, 8]\n",
      "[7, 0, 1, 2, 3, 4, 5, [6, 6], 8, 8, 8, 8]\n"
     ]
    }
   ],
   "source": [
    "# extend(list): 맨 뒤에 요소 추가, 인자는 list여야 하고, 여러 개 추가 가능\n",
    "x = [8, 8]\n",
    "num.extend(x)\n",
    "print(num)\n",
    "\n",
    "# extend는 + 와 같은 기능을 함\n",
    "num += x\n",
    "print(num)"
   ]
  },
  {
   "cell_type": "code",
   "execution_count": 48,
   "id": "e2363dd2",
   "metadata": {},
   "outputs": [
    {
     "name": "stdout",
     "output_type": "stream",
     "text": [
      "[7, 9, 1, 2, 3, 4, 5, [6, 6], 8, 8, 8, 8]\n"
     ]
    }
   ],
   "source": [
    "# offset 수정 가능\n",
    "num[1] = 9\n",
    "print(num)"
   ]
  },
  {
   "cell_type": "code",
   "execution_count": 49,
   "id": "96925682",
   "metadata": {},
   "outputs": [
    {
     "name": "stdout",
     "output_type": "stream",
     "text": [
      "[0, 0, 1, 2, 3, 4, 5, [6, 6], 8, 8, 8, 8]\n"
     ]
    }
   ],
   "source": [
    "# slicing 가능\n",
    "num[:2] = 0, 0\n",
    "print(num)"
   ]
  },
  {
   "cell_type": "code",
   "execution_count": 50,
   "id": "be77c277",
   "metadata": {},
   "outputs": [
    {
     "name": "stdout",
     "output_type": "stream",
     "text": [
      "['d', 'o', 'g', 2, 3, 4, 5, [6, 6], 8, 8, 8, 8]\n"
     ]
    }
   ],
   "source": [
    "# 문자열은 한 문자 씩 요소에 나눠져서 들어감\n",
    "num[:3] = 'dog'\n",
    "print(num)"
   ]
  },
  {
   "cell_type": "code",
   "execution_count": 51,
   "id": "9c4ed073",
   "metadata": {},
   "outputs": [
    {
     "name": "stdout",
     "output_type": "stream",
     "text": [
      "[2, 3, 4, 5, [6, 6], 8, 8, 8, 8]\n"
     ]
    }
   ],
   "source": [
    "# del list[]: 구간 인덱스를 지정하여 삭제 가능\n",
    "del num[:3]\n",
    "print(num)"
   ]
  },
  {
   "cell_type": "code",
   "execution_count": 52,
   "id": "e4d125ce",
   "metadata": {},
   "outputs": [
    {
     "data": {
      "text/plain": [
       "[2, 3, 4, 5, [6, 6], 8, 8, 8]"
      ]
     },
     "execution_count": 52,
     "metadata": {},
     "output_type": "execute_result"
    }
   ],
   "source": [
    "# remove(value): 값을 지정하여 삭제 가능\n",
    "num.remove(8) # 중복된 값일 경우 가장 먼저 나오는 값 삭제\n",
    "num"
   ]
  },
  {
   "cell_type": "code",
   "execution_count": 53,
   "id": "8801bc7f",
   "metadata": {},
   "outputs": [
    {
     "data": {
      "text/plain": [
       "[2, 3, 4, 5, [6, 6], 8, 8]"
      ]
     },
     "execution_count": 53,
     "metadata": {},
     "output_type": "execute_result"
    }
   ],
   "source": [
    "# pop(index): index를 지정하여 삭제 가능. default는 -1 즉 맨 마지막 값 삭제\n",
    "num.pop()\n",
    "num"
   ]
  },
  {
   "cell_type": "code",
   "execution_count": 54,
   "id": "5d865b20",
   "metadata": {},
   "outputs": [
    {
     "data": {
      "text/plain": [
       "[]"
      ]
     },
     "execution_count": 54,
     "metadata": {},
     "output_type": "execute_result"
    }
   ],
   "source": [
    "# clear(): 모든 요소 삭제\n",
    "num.clear()\n",
    "num"
   ]
  },
  {
   "cell_type": "code",
   "execution_count": 55,
   "id": "30430fcf",
   "metadata": {},
   "outputs": [
    {
     "data": {
      "text/plain": [
       "4"
      ]
     },
     "execution_count": 55,
     "metadata": {},
     "output_type": "execute_result"
    }
   ],
   "source": [
    "# 인덱스 값 찾기\n",
    "num = list(range(5))\n",
    "num.index(4)"
   ]
  },
  {
   "cell_type": "code",
   "execution_count": 57,
   "id": "689485e2",
   "metadata": {},
   "outputs": [
    {
     "name": "stdout",
     "output_type": "stream",
     "text": [
      "True\n",
      "False\n"
     ]
    }
   ],
   "source": [
    "# 리스트 안에 값이 존재하는지 파악\n",
    "print(1 in num)\n",
    "print(10 in num)"
   ]
  },
  {
   "cell_type": "code",
   "execution_count": 61,
   "id": "e3f3f382",
   "metadata": {},
   "outputs": [
    {
     "name": "stdout",
     "output_type": "stream",
     "text": [
      "[0, 1, 2, 3, 4]\n",
      "[4, 3, 2, 1, 0]\n",
      "[4, 3, 2, 1, 0]\n"
     ]
    }
   ],
   "source": [
    "# sorted(list): 리스트 복사하여 정렬한 후 출력하기\n",
    "print(sorted(num)) # 오름차순\n",
    "\n",
    "print(sorted(num, reverse=True)) # 내림차순\n",
    "\n",
    "print(num) # 기존 리스트 자체는 정렬되지 X "
   ]
  },
  {
   "cell_type": "code",
   "execution_count": 62,
   "id": "ba57dab9",
   "metadata": {},
   "outputs": [
    {
     "name": "stdout",
     "output_type": "stream",
     "text": [
      "[0, 1, 2, 3, 4]\n",
      "[4, 3, 2, 1, 0]\n"
     ]
    }
   ],
   "source": [
    "# 리스트.sort(), 값 할당하지 않아도 됨.\n",
    "num.sort() # 오름차순\n",
    "print(num)\n",
    "\n",
    "num.sort(reverse=True) # 내림차순\n",
    "print(num)"
   ]
  },
  {
   "cell_type": "code",
   "execution_count": 66,
   "id": "8d1ba4d0",
   "metadata": {},
   "outputs": [
    {
     "name": "stdout",
     "output_type": "stream",
     "text": [
      "[4, 3, 2, 1, 0]\n",
      "[0, 1, 2, 3, 4]\n"
     ]
    }
   ],
   "source": [
    "num.reverse() # 값 반환 O\n",
    "print(num)\n",
    "reversed(num) # 값 반환 X\n",
    "print(list(reversed(num)))"
   ]
  },
  {
   "cell_type": "code",
   "execution_count": 75,
   "id": "27719827",
   "metadata": {},
   "outputs": [
    {
     "name": "stdout",
     "output_type": "stream",
     "text": [
      "[1, 2, 3, 4]\n",
      "[5, 2, 3, 4] [5, 2, 3, 4]\n"
     ]
    }
   ],
   "source": [
    "# 할당하기\n",
    "a = list(range(1, 5))\n",
    "print(a)\n",
    "\n",
    "b = a # 메모리주소 참조\n",
    "b[0] = 5\n",
    "print(a, b)"
   ]
  },
  {
   "cell_type": "code",
   "execution_count": 76,
   "id": "e13c7738",
   "metadata": {},
   "outputs": [
    {
     "data": {
      "text/plain": [
       "(2497583842816, 2497583842816)"
      ]
     },
     "execution_count": 76,
     "metadata": {},
     "output_type": "execute_result"
    }
   ],
   "source": [
    "# a 와 b의 메모리주소 일치\n",
    "id(a), id(b)"
   ]
  },
  {
   "cell_type": "code",
   "execution_count": 77,
   "id": "920eed38",
   "metadata": {},
   "outputs": [
    {
     "name": "stdout",
     "output_type": "stream",
     "text": [
      "[5, 2, 3, 4] [5, 2, 3, 4] [5, 2, 3, 4] [5, 2, 3, 4]\n"
     ]
    },
    {
     "data": {
      "text/plain": [
       "(2497583842816, 2497583576896, 2497583750528, 2497583828480)"
      ]
     },
     "execution_count": 77,
     "metadata": {},
     "output_type": "execute_result"
    }
   ],
   "source": [
    "# shallow copy: 참조하지 않고 새로운 객체에 할당하는 방법, 얕은 복사\n",
    "c = a.copy()\n",
    "d = list(a)\n",
    "e = a[:]\n",
    "\n",
    "print(a, c, d, e)\n",
    "id(a), id(c), id(d), id(e) # 메모리주소가 모두 다름"
   ]
  },
  {
   "cell_type": "code",
   "execution_count": 78,
   "id": "8832ff8d",
   "metadata": {},
   "outputs": [
    {
     "name": "stdout",
     "output_type": "stream",
     "text": [
      "[5, 2, 3, 4, [1, 2, 3]] [5, 2, 3, 4, [1, 2, 3]]\n",
      "[5, 2, 3, 4, [9, 2, 3]] [5, 2, 3, 4, [9, 2, 3]]\n"
     ]
    }
   ],
   "source": [
    "a.append([1, 2, 3])\n",
    "f = a.copy()\n",
    "\n",
    "print(a, f)\n",
    "id(a), id(f) # shallow copy를 사용하여 메모리주소가 다름\n",
    "\n",
    "f[-1][0] = 9 \n",
    "print(a, f) # shallow copy여도 리스트 안의 값을 변화시키면서 값이 같이 변할 수 있음"
   ]
  },
  {
   "cell_type": "code",
   "execution_count": 80,
   "id": "5c7a6cdf",
   "metadata": {},
   "outputs": [
    {
     "name": "stdout",
     "output_type": "stream",
     "text": [
      "[5, 2, 3, 4, [9, 2, 3]]\n",
      "[5, 2, 3, 4, [9, 2, 3]] [5, 2, 3, 4, [10, 2, 3]]\n"
     ]
    }
   ],
   "source": [
    "# deepcopy: 깊은 복사, 하위에 중첩되 리스트 요소가 안 바뀌도록 함\n",
    "\n",
    "import copy\n",
    "g = copy.deepcopy(a)\n",
    "print(g)\n",
    "\n",
    "g[-1][0] = 10\n",
    "print(a, g)"
   ]
  },
  {
   "cell_type": "code",
   "execution_count": 81,
   "id": "4a85b273",
   "metadata": {},
   "outputs": [
    {
     "name": "stdout",
     "output_type": "stream",
     "text": [
      "('nike', 107)\n",
      "('addidas', 500)\n",
      "('newbalance', 996)\n"
     ]
    }
   ],
   "source": [
    "# 리스트 순회 1: zip\n",
    "name = ['nike', 'addidas', 'newbalance']\n",
    "number = [107, 500, 996]\n",
    "\n",
    "# (name, number)\n",
    "for item1, item2 in zip(name, number): # 여러 리스트 동시에 순회 가능\n",
    "    print((item1, item2))"
   ]
  },
  {
   "cell_type": "code",
   "execution_count": 83,
   "id": "a50bdeae",
   "metadata": {},
   "outputs": [
    {
     "name": "stdout",
     "output_type": "stream",
     "text": [
      "('nike', 107)\n",
      "('nike', 500)\n",
      "('nike', 996)\n",
      "('addidas', 107)\n",
      "('addidas', 500)\n",
      "('addidas', 996)\n",
      "('newbalance', 107)\n",
      "('newbalance', 500)\n",
      "('newbalance', 996)\n"
     ]
    }
   ],
   "source": [
    "# zip와 중첩 for loop문의 차이\n",
    "for item1 in name:\n",
    "    for item2 in number:\n",
    "        print((item1, item2))"
   ]
  },
  {
   "cell_type": "code",
   "execution_count": 89,
   "id": "a76a9c3d",
   "metadata": {},
   "outputs": [
    {
     "data": {
      "text/plain": [
       "[('nike', 107), ('addidas', 500), ('newbalance', 996)]"
      ]
     },
     "execution_count": 89,
     "metadata": {},
     "output_type": "execute_result"
    }
   ],
   "source": [
    "list(zip(name, number))\n",
    "\n",
    "# 리스트 컴프리핸션으로 나타내기\n",
    "[(i, j) for i, j in zip(name, number)]"
   ]
  },
  {
   "cell_type": "code",
   "execution_count": 86,
   "id": "bd1f39aa",
   "metadata": {},
   "outputs": [
    {
     "name": "stdout",
     "output_type": "stream",
     "text": [
      "0 nike\n",
      "1 addidas\n",
      "2 newbalance\n"
     ]
    }
   ],
   "source": [
    "# 리스트 순회 2: enumerate\n",
    "# 요소값의 인덱스까지 표현 가능\n",
    "for idx, item in enumerate(name):\n",
    "    print(idx, item)"
   ]
  },
  {
   "cell_type": "code",
   "execution_count": 91,
   "id": "22235af9",
   "metadata": {},
   "outputs": [
    {
     "name": "stdout",
     "output_type": "stream",
     "text": [
      "[('nike', 107), ('addidas', 500), ('newbalance', 996)]\n"
     ]
    }
   ],
   "source": [
    "# name, number를 이용해서 새로운 리스트 생성 (이름, 넘버)\n",
    "new_list = []\n",
    "for i, j in zip(name, number):\n",
    "    new_list.append((i, j)) #append 사용\n",
    "print(new_list)"
   ]
  },
  {
   "cell_type": "code",
   "execution_count": 93,
   "id": "bfab7da4",
   "metadata": {
    "collapsed": true
   },
   "outputs": [
    {
     "name": "stdout",
     "output_type": "stream",
     "text": [
      "('nike', 107)\n",
      "('nike', 500)\n",
      "('nike', 996)\n",
      "('addidas', 107)\n",
      "('addidas', 500)\n",
      "('addidas', 996)\n",
      "('newbalance', 107)\n",
      "('newbalance', 500)\n",
      "('newbalance', 996)\n"
     ]
    }
   ],
   "source": [
    "#1. for문 -> list comprehension\n",
    "for i in name:\n",
    "    for j in number:\n",
    "        print((i, j))"
   ]
  },
  {
   "cell_type": "code",
   "execution_count": 94,
   "id": "c902e04e",
   "metadata": {
    "collapsed": true
   },
   "outputs": [
    {
     "data": {
      "text/plain": [
       "[('nike', 107),\n",
       " ('nike', 500),\n",
       " ('nike', 996),\n",
       " ('addidas', 107),\n",
       " ('addidas', 500),\n",
       " ('addidas', 996),\n",
       " ('newbalance', 107),\n",
       " ('newbalance', 500),\n",
       " ('newbalance', 996)]"
      ]
     },
     "execution_count": 94,
     "metadata": {},
     "output_type": "execute_result"
    }
   ],
   "source": [
    "[(i, j) for i in name for j in number]"
   ]
  },
  {
   "cell_type": "code",
   "execution_count": 98,
   "id": "31927d21",
   "metadata": {},
   "outputs": [
    {
     "data": {
      "text/plain": [
       "[[('nike', 107), ('nike', 500), ('nike', 996)],\n",
       " [('addidas', 107), ('addidas', 500), ('addidas', 996)],\n",
       " [('newbalance', 107), ('newbalance', 500), ('newbalance', 996)]]"
      ]
     },
     "execution_count": 98,
     "metadata": {},
     "output_type": "execute_result"
    }
   ],
   "source": [
    "#2. [name, number]가 들어있는 리스트 list comprehension으로 생성하기\n",
    "[[(i, j) for j in number] for i in name]"
   ]
  },
  {
   "cell_type": "code",
   "execution_count": 100,
   "id": "235b96c9",
   "metadata": {},
   "outputs": [
    {
     "data": {
      "text/plain": [
       "[('DO', 'Do', 2),\n",
       " ('NOT', 'Not', 3),\n",
       " ('JUDGE', 'Judge', 5),\n",
       " ('A', 'A', 1),\n",
       " ('BOOK', 'Book', 4),\n",
       " ('BY', 'By', 2),\n",
       " ('ITS', 'Its', 3),\n",
       " ('COVER', 'Cover', 5)]"
      ]
     },
     "execution_count": 100,
     "metadata": {},
     "output_type": "execute_result"
    }
   ],
   "source": [
    "#3. [(대문자, 첫글자대문자, 글자수), ... ] 리스트 만들기\n",
    "sentence = \"do not judge a book by its cover\"\n",
    "\n",
    "[(word.upper(), word.title(), len(word)) for word in sentence.split()]"
   ]
  },
  {
   "cell_type": "code",
   "execution_count": 101,
   "id": "f83ca168",
   "metadata": {},
   "outputs": [],
   "source": [
    "#4. \n",
    "text = [\n",
    "    ['Sunja', 'said', 'goodnight', 'to', 'her', 'mother'],\n",
    "    ['Hansu', 'was', 'no', 'longer', 'in', 'Buan']\n",
    "]\n",
    "\n",
    "#4-1. 문장마다 스트링으로 변환해서 리스트로 변환\n",
    "    # ['문장1', '문장2']\n",
    "    \n",
    "#4-2. 전체를 스트링으로 변환\n",
    "    # '문장1 문장2'\n",
    "\n",
    "#4-3. 전체 단어 리스트 가져오기\n",
    "    # [sunja, said, goodnight, ...]"
   ]
  },
  {
   "cell_type": "code",
   "execution_count": 102,
   "id": "0ed7a44d",
   "metadata": {},
   "outputs": [
    {
     "data": {
      "text/plain": [
       "['Sunja said goodnight to her mother', 'Hansu was no longer in Buan']"
      ]
     },
     "execution_count": 102,
     "metadata": {},
     "output_type": "execute_result"
    }
   ],
   "source": [
    "#4-1.\n",
    "[' '.join(sent) for sent in text]"
   ]
  },
  {
   "cell_type": "code",
   "execution_count": 104,
   "id": "5e0023ed",
   "metadata": {},
   "outputs": [
    {
     "data": {
      "text/plain": [
       "'Sunja said goodnight to her mother Hansu was no longer in Buan'"
      ]
     },
     "execution_count": 104,
     "metadata": {},
     "output_type": "execute_result"
    }
   ],
   "source": [
    "#4-2.\n",
    "' '.join([' '.join(sent) for sent in text])"
   ]
  },
  {
   "cell_type": "code",
   "execution_count": 105,
   "id": "670d7d89",
   "metadata": {},
   "outputs": [
    {
     "data": {
      "text/plain": [
       "['Sunja',\n",
       " 'said',\n",
       " 'goodnight',\n",
       " 'to',\n",
       " 'her',\n",
       " 'mother',\n",
       " 'Hansu',\n",
       " 'was',\n",
       " 'no',\n",
       " 'longer',\n",
       " 'in',\n",
       " 'Buan']"
      ]
     },
     "execution_count": 105,
     "metadata": {},
     "output_type": "execute_result"
    }
   ],
   "source": [
    "#4-3.\n",
    "[word for sent in text for word in sent]"
   ]
  },
  {
   "cell_type": "markdown",
   "id": "6181b8ff",
   "metadata": {},
   "source": [
    "## List Comprehension 조건문\n",
    "- if문 - else\n",
    "- else 사용할 경우 조건문을 반복문 앞에 배치해야 함"
   ]
  },
  {
   "cell_type": "code",
   "execution_count": 106,
   "id": "9b98bad6",
   "metadata": {},
   "outputs": [
    {
     "data": {
      "text/plain": [
       "[0, 1, 2, 3, 4, 5, 6, 7, 8, 9]"
      ]
     },
     "execution_count": 106,
     "metadata": {},
     "output_type": "execute_result"
    }
   ],
   "source": [
    "[i for i in range(10)]"
   ]
  },
  {
   "cell_type": "code",
   "execution_count": 108,
   "id": "b7f28eac",
   "metadata": {},
   "outputs": [
    {
     "data": {
      "text/plain": [
       "[0, '홀수', 2, '홀수', 4, '홀수', 6, '홀수', 8, '홀수']"
      ]
     },
     "execution_count": 108,
     "metadata": {},
     "output_type": "execute_result"
    }
   ],
   "source": [
    "# 짝수면 가져오고, 홀수면 '홀수' 출력\n",
    "# [i for i in range(10) if i % 2 == 0 else '홀수'] (X)\n",
    "\n",
    "[i if i % 2 == 0 else '홀수' for i in range(10)]"
   ]
  },
  {
   "cell_type": "markdown",
   "id": "6f92881b",
   "metadata": {},
   "source": [
    "## Quiz. brown 정제하기"
   ]
  },
  {
   "cell_type": "code",
   "execution_count": 109,
   "id": "3029edf7",
   "metadata": {},
   "outputs": [
    {
     "data": {
      "text/plain": [
       "['adventure',\n",
       " 'belles_lettres',\n",
       " 'editorial',\n",
       " 'fiction',\n",
       " 'government',\n",
       " 'hobbies',\n",
       " 'humor',\n",
       " 'learned',\n",
       " 'lore',\n",
       " 'mystery',\n",
       " 'news',\n",
       " 'religion',\n",
       " 'reviews',\n",
       " 'romance',\n",
       " 'science_fiction']"
      ]
     },
     "execution_count": 109,
     "metadata": {},
     "output_type": "execute_result"
    }
   ],
   "source": [
    "brown.categories()"
   ]
  },
  {
   "cell_type": "code",
   "execution_count": 115,
   "id": "ddbebf02",
   "metadata": {},
   "outputs": [
    {
     "data": {
      "text/plain": [
       "\"\\n\\n\\tThey/ppss neither/cc liked/vbd nor/cc disliked/vbd the/at Old/jj-tl Man/nn-tl ./.\\nTo/in them/ppo he/pps could/md have/hv been/ben the/at broken/vbn bell/nn in/in the/at church/nn tower/nn which/wdt rang/vbd before/in and/cc after/in Mass/nn-tl ,/, and/cc at/in noon/nn ,/, and/cc at/in six/cd each/dt evening/nn --/-- its/pp$ tone/nn ,/, repetitive/jj ,/, monotonous/jj ,/, never/rb breaking/vbg the/at boredom/nn of/in the/at streets/nns ./.\\nThe/at Old/jj-tl Man/nn-tl was/bedz unimportant/jj ./.\\n\\n\\n\\tYet/rb if/cs he/pps were/bed not/* there/rb ,/, they/ppss would/md have/hv missed/vbn him/ppo ,/, as/cs they/ppss would/md have/hv missed/vbn the/at sounds/nns of/in bees/nns buzzing/vbg against/in the/at screen/nn door/nn in/in early/jj June/np ;/. ;/.\\nor/cc the/at smell/nn of/in thick/jj tomato/nn paste/nn --/-- the/at ripe/jj smell/nn that/wps was/bedz both/abx sweet/jj and/cc sour/jj --/-- rising/vbg up/rp from/in aluminum/nn trays/nns wrapped/vbn in/in fly-dotted/jj cheesecloth/nn ./.\\nOr/cc the/at surging/vbg whirling/vbg sounds/nns of/in bats/nns at/in night/nn ,/, when/wrb their/pp$ black/jj bodies/nns dived/vbd into/in the/at blackness/nn above/in and/cc below/in the/at amber/jj street/nn lights/nns ./.\\nOr/cc the/at bay/nn of/in female/nn dogs/nns in/in heat/nn ./.\\n\\n\\n\\tThey/ppss never/rb called/vbd him/ppo by/in name/nn ,/, although/cs he/pps had/hvd one/pn ./.\\nFilippo/np Rossi/np ,/, that's/dt+bez what/wdt he/pps was/bedz called/vbn in/in the/at old/jj country/nn ;/. ;/.\\nbut/cc here/rb he/pps was/bedz just/rb Signore/np or/cc the/at Old/jj-tl Man/nn-tl ./.\\nBut/cc this/dt was/bedz not/* unusual/jj ,/, because/cs youth/nn in/in these/dts quarters/nns was/bedz always/rb pushed/vbn at/in a/at distance/nn from/in its/pp$ elders/nns ./.\\nYouth/nn obeyed/vbd when/wrb commanded/vbn ./.\\nIt/pps went/vbd to/in church/nn on/in Sunday/nr and/cc one/cd Saturday/nr a/at month/nn went/vbd to/in confession/nn ./.\\nBut/cc youth/nn asked/vbd nothing/pn of/in its/pp$ parents/nns --/-- not/* a/at touch/nn of/in the/at hand/nn or/cc a/at kiss/nn given/vbn in/in passing/vbg ./.\\n\\n\\n\\tThe/at only/ap thing/nn unusual/jj about/in the/at Old/jj-tl Man/nn-tl had/hvd long/jj since/rb happened/vbn ./.\\nBut/cc the/at past/nn was/bedz dead/jj here/rb as/cs the/at present/jj was/bedz dead/jj ./.\\nOnce/cs the/at Old/jj-tl Man/nn-tl had/hvd had/hvn a/at wife/nn ./.\\nAnd/cc once/cs she/pps ,/, too/rb ,/, ignored/vbd him/ppo ./.\\nWith/in a/at tiny/jj fur-piece/nn wrapped/vbd around/in her/pp$ shoulders/nns ,/, she/pps wiggled/vbd her/pp$ satin-covered/jj buttocks/nns down/in the/at street/nn before/in him/ppo and/cc didn't/dod* stop/vb ./.\\nIn/in one/cd hand/nn she/pps clutched/vbd a/at hundred/cd dollar/nn bill/nn and/cc in/in the/at other/ap a/at straw/nn suitcase/nn ./.\\nThe/at way/nn she/pps strutted/vbd down/in the/at street/nn ,/, the/at Old/jj-tl Man/nn-tl would/md have/hv been/ben blind/jj not/* to/to have/hv noticed/vbn both/abx ./.\\nWithout/in looking/vbg at/in him/ppo ,/, without/in looking/vbg at/in anything/pn except/in Drexel/np-tl Street/nn-tl directly/rb in/in front/nn of/in her/ppo ,/, she/pps climbed/vbd up/rp into/in one/cd of/in those/dts orange/jj streetcars/nns ,/, rode/vbd away/rb in/in it/ppo ,/, and/cc never/rb came/vbd back/rb ./.\\n\\n\\n\\t``/`` But/cc she/pps shouldn't/md* have/hv come/vbn here/rb in/in the/at first/od place/nn ''/'' ,/, the/at women/nns had/hvd said/vbn ./.\\n\\n\\n\\t``/`` No/rb ,/, no/rb ./.\\nNot/* that/dt one/pn ./.\\nShe/pps thought/vbd she/pps was/bedz bigger/jjr than/cs we/ppss are/ber because/cs she/pps came/vbd from/in Torino/np ''/'' ./.\\n\\n\\n\\t``/`` Eh/uh ,/, Torino/np !/. !/.\\nShe/pps gave/vbd herself/ppl fancy/jj airs/nns !/. !/.\\nJust/rb because/cs she/pps had/hvd a/at part/nn on/in the/at stage/nn in/in the/at old/jj country/nn ,/, she/pps thought/vbd she/pps could/md carry/vb her/pp$ head/nn higher/rbr than/cs ours/pp$$ ''/'' ./.\\nThey/ppss had/hvd slapped/vbn their/pp$ thighs/nns ./.\\n\\n\\n\\t``/`` It's/pps+bez not/* for/in making/vbg pretty/jj speeches/nns about/in Dante/np those/dts actresses/nns get/vb paid/vbn so/ql good/rb ''/'' ./.\\n\\n\\n\\t``/`` Henh/uh ''/'' !/. !/.\\nCalloused/vbn fingers/nns ,/, caressed/vbn only/rb by/in the/at smoothness/nn of/in polished/vbn rosaries/nns ,/, had/hvd swayed/vbn excitedly/rb beneath/in puckered/vbn chins/nns where/wrb tiny/jj black/jj hairs/nns sprouted/vbd ,/, never/rb to/to be/be tweezed/vbn away/rb ./.\\nMauve-colored/jj mouths/nns that/wps had/hvd never/rb known/vbn anything/pn sweeter/jjr than/cs the/at taste/nn of/in new/jj wine/nn and/cc the/at passion/nn of/in man's/nn$ tongue/nn had/hvd not/* smiled/vbn ,/, but/cc had/hvd condemned/vbn again/rb and/cc again/rb ./.\\n``/`` Puttana/fw-nn ''/'' !/. !/.\\n\\n\\n\\tBut/cc if/cs the/at Old/jj-tl Man/nn-tl even/rb thought/vbd about/in his/pp$ wife/nn now/rb ,/, nobody/pn cared/vbd a/at fig/nn ./.\\nIt/pps was/bedz enough/ap for/in people/nns to/to know/vb that/cs at/in one/cd time/nn he/pps had/hvd looked/vbn down/in the/at street/nn at/in the/at f\""
      ]
     },
     "execution_count": 115,
     "metadata": {},
     "output_type": "execute_result"
    }
   ],
   "source": [
    "brown.raw(categories='romance')[:5000] # [['They', 'neither', 'liked', ...], []]\n",
    "# 문장 분절 -> 단어 분절\n",
    "# 문장부호, POS 제거\n",
    "# 's, n't (she's -> she, 's) (don't -> don 't)\n",
    "# 'fly-dotted' -> fly, dotted"
   ]
  },
  {
   "cell_type": "code",
   "execution_count": null,
   "id": "395b0faa",
   "metadata": {},
   "outputs": [],
   "source": []
  }
 ],
 "metadata": {
  "kernelspec": {
   "display_name": "Python 3 (ipykernel)",
   "language": "python",
   "name": "python3"
  },
  "language_info": {
   "codemirror_mode": {
    "name": "ipython",
    "version": 3
   },
   "file_extension": ".py",
   "mimetype": "text/x-python",
   "name": "python",
   "nbconvert_exporter": "python",
   "pygments_lexer": "ipython3",
   "version": "3.9.7"
  }
 },
 "nbformat": 4,
 "nbformat_minor": 5
}
