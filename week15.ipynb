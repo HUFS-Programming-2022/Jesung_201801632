{
 "cells": [
  {
   "cell_type": "markdown",
   "id": "eb374cec",
   "metadata": {},
   "source": [
    "# 🔔Week15"
   ]
  },
  {
   "cell_type": "markdown",
   "id": "f6e97372",
   "metadata": {},
   "source": [
    "## 파일과 디렉터리\n",
    "- 파일: 컴퓨터를 실행할 때 가장 기본이 되는 단위\n",
    "- 디렉터리: 폴더, 파일을 논리적으로 묶어놓은 단위\n",
    "    - 지빠구리: a, b, c, ...\n",
    "- 파일 = 파일명 + 확장자(.txt, .csv, ...)\n",
    "- 바이너리, 텍스트\n",
    "    - 바이너리: 엑셀, 워드, ...  (프로그램이 있어야 열람 가능)\n",
    "    - 텍스트: 바이너리 -> 문자로 변환 (어디서나 열람 가능)\n",
    "        - 메모장, python, html, ...\n",
    "        - 기준: 아스키코드, 유니코드 제정 (\"인코딩\")\n",
    "        - utf-8\n",
    "        - cp494\n",
    "- f = open(파일명, 모드)\n",
    "    - r : read (default)\n",
    "    - w : write (없으면 새로 만들고 있으면 덮어쓴다)\n",
    "    - a : add (기존 파일 마지막에 추가)\n",
    "    - x : write (없을 때만 쓸 수 있게)\n",
    "    \n",
    "    - b : 바이너리\n",
    "    - t : (default) 텍스트\n",
    "        - rb, rt, .."
   ]
  },
  {
   "cell_type": "markdown",
   "id": "554b4536",
   "metadata": {},
   "source": [
    "### 읽기"
   ]
  },
  {
   "cell_type": "code",
   "execution_count": 7,
   "id": "f1cf9ca1",
   "metadata": {},
   "outputs": [],
   "source": [
    "f = open('test.txt', 'r')\n",
    "data = f.read()"
   ]
  },
  {
   "cell_type": "code",
   "execution_count": 8,
   "id": "6d996cc8",
   "metadata": {},
   "outputs": [
    {
     "data": {
      "text/plain": [
       "'hello world'"
      ]
     },
     "execution_count": 8,
     "metadata": {},
     "output_type": "execute_result"
    }
   ],
   "source": [
    "data"
   ]
  },
  {
   "cell_type": "code",
   "execution_count": 9,
   "id": "c03e70fd",
   "metadata": {},
   "outputs": [],
   "source": [
    "f.close() # 자원 해제 -> 다른 프로그램에서 동시에 호출하면 에러 발생"
   ]
  },
  {
   "cell_type": "markdown",
   "id": "d9951164",
   "metadata": {},
   "source": [
    "with open(파일, 모드) as f:\n",
    "    .... open함수 기능이 유지되는 블록\n",
    "    data = f.read()\n",
    "자원 해제됨 (자동)"
   ]
  },
  {
   "cell_type": "code",
   "execution_count": 14,
   "id": "55292756",
   "metadata": {},
   "outputs": [
    {
     "data": {
      "text/plain": [
       "['hello world', \"I'm reading a book.\"]"
      ]
     },
     "execution_count": 14,
     "metadata": {},
     "output_type": "execute_result"
    }
   ],
   "source": [
    "with open('test.txt', 'r') as f:\n",
    "    data = f.readlines()\n",
    "    # 텍스트 정제\n",
    "    data = [line.strip() for line in data]\n",
    "data"
   ]
  },
  {
   "cell_type": "code",
   "execution_count": null,
   "id": "5fc07454",
   "metadata": {},
   "outputs": [],
   "source": [
    "# read(): str\n",
    "# readline(): 한줄씩\n",
    "# readlines(): 전체를 한줄씩 str으로 담아서 list로"
   ]
  },
  {
   "cell_type": "code",
   "execution_count": null,
   "id": "fb611735",
   "metadata": {},
   "outputs": [],
   "source": [
    "# . : 현재 위치\n",
    "# .. : 상위 디렉터리"
   ]
  },
  {
   "cell_type": "code",
   "execution_count": 17,
   "id": "7e75c2aa",
   "metadata": {},
   "outputs": [],
   "source": [
    "file = '../test2.txt'\n",
    "\n",
    "with open(file) as f:\n",
    "    f.read()"
   ]
  },
  {
   "cell_type": "markdown",
   "id": "d0df2a59",
   "metadata": {},
   "source": [
    "### 쓰기"
   ]
  },
  {
   "cell_type": "code",
   "execution_count": 26,
   "id": "aa1a5f38",
   "metadata": {},
   "outputs": [],
   "source": [
    "file = 'test3.txt'\n",
    "\n",
    "f = open(file, 'w', encoding='utf-8')"
   ]
  },
  {
   "cell_type": "code",
   "execution_count": 27,
   "id": "b5158264",
   "metadata": {},
   "outputs": [],
   "source": [
    "for i in range(10):\n",
    "    data = f'{i + 1}번째 줄입니다.\\n'\n",
    "    f.write(data)"
   ]
  },
  {
   "cell_type": "code",
   "execution_count": 28,
   "id": "88c71f11",
   "metadata": {},
   "outputs": [],
   "source": [
    "f.close()"
   ]
  },
  {
   "cell_type": "code",
   "execution_count": 29,
   "id": "a9e96cfb",
   "metadata": {},
   "outputs": [],
   "source": [
    "f = open(file, 'a', encoding='utf-8')\n",
    "print('새로운 줄 추가', file=f) # 프린트에서도 간단하게 추가 가능\n",
    "f.close()"
   ]
  },
  {
   "cell_type": "markdown",
   "id": "e0aa1705",
   "metadata": {},
   "source": [
    "### 다른 디렉토리에 파일 쓰기\n",
    "os"
   ]
  },
  {
   "cell_type": "code",
   "execution_count": 30,
   "id": "ac5a1827",
   "metadata": {},
   "outputs": [],
   "source": [
    "import os"
   ]
  },
  {
   "cell_type": "code",
   "execution_count": 32,
   "id": "93c4906d",
   "metadata": {},
   "outputs": [],
   "source": [
    "# folder 만들고\n",
    "os.mkdir('folder1')\n",
    "# 파일 쓰기"
   ]
  },
  {
   "cell_type": "code",
   "execution_count": 34,
   "id": "88d4ead5",
   "metadata": {},
   "outputs": [],
   "source": [
    "file = './folder1/test4.txt'\n",
    "f = open(file, 'w', encoding='utf-8')\n",
    "f.close()"
   ]
  },
  {
   "cell_type": "code",
   "execution_count": null,
   "id": "c2ec000b",
   "metadata": {},
   "outputs": [],
   "source": [
    "# 없을 때 만들어라\n",
    "if not os.path.isdir('folder1'):\n",
    "    os.mkdir('folder1')"
   ]
  },
  {
   "cell_type": "code",
   "execution_count": 35,
   "id": "c1db9fa6",
   "metadata": {},
   "outputs": [
    {
     "data": {
      "text/plain": [
       "True"
      ]
     },
     "execution_count": 35,
     "metadata": {},
     "output_type": "execute_result"
    }
   ],
   "source": [
    "os.path.exists(file) # assert"
   ]
  },
  {
   "cell_type": "code",
   "execution_count": null,
   "id": "2bd36392",
   "metadata": {},
   "outputs": [],
   "source": [
    "os.remove(file) # 파일 지우기\n",
    "os.rmdir(dir_name) # 디렉토리 지우기"
   ]
  },
  {
   "cell_type": "code",
   "execution_count": null,
   "id": "284f905c",
   "metadata": {},
   "outputs": [],
   "source": [
    "# pickle\n",
    "- 객체를 저장, 불러들일 수 있다.\n",
    "- 저장: pickle.dump(변수, 파일명)\n",
    "- 열기: 변수명 = pickle.load(파일)"
   ]
  },
  {
   "cell_type": "code",
   "execution_count": 36,
   "id": "38e15eb4",
   "metadata": {},
   "outputs": [],
   "source": [
    "import pickle"
   ]
  },
  {
   "cell_type": "code",
   "execution_count": 37,
   "id": "d7aab900",
   "metadata": {},
   "outputs": [
    {
     "data": {
      "text/plain": [
       "[0, 1, 2, 3, 4, 5, 6, 7, 8, 9]"
      ]
     },
     "execution_count": 37,
     "metadata": {},
     "output_type": "execute_result"
    }
   ],
   "source": [
    "num = list(range(10))\n",
    "num"
   ]
  },
  {
   "cell_type": "code",
   "execution_count": 38,
   "id": "f281d0ab",
   "metadata": {},
   "outputs": [],
   "source": [
    "f = open('test.pickle', 'wb')\n",
    "pickle.dump(num, f) # 저장\n",
    "f.close()"
   ]
  },
  {
   "cell_type": "code",
   "execution_count": 40,
   "id": "9387629f",
   "metadata": {},
   "outputs": [],
   "source": [
    "with open('test.pickle', 'rb') as f:\n",
    "    number = pickle.load(f)"
   ]
  },
  {
   "cell_type": "code",
   "execution_count": 41,
   "id": "7667712e",
   "metadata": {},
   "outputs": [
    {
     "data": {
      "text/plain": [
       "[0, 1, 2, 3, 4, 5, 6, 7, 8, 9]"
      ]
     },
     "execution_count": 41,
     "metadata": {},
     "output_type": "execute_result"
    }
   ],
   "source": [
    "number"
   ]
  },
  {
   "cell_type": "code",
   "execution_count": null,
   "id": "72f4a073",
   "metadata": {},
   "outputs": [],
   "source": []
  }
 ],
 "metadata": {
  "kernelspec": {
   "display_name": "Python 3 (ipykernel)",
   "language": "python",
   "name": "python3"
  },
  "language_info": {
   "codemirror_mode": {
    "name": "ipython",
    "version": 3
   },
   "file_extension": ".py",
   "mimetype": "text/x-python",
   "name": "python",
   "nbconvert_exporter": "python",
   "pygments_lexer": "ipython3",
   "version": "3.9.7"
  }
 },
 "nbformat": 4,
 "nbformat_minor": 5
}
